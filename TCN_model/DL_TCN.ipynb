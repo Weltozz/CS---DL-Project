{
 "cells": [
  {
   "metadata": {},
   "cell_type": "markdown",
   "source": [
    "# Notebook: TCN Model Training and Evaluation\n",
    "\n",
    "In this notebook, we will load the stock data, preprocess it, build and train a TCN-based model (using our hybrid functions), and then evaluate and plot the results. All functions are imported from the `DL_TCN` module.\n",
    "\n",
    "## 1. Importing Libraries and Module\n",
    "\n",
    "First, we import the required libraries and the module containing our functions.\n"
   ],
   "id": "21d666887653535f"
  },
  {
   "metadata": {
    "ExecuteTime": {
     "end_time": "2025-02-20T15:16:40.686255Z",
     "start_time": "2025-02-20T15:16:40.251638Z"
    }
   },
   "cell_type": "code",
   "source": [
    "import numpy as np\n",
    "import pandas as pd\n",
    "import matplotlib.pyplot as plt\n",
    "import tensorflow as tf\n",
    "\n",
    "from sklearn.preprocessing import MinMaxScaler\n",
    "from tensorflow.keras.callbacks import EarlyStopping, ReduceLROnPlateau\n",
    "\n",
    "# Import our functions from our module (DL_TCN.py)\n",
    "import DL_TCN\n"
   ],
   "id": "de50817e1d22854d",
   "outputs": [
    {
     "ename": "ModuleNotFoundError",
     "evalue": "No module named 'DL_TCN'",
     "output_type": "error",
     "traceback": [
      "\u001B[0;31m---------------------------------------------------------------------------\u001B[0m",
      "\u001B[0;31mModuleNotFoundError\u001B[0m                       Traceback (most recent call last)",
      "Cell \u001B[0;32mIn[13], line 10\u001B[0m\n\u001B[1;32m      7\u001B[0m \u001B[38;5;28;01mfrom\u001B[39;00m \u001B[38;5;21;01mtensorflow\u001B[39;00m\u001B[38;5;21;01m.\u001B[39;00m\u001B[38;5;21;01mkeras\u001B[39;00m\u001B[38;5;21;01m.\u001B[39;00m\u001B[38;5;21;01mcallbacks\u001B[39;00m \u001B[38;5;28;01mimport\u001B[39;00m EarlyStopping, ReduceLROnPlateau\n\u001B[1;32m      9\u001B[0m \u001B[38;5;66;03m# Import our functions from our module (DL_TCN.py)\u001B[39;00m\n\u001B[0;32m---> 10\u001B[0m \u001B[38;5;28;01mimport\u001B[39;00m \u001B[38;5;21;01mDL_TCN\u001B[39;00m\n",
      "\u001B[0;31mModuleNotFoundError\u001B[0m: No module named 'DL_TCN'"
     ]
    }
   ],
   "execution_count": 13
  },
  {
   "metadata": {},
   "cell_type": "markdown",
   "source": [
    "## 2. Data Loading\n",
    "\n",
    "We load our stock market data from a CSV file and extract the \"close\" price column.\n"
   ],
   "id": "7dfcee9438defb82"
  },
  {
   "metadata": {},
   "cell_type": "code",
   "outputs": [],
   "execution_count": null,
   "source": [
    "# Load CSV data\n",
    "df = pd.read_csv(\"Datasets/NASDAQ_100.csv\")\n",
    "\n",
    "# Extract the 'close' column and reshape to (num_samples, 1)\n",
    "close_prices = df['close'].values.reshape(-1, 1)\n",
    "\n",
    "print(\"Data shape:\", close_prices.shape)\n"
   ],
   "id": "f7ce07644e7f5fe2"
  },
  {
   "metadata": {},
   "cell_type": "markdown",
   "source": [
    "## 3. Data Preprocessing\n",
    "\n",
    "Next, we normalize the close prices using a MinMaxScaler.\n"
   ],
   "id": "cbb313bed44a1a73"
  },
  {
   "metadata": {},
   "cell_type": "code",
   "outputs": [],
   "execution_count": null,
   "source": [
    "# Initialize and fit the scaler\n",
    "scaler = MinMaxScaler()\n",
    "scaled_prices = scaler.fit_transform(close_prices)\n",
    "\n",
    "# Check a few values\n",
    "print(\"Scaled prices (first 5 rows):\")\n",
    "print(scaled_prices[:5])\n"
   ],
   "id": "22aa2f53cb080759"
  },
  {
   "metadata": {},
   "cell_type": "markdown",
   "source": [
    "## 4. Creating Sequences\n",
    "\n",
    "We use a sliding window approach to create input sequences and corresponding targets.\n",
    "Here, we use a sequence length of 1000 days to predict the following day.\n"
   ],
   "id": "5e8505531d040e1a"
  },
  {
   "metadata": {},
   "cell_type": "code",
   "outputs": [],
   "execution_count": null,
   "source": [
    "# Set sequence length (number of input days)\n",
    "sequence_length = 1000\n",
    "\n",
    "# Create sequences using the function from DL_TCN\n",
    "X, y = DL_TCN.CREATE_SEQUENCES(scaled_prices, sequence_length=sequence_length)\n",
    "print(\"Shape of X:\", X.shape)\n",
    "print(\"Shape of y:\", y.shape)\n"
   ],
   "id": "8ff1cccbbd1c6943"
  },
  {
   "metadata": {},
   "cell_type": "markdown",
   "source": [
    "## 5. Splitting the Dataset\n",
    "\n",
    "We split the data into training (70%), validation (15%), and test (15%) sets.\n"
   ],
   "id": "e6abf6f97cc5455e"
  },
  {
   "metadata": {},
   "cell_type": "code",
   "outputs": [],
   "execution_count": null,
   "source": [
    "# Determine split sizes\n",
    "train_size = int(len(X) * 0.7)\n",
    "val_size = int(len(X) * 0.15)\n",
    "\n",
    "# Create train, validation, and test splits\n",
    "X_train, y_train = X[:train_size], y[:train_size]\n",
    "X_val, y_val = X[train_size:train_size+val_size], y[train_size:train_size+val_size]\n",
    "X_test, y_test = X[train_size+val_size:], y[train_size+val_size:]\n",
    "\n",
    "print(\"Train shapes:\", X_train.shape, y_train.shape)\n",
    "print(\"Validation shapes:\", X_val.shape, y_val.shape)\n",
    "print(\"Test shapes:\", X_test.shape, y_test.shape)\n"
   ],
   "id": "af39ece9cee9b1c4"
  },
  {
   "metadata": {},
   "cell_type": "markdown",
   "source": [
    "## 6. Building the Model\n",
    "\n",
    "We build our hybrid TCN+LSTM model using the function from the module.  \n",
    "Our model takes sequences of shape (sequence_length, 1) and predicts a single value.\n"
   ],
   "id": "9ac2e20705d730ee"
  },
  {
   "metadata": {},
   "cell_type": "code",
   "outputs": [],
   "execution_count": null,
   "source": [
    "# Build the model using the function from DL_TCN\n",
    "model = DL_TCN.NN_MODEL(input_shape=(sequence_length, 1), learning_rate=0.0005)\n",
    "model.summary()\n"
   ],
   "id": "768904dd56d6edc0"
  },
  {
   "metadata": {},
   "cell_type": "markdown",
   "source": [
    "## 7. Training the Model\n",
    "\n",
    "We train the model using EarlyStopping and ReduceLROnPlateau to avoid overfitting.\n"
   ],
   "id": "b224b4b148ea6366"
  },
  {
   "metadata": {},
   "cell_type": "code",
   "outputs": [],
   "execution_count": null,
   "source": [
    "# Define callbacks\n",
    "early_stopping = EarlyStopping(monitor='val_loss', patience=10, restore_best_weights=True)\n",
    "reduce_lr = ReduceLROnPlateau(monitor='val_loss', factor=0.5, patience=5, verbose=1)\n",
    "\n",
    "# Train the model\n",
    "history = model.fit(\n",
    "    X_train, y_train,\n",
    "    epochs=100,\n",
    "    batch_size=16,\n",
    "    validation_data=(X_val, y_val),\n",
    "    callbacks=[early_stopping, reduce_lr]\n",
    ")\n"
   ],
   "id": "f088f438fe5fc028"
  },
  {
   "metadata": {},
   "cell_type": "markdown",
   "source": [
    "## 8. Plotting the Training Loss\n",
    "\n",
    "We now plot the training and validation loss curves (MSE) over epochs.\n"
   ],
   "id": "1e1757a8c5e33041"
  },
  {
   "metadata": {},
   "cell_type": "code",
   "outputs": [],
   "execution_count": null,
   "source": [
    "plt.figure(figsize=(10, 5))\n",
    "plt.plot(history.history['loss'], label='Train Loss')\n",
    "plt.plot(history.history['val_loss'], label='Validation Loss')\n",
    "plt.xlabel('Epoch')\n",
    "plt.ylabel('MSE')\n",
    "plt.title('Loss over Epochs (TCN Model)')\n",
    "plt.legend()\n",
    "plt.yscale(\"log\")  # Use log scale to better visualize small values\n",
    "plt.show()\n"
   ],
   "id": "3dc3c92d495bbb8e"
  },
  {
   "metadata": {},
   "cell_type": "markdown",
   "source": [
    "## 9. Model Evaluation and Predictions\n",
    "\n",
    "Next, we evaluate the model on the test set and predict closing prices.\n"
   ],
   "id": "4357e3cc36e56864"
  },
  {
   "metadata": {},
   "cell_type": "code",
   "outputs": [],
   "execution_count": null,
   "source": [
    "# Evaluate on test set\n",
    "test_loss = model.evaluate(X_test, y_test)\n",
    "print(\"Test Loss:\", test_loss)\n",
    "\n",
    "# Make predictions on the test set\n",
    "y_pred_scaled = model.predict(X_test)\n"
   ],
   "id": "6d2ec1b660d3c9d4"
  },
  {
   "metadata": {},
   "cell_type": "markdown",
   "source": [
    "## 10. Inverse Scaling and Metrics Calculation\n",
    "\n",
    "We inverse the scaling to get the original closing price values, then calculate performance metrics (R², MAE, etc.).\n"
   ],
   "id": "31c9973e357ed4df"
  },
  {
   "metadata": {},
   "cell_type": "code",
   "outputs": [],
   "execution_count": null,
   "source": [
    "# Inverse transform the predictions and true values\n",
    "y_test_unscaled = scaler.inverse_transform(y_test)\n",
    "y_pred_unscaled = scaler.inverse_transform(y_pred_scaled)\n",
    "\n",
    "# Calculate metrics using functions from scikit-learn\n",
    "from sklearn.metrics import r2_score, mean_absolute_error, mean_absolute_percentage_error\n",
    "\n",
    "rmse = np.sqrt(np.mean((y_test_unscaled - y_pred_unscaled) ** 2))\n",
    "mae = mean_absolute_error(y_test_unscaled, y_pred_unscaled)\n",
    "r2 = r2_score(y_test_unscaled, y_pred_unscaled)\n",
    "mape = mean_absolute_percentage_error(y_test_unscaled, y_pred_unscaled) * 100\n",
    "accuracy = DL_TCN.ACCURACY_5(y_test_unscaled, y_pred_unscaled)\n",
    "\n",
    "print(\"----- Test Set Performance -----\")\n",
    "print(f\"RMSE: {rmse:.4f}\")\n",
    "print(f\"MAE: {mae:.4f}\")\n",
    "print(f\"R²: {r2:.4f}\")\n",
    "print(f\"Accuracy (5% tolerance): {accuracy:.2f}%\")\n",
    "print(f\"MAPE: {mape:.2f}%\")\n"
   ],
   "id": "9f4c89e76d5d295d"
  },
  {
   "metadata": {},
   "cell_type": "markdown",
   "source": [
    "## 11. Plotting Predictions vs. Real Values\n",
    "\n",
    "Finally, we plot the predictions against the real closing prices for the first 100 test samples.\n"
   ],
   "id": "e8311f0a1cca29a5"
  },
  {
   "metadata": {},
   "cell_type": "code",
   "outputs": [],
   "execution_count": null,
   "source": [
    "n_plot = 100\n",
    "plt.figure(figsize=(10, 5))\n",
    "plt.plot(y_test_unscaled[:n_plot], label='Real Price')\n",
    "plt.plot(y_pred_unscaled[:n_plot], label='Predicted Price')\n",
    "plt.xlabel(\"Test Sample Index\")\n",
    "plt.ylabel(\"Closing Price\")\n",
    "plt.title(\"TCN Model Predictions vs. Real Values\")\n",
    "plt.legend()\n",
    "plt.show()\n"
   ],
   "id": "202cd8c8615f8cae"
  }
 ],
 "metadata": {
  "kernelspec": {
   "display_name": "Python 3",
   "language": "python",
   "name": "python3"
  },
  "language_info": {
   "codemirror_mode": {
    "name": "ipython",
    "version": 2
   },
   "file_extension": ".py",
   "mimetype": "text/x-python",
   "name": "python",
   "nbconvert_exporter": "python",
   "pygments_lexer": "ipython2",
   "version": "2.7.6"
  }
 },
 "nbformat": 4,
 "nbformat_minor": 5
}
