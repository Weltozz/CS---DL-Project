{
 "cells": [
  {
   "metadata": {},
   "cell_type": "markdown",
   "source": [
    "# Notebook: TCN Model Training and Evaluation\n",
    "\n",
    "In this notebook, we will load the stock data, preprocess it, build and train a TCN-based model (using our hybrid functions), and then evaluate and plot the results. All functions are imported from the `DL_TCN` module.\n",
    "\n",
    "## 1. Importing Libraries and Module\n",
    "\n",
    "First, we import the required libraries and the module containing our functions.\n"
   ],
   "id": "21d666887653535f"
  },
  {
   "metadata": {
    "ExecuteTime": {
     "end_time": "2025-02-20T18:51:42.063191Z",
     "start_time": "2025-02-20T18:51:42.051721Z"
    }
   },
   "cell_type": "code",
   "source": [
    "import numpy as np\n",
    "import pandas as pd\n",
    "import matplotlib.pyplot as plt\n",
    "import tensorflow as tf\n",
    "\n",
    "from sklearn.preprocessing import StandardScaler\n",
    "from tensorflow.keras.callbacks import EarlyStopping, ReduceLROnPlateau\n",
    "from tensorflow.keras import layers, models, Input, Model, regularizers\n",
    "from tensorflow.keras.layers import Dropout\n",
    "from tcn import TCN"
   ],
   "id": "de50817e1d22854d",
   "outputs": [],
   "execution_count": 154
  },
  {
   "metadata": {
    "ExecuteTime": {
     "end_time": "2025-02-20T18:51:42.072276Z",
     "start_time": "2025-02-20T18:51:42.067635Z"
    }
   },
   "cell_type": "code",
   "source": [
    "def R2(y_true, y_pred):\n",
    "    ss_res = tf.reduce_sum(\n",
    "        tf.square(y_true - y_pred)\n",
    "    )\n",
    "    ss_tot = tf.reduce_sum(\n",
    "        tf.square(y_true - tf.reduce_mean(y_true))\n",
    "    )\n",
    "    \n",
    "    return 1 - ss_res / ss_tot\n",
    "\n",
    "\n",
    "def ACCURACY_5(y_true, y_pred):\n",
    "    # Erreur relative : |y_true - y_pred| / (|y_true| + epsilon) on evite les divisions par 0\n",
    "    error = tf.abs(\n",
    "        (y_true - y_pred) / (tf.abs(y_true))\n",
    "    )\n",
    "    correct = tf.cast(\n",
    "        error <= 0.05,\n",
    "        tf.float32\n",
    "    )\n",
    "\n",
    "    return tf.reduce_mean(correct)\n",
    "\n",
    "def CREATE_SEQUENCES(values, sequence_length=60):\n",
    "    X, y = [], []\n",
    "    \n",
    "    for i in range(sequence_length, len(values)):\n",
    "        X_window = values[i - sequence_length: i]\n",
    "        y_value = values[i] \n",
    "        X.append(X_window)\n",
    "        y.append(y_value)\n",
    "        \n",
    "    X = np.array(X)\n",
    "    y = np.array(y).reshape(-1, 1)\n",
    "    \n",
    "    return X, y\n",
    "\n",
    "def NN_MODEL(input_shape, learning_rate=0.0005):\n",
    "    model = models.Sequential([\n",
    "        layers.Input(shape=input_shape),\n",
    "        \n",
    "        TCN(\n",
    "            nb_filters=8,\n",
    "            kernel_size=3,\n",
    "            nb_stacks=1,\n",
    "            dilations=[1, 2, 4, 8, 32],\n",
    "            padding='causal',\n",
    "            dropout_rate=0.2,\n",
    "            return_sequences=False\n",
    "        ),\n",
    "        \n",
    "        layers.Dense(1)\n",
    "    ])\n",
    "\n",
    "    optimizer = tf.keras.optimizers.Adam(learning_rate=learning_rate)\n",
    "    \n",
    "    model.compile(\n",
    "        optimizer=optimizer,\n",
    "        loss='mean_squared_error',\n",
    "        metrics=[\n",
    "            'mean_absolute_error', \n",
    "            R2, \n",
    "            ACCURACY_5\n",
    "        ]\n",
    "    )\n",
    "    \n",
    "    return model"
   ],
   "id": "5bebe178ba90dcca",
   "outputs": [],
   "execution_count": 155
  },
  {
   "metadata": {},
   "cell_type": "markdown",
   "source": [
    "## 2. Data Loading\n",
    "\n",
    "We load our stock market data from a CSV file and extract the \"close\" price column.\n"
   ],
   "id": "7dfcee9438defb82"
  },
  {
   "metadata": {
    "ExecuteTime": {
     "end_time": "2025-02-20T18:51:42.119534Z",
     "start_time": "2025-02-20T18:51:42.101605Z"
    }
   },
   "cell_type": "code",
   "source": [
    "# Load CSV data\n",
    "df = pd.read_csv(\"/Users/welto/PycharmProjects/company_brandname/technical-and-fundamental-analysis-on-stock-markets/Datasets/NASDAQ_100.csv\")\n",
    "\n",
    "# Extract the 'close' column and reshape to (num_samples, 1)\n",
    "close_prices = df['close'].values.reshape(-1, 1)\n",
    "\n",
    "print(\"Data shape:\", close_prices.shape)\n"
   ],
   "id": "f7ce07644e7f5fe2",
   "outputs": [
    {
     "name": "stdout",
     "output_type": "stream",
     "text": [
      "Data shape: (9716, 1)\n"
     ]
    }
   ],
   "execution_count": 156
  },
  {
   "metadata": {},
   "cell_type": "markdown",
   "source": [
    "## 3. Data Preprocessing\n",
    "\n",
    "Next, we normalize the close prices using a MinMaxScaler.\n"
   ],
   "id": "cbb313bed44a1a73"
  },
  {
   "metadata": {
    "ExecuteTime": {
     "end_time": "2025-02-20T18:51:42.189745Z",
     "start_time": "2025-02-20T18:51:42.184654Z"
    }
   },
   "cell_type": "code",
   "source": [
    "# Initialize and fit the scaler\n",
    "scaler = StandardScaler()\n",
    "scaled_prices = scaler.fit_transform(close_prices)\n",
    "\n",
    "# Check a few values\n",
    "print(\"Scaled prices (first 5 rows):\")\n",
    "scaled_prices[:5]\n"
   ],
   "id": "22aa2f53cb080759",
   "outputs": [
    {
     "name": "stdout",
     "output_type": "stream",
     "text": [
      "Scaled prices (first 5 rows):\n"
     ]
    },
    {
     "data": {
      "text/plain": [
       "array([[-0.77483171],\n",
       "       [-0.77496365],\n",
       "       [-0.77496365],\n",
       "       [-0.77496859],\n",
       "       [-0.77459372]])"
      ]
     },
     "execution_count": 157,
     "metadata": {},
     "output_type": "execute_result"
    }
   ],
   "execution_count": 157
  },
  {
   "metadata": {},
   "cell_type": "markdown",
   "source": [
    "## 4. Creating Sequences\n",
    "\n",
    "We use a sliding window approach to create input sequences and corresponding targets.\n",
    "Here, we use a sequence length of 1000 days to predict the following day.\n"
   ],
   "id": "5e8505531d040e1a"
  },
  {
   "metadata": {
    "ExecuteTime": {
     "end_time": "2025-02-20T18:51:42.336014Z",
     "start_time": "2025-02-20T18:51:42.309082Z"
    }
   },
   "cell_type": "code",
   "source": [
    "# Set sequence length (number of input days)\n",
    "sequence_length = 2000\n",
    "\n",
    "# Create sequences using the function from DL_TCN\n",
    "X, y = CREATE_SEQUENCES(scaled_prices, sequence_length=sequence_length)\n",
    "print(\"X shape:\", X.shape)\n",
    "print(\"y shape:\", y.shape)\n"
   ],
   "id": "8ff1cccbbd1c6943",
   "outputs": [
    {
     "name": "stdout",
     "output_type": "stream",
     "text": [
      "X shape: (7716, 2000, 1)\n",
      "y shape: (7716, 1)\n"
     ]
    }
   ],
   "execution_count": 158
  },
  {
   "metadata": {},
   "cell_type": "markdown",
   "source": [
    "## 5. Splitting the Dataset\n",
    "\n",
    "We split the data into training (70%), validation (15%), and test (15%) sets.\n"
   ],
   "id": "e6abf6f97cc5455e"
  },
  {
   "metadata": {
    "ExecuteTime": {
     "end_time": "2025-02-20T18:51:42.367013Z",
     "start_time": "2025-02-20T18:51:42.357674Z"
    }
   },
   "cell_type": "code",
   "source": [
    "# Determine split sizes\n",
    "train_size = int(len(X) * 0.7)\n",
    "val_size = int(len(X) * 0.15)\n",
    "\n",
    "# Create train, validation, and test splits\n",
    "X_train, y_train = X[:train_size], y[:train_size]\n",
    "X_val, y_val = X[train_size:train_size+val_size], y[train_size:train_size+val_size]\n",
    "X_test, y_test = X[train_size+val_size:], y[train_size+val_size:]\n",
    "\n",
    "print(\"Train shapes:\", X_train.shape, y_train.shape)\n",
    "print(\"Validation shapes:\", X_val.shape, y_val.shape)\n",
    "print(\"Test shapes:\", X_test.shape, y_test.shape)\n"
   ],
   "id": "af39ece9cee9b1c4",
   "outputs": [
    {
     "name": "stdout",
     "output_type": "stream",
     "text": [
      "Train shapes: (5401, 2000, 1) (5401, 1)\n",
      "Validation shapes: (1157, 2000, 1) (1157, 1)\n",
      "Test shapes: (1158, 2000, 1) (1158, 1)\n"
     ]
    }
   ],
   "execution_count": 159
  },
  {
   "metadata": {},
   "cell_type": "markdown",
   "source": [
    "## 6. Building the Model\n",
    "\n",
    "We build our hybrid TCN+LSTM model using the function from the module.  \n",
    "Our model takes sequences of shape (sequence_length, 1) and predicts a single value.\n"
   ],
   "id": "9ac2e20705d730ee"
  },
  {
   "metadata": {
    "ExecuteTime": {
     "end_time": "2025-02-20T18:51:42.470764Z",
     "start_time": "2025-02-20T18:51:42.392701Z"
    }
   },
   "cell_type": "code",
   "source": [
    "# Build the model using the function from DL_TCN\n",
    "model = NN_MODEL(input_shape=(sequence_length, 1), learning_rate=0.0005)\n",
    "model.summary()\n"
   ],
   "id": "768904dd56d6edc0",
   "outputs": [
    {
     "data": {
      "text/plain": [
       "\u001B[1mModel: \"sequential_15\"\u001B[0m\n"
      ],
      "text/html": [
       "<pre style=\"white-space:pre;overflow-x:auto;line-height:normal;font-family:Menlo,'DejaVu Sans Mono',consolas,'Courier New',monospace\"><span style=\"font-weight: bold\">Model: \"sequential_15\"</span>\n",
       "</pre>\n"
      ]
     },
     "metadata": {},
     "output_type": "display_data"
    },
    {
     "data": {
      "text/plain": [
       "┏━━━━━━━━━━━━━━━━━━━━━━━━━━━━━━━━━┳━━━━━━━━━━━━━━━━━━━━━━━━┳━━━━━━━━━━━━━━━┓\n",
       "┃\u001B[1m \u001B[0m\u001B[1mLayer (type)                   \u001B[0m\u001B[1m \u001B[0m┃\u001B[1m \u001B[0m\u001B[1mOutput Shape          \u001B[0m\u001B[1m \u001B[0m┃\u001B[1m \u001B[0m\u001B[1m      Param #\u001B[0m\u001B[1m \u001B[0m┃\n",
       "┡━━━━━━━━━━━━━━━━━━━━━━━━━━━━━━━━━╇━━━━━━━━━━━━━━━━━━━━━━━━╇━━━━━━━━━━━━━━━┩\n",
       "│ tcn_15 (\u001B[38;5;33mTCN\u001B[0m)                    │ (\u001B[38;5;45mNone\u001B[0m, \u001B[38;5;34m8\u001B[0m)              │         \u001B[38;5;34m1,848\u001B[0m │\n",
       "├─────────────────────────────────┼────────────────────────┼───────────────┤\n",
       "│ dense_15 (\u001B[38;5;33mDense\u001B[0m)                │ (\u001B[38;5;45mNone\u001B[0m, \u001B[38;5;34m1\u001B[0m)              │             \u001B[38;5;34m9\u001B[0m │\n",
       "└─────────────────────────────────┴────────────────────────┴───────────────┘\n"
      ],
      "text/html": [
       "<pre style=\"white-space:pre;overflow-x:auto;line-height:normal;font-family:Menlo,'DejaVu Sans Mono',consolas,'Courier New',monospace\">┏━━━━━━━━━━━━━━━━━━━━━━━━━━━━━━━━━┳━━━━━━━━━━━━━━━━━━━━━━━━┳━━━━━━━━━━━━━━━┓\n",
       "┃<span style=\"font-weight: bold\"> Layer (type)                    </span>┃<span style=\"font-weight: bold\"> Output Shape           </span>┃<span style=\"font-weight: bold\">       Param # </span>┃\n",
       "┡━━━━━━━━━━━━━━━━━━━━━━━━━━━━━━━━━╇━━━━━━━━━━━━━━━━━━━━━━━━╇━━━━━━━━━━━━━━━┩\n",
       "│ tcn_15 (<span style=\"color: #0087ff; text-decoration-color: #0087ff\">TCN</span>)                    │ (<span style=\"color: #00d7ff; text-decoration-color: #00d7ff\">None</span>, <span style=\"color: #00af00; text-decoration-color: #00af00\">8</span>)              │         <span style=\"color: #00af00; text-decoration-color: #00af00\">1,848</span> │\n",
       "├─────────────────────────────────┼────────────────────────┼───────────────┤\n",
       "│ dense_15 (<span style=\"color: #0087ff; text-decoration-color: #0087ff\">Dense</span>)                │ (<span style=\"color: #00d7ff; text-decoration-color: #00d7ff\">None</span>, <span style=\"color: #00af00; text-decoration-color: #00af00\">1</span>)              │             <span style=\"color: #00af00; text-decoration-color: #00af00\">9</span> │\n",
       "└─────────────────────────────────┴────────────────────────┴───────────────┘\n",
       "</pre>\n"
      ]
     },
     "metadata": {},
     "output_type": "display_data"
    },
    {
     "data": {
      "text/plain": [
       "\u001B[1m Total params: \u001B[0m\u001B[38;5;34m1,857\u001B[0m (7.25 KB)\n"
      ],
      "text/html": [
       "<pre style=\"white-space:pre;overflow-x:auto;line-height:normal;font-family:Menlo,'DejaVu Sans Mono',consolas,'Courier New',monospace\"><span style=\"font-weight: bold\"> Total params: </span><span style=\"color: #00af00; text-decoration-color: #00af00\">1,857</span> (7.25 KB)\n",
       "</pre>\n"
      ]
     },
     "metadata": {},
     "output_type": "display_data"
    },
    {
     "data": {
      "text/plain": [
       "\u001B[1m Trainable params: \u001B[0m\u001B[38;5;34m1,857\u001B[0m (7.25 KB)\n"
      ],
      "text/html": [
       "<pre style=\"white-space:pre;overflow-x:auto;line-height:normal;font-family:Menlo,'DejaVu Sans Mono',consolas,'Courier New',monospace\"><span style=\"font-weight: bold\"> Trainable params: </span><span style=\"color: #00af00; text-decoration-color: #00af00\">1,857</span> (7.25 KB)\n",
       "</pre>\n"
      ]
     },
     "metadata": {},
     "output_type": "display_data"
    },
    {
     "data": {
      "text/plain": [
       "\u001B[1m Non-trainable params: \u001B[0m\u001B[38;5;34m0\u001B[0m (0.00 B)\n"
      ],
      "text/html": [
       "<pre style=\"white-space:pre;overflow-x:auto;line-height:normal;font-family:Menlo,'DejaVu Sans Mono',consolas,'Courier New',monospace\"><span style=\"font-weight: bold\"> Non-trainable params: </span><span style=\"color: #00af00; text-decoration-color: #00af00\">0</span> (0.00 B)\n",
       "</pre>\n"
      ]
     },
     "metadata": {},
     "output_type": "display_data"
    }
   ],
   "execution_count": 160
  },
  {
   "metadata": {},
   "cell_type": "markdown",
   "source": [
    "## 7. Training the Model\n",
    "\n",
    "We train the model using EarlyStopping and ReduceLROnPlateau to avoid overfitting.\n"
   ],
   "id": "b224b4b148ea6366"
  },
  {
   "metadata": {
    "ExecuteTime": {
     "end_time": "2025-02-20T19:08:43.958111Z",
     "start_time": "2025-02-20T18:51:42.491260Z"
    }
   },
   "cell_type": "code",
   "source": [
    "# Define callbacks\n",
    "early_stopping = EarlyStopping(monitor='val_loss', patience=12, restore_best_weights=True)\n",
    "reduce_lr = ReduceLROnPlateau(monitor='val_loss', factor=0.5, patience=5, verbose=1)\n",
    "\n",
    "# Train the model\n",
    "history = model.fit(\n",
    "    X_train, y_train,\n",
    "    epochs=100,\n",
    "    batch_size=32,\n",
    "    validation_data=(X_val, y_val),\n",
    "    callbacks=[\n",
    "        early_stopping,\n",
    "        reduce_lr\n",
    "    ]\n",
    ")\n"
   ],
   "id": "f088f438fe5fc028",
   "outputs": [
    {
     "name": "stdout",
     "output_type": "stream",
     "text": [
      "Epoch 1/100\n",
      "\u001B[1m169/169\u001B[0m \u001B[32m━━━━━━━━━━━━━━━━━━━━\u001B[0m\u001B[37m\u001B[0m \u001B[1m11s\u001B[0m 53ms/step - accuracy_5: 0.0116 - loss: 8.8591 - mean_absolute_error: 1.8500 - r2: -171.6324 - val_accuracy_5: 0.0051 - val_loss: 1.8223 - val_mean_absolute_error: 1.1082 - val_r2: -2855.7930 - learning_rate: 5.0000e-04\n",
      "Epoch 2/100\n",
      "\u001B[1m169/169\u001B[0m \u001B[32m━━━━━━━━━━━━━━━━━━━━\u001B[0m\u001B[37m\u001B[0m \u001B[1m9s\u001B[0m 53ms/step - accuracy_5: 0.0359 - loss: 0.3977 - mean_absolute_error: 0.4162 - r2: -6.8271 - val_accuracy_5: 0.0025 - val_loss: 1.1177 - val_mean_absolute_error: 0.8768 - val_r2: -1808.4291 - learning_rate: 5.0000e-04\n",
      "Epoch 3/100\n",
      "\u001B[1m169/169\u001B[0m \u001B[32m━━━━━━━━━━━━━━━━━━━━\u001B[0m\u001B[37m\u001B[0m \u001B[1m9s\u001B[0m 53ms/step - accuracy_5: 0.0347 - loss: 0.1998 - mean_absolute_error: 0.3073 - r2: -2.9098 - val_accuracy_5: 0.0059 - val_loss: 0.6862 - val_mean_absolute_error: 0.6961 - val_r2: -1167.1166 - learning_rate: 5.0000e-04\n",
      "Epoch 4/100\n",
      "\u001B[1m169/169\u001B[0m \u001B[32m━━━━━━━━━━━━━━━━━━━━\u001B[0m\u001B[37m\u001B[0m \u001B[1m10s\u001B[0m 58ms/step - accuracy_5: 0.0531 - loss: 0.1267 - mean_absolute_error: 0.2444 - r2: -1.4199 - val_accuracy_5: 0.0059 - val_loss: 0.4564 - val_mean_absolute_error: 0.5703 - val_r2: -790.3057 - learning_rate: 5.0000e-04\n",
      "Epoch 5/100\n",
      "\u001B[1m169/169\u001B[0m \u001B[32m━━━━━━━━━━━━━━━━━━━━\u001B[0m\u001B[37m\u001B[0m \u001B[1m9s\u001B[0m 52ms/step - accuracy_5: 0.0779 - loss: 0.0975 - mean_absolute_error: 0.2088 - r2: -0.8548 - val_accuracy_5: 0.0346 - val_loss: 0.1344 - val_mean_absolute_error: 0.2935 - val_r2: -251.1307 - learning_rate: 5.0000e-04\n",
      "Epoch 6/100\n",
      "\u001B[1m169/169\u001B[0m \u001B[32m━━━━━━━━━━━━━━━━━━━━\u001B[0m\u001B[37m\u001B[0m \u001B[1m10s\u001B[0m 57ms/step - accuracy_5: 0.0917 - loss: 0.0653 - mean_absolute_error: 0.1719 - r2: -0.2369 - val_accuracy_5: 0.1022 - val_loss: 0.0526 - val_mean_absolute_error: 0.1716 - val_r2: -94.4934 - learning_rate: 5.0000e-04\n",
      "Epoch 7/100\n",
      "\u001B[1m169/169\u001B[0m \u001B[32m━━━━━━━━━━━━━━━━━━━━\u001B[0m\u001B[37m\u001B[0m \u001B[1m10s\u001B[0m 59ms/step - accuracy_5: 0.1004 - loss: 0.0510 - mean_absolute_error: 0.1557 - r2: 0.0400 - val_accuracy_5: 0.0963 - val_loss: 0.0482 - val_mean_absolute_error: 0.1668 - val_r2: -92.5692 - learning_rate: 5.0000e-04\n",
      "Epoch 8/100\n",
      "\u001B[1m169/169\u001B[0m \u001B[32m━━━━━━━━━━━━━━━━━━━━\u001B[0m\u001B[37m\u001B[0m \u001B[1m10s\u001B[0m 59ms/step - accuracy_5: 0.0975 - loss: 0.0424 - mean_absolute_error: 0.1464 - r2: 0.1635 - val_accuracy_5: 0.1267 - val_loss: 0.0446 - val_mean_absolute_error: 0.1606 - val_r2: -85.8096 - learning_rate: 5.0000e-04\n",
      "Epoch 9/100\n",
      "\u001B[1m169/169\u001B[0m \u001B[32m━━━━━━━━━━━━━━━━━━━━\u001B[0m\u001B[37m\u001B[0m \u001B[1m10s\u001B[0m 60ms/step - accuracy_5: 0.0997 - loss: 0.0353 - mean_absolute_error: 0.1339 - r2: 0.2850 - val_accuracy_5: 0.1532 - val_loss: 0.0382 - val_mean_absolute_error: 0.1517 - val_r2: -74.8887 - learning_rate: 5.0000e-04\n",
      "Epoch 10/100\n",
      "\u001B[1m169/169\u001B[0m \u001B[32m━━━━━━━━━━━━━━━━━━━━\u001B[0m\u001B[37m\u001B[0m \u001B[1m10s\u001B[0m 60ms/step - accuracy_5: 0.0977 - loss: 0.0324 - mean_absolute_error: 0.1291 - r2: 0.3623 - val_accuracy_5: 0.0819 - val_loss: 0.0371 - val_mean_absolute_error: 0.1643 - val_r2: -64.4537 - learning_rate: 5.0000e-04\n",
      "Epoch 11/100\n",
      "\u001B[1m169/169\u001B[0m \u001B[32m━━━━━━━━━━━━━━━━━━━━\u001B[0m\u001B[37m\u001B[0m \u001B[1m10s\u001B[0m 62ms/step - accuracy_5: 0.1147 - loss: 0.0246 - mean_absolute_error: 0.1134 - r2: 0.4955 - val_accuracy_5: 0.0831 - val_loss: 0.0391 - val_mean_absolute_error: 0.1724 - val_r2: -74.6397 - learning_rate: 5.0000e-04\n",
      "Epoch 12/100\n",
      "\u001B[1m169/169\u001B[0m \u001B[32m━━━━━━━━━━━━━━━━━━━━\u001B[0m\u001B[37m\u001B[0m \u001B[1m10s\u001B[0m 61ms/step - accuracy_5: 0.1220 - loss: 0.0243 - mean_absolute_error: 0.1085 - r2: 0.5277 - val_accuracy_5: 0.0456 - val_loss: 0.0383 - val_mean_absolute_error: 0.1680 - val_r2: -61.9137 - learning_rate: 5.0000e-04\n",
      "Epoch 13/100\n",
      "\u001B[1m169/169\u001B[0m \u001B[32m━━━━━━━━━━━━━━━━━━━━\u001B[0m\u001B[37m\u001B[0m \u001B[1m10s\u001B[0m 59ms/step - accuracy_5: 0.1238 - loss: 0.0211 - mean_absolute_error: 0.1037 - r2: 0.5857 - val_accuracy_5: 0.1476 - val_loss: 0.0301 - val_mean_absolute_error: 0.1472 - val_r2: -67.7311 - learning_rate: 5.0000e-04\n",
      "Epoch 14/100\n",
      "\u001B[1m169/169\u001B[0m \u001B[32m━━━━━━━━━━━━━━━━━━━━\u001B[0m\u001B[37m\u001B[0m \u001B[1m10s\u001B[0m 61ms/step - accuracy_5: 0.1415 - loss: 0.0195 - mean_absolute_error: 0.0984 - r2: 0.6255 - val_accuracy_5: 0.1622 - val_loss: 0.0212 - val_mean_absolute_error: 0.1080 - val_r2: -36.1906 - learning_rate: 5.0000e-04\n",
      "Epoch 15/100\n",
      "\u001B[1m169/169\u001B[0m \u001B[32m━━━━━━━━━━━━━━━━━━━━\u001B[0m\u001B[37m\u001B[0m \u001B[1m10s\u001B[0m 61ms/step - accuracy_5: 0.1432 - loss: 0.0161 - mean_absolute_error: 0.0918 - r2: 0.6831 - val_accuracy_5: 0.1351 - val_loss: 0.0326 - val_mean_absolute_error: 0.1252 - val_r2: -46.5562 - learning_rate: 5.0000e-04\n",
      "Epoch 16/100\n",
      "\u001B[1m169/169\u001B[0m \u001B[32m━━━━━━━━━━━━━━━━━━━━\u001B[0m\u001B[37m\u001B[0m \u001B[1m10s\u001B[0m 60ms/step - accuracy_5: 0.1464 - loss: 0.0153 - mean_absolute_error: 0.0874 - r2: 0.7117 - val_accuracy_5: 0.0659 - val_loss: 0.0508 - val_mean_absolute_error: 0.1655 - val_r2: -72.0479 - learning_rate: 5.0000e-04\n",
      "Epoch 17/100\n",
      "\u001B[1m169/169\u001B[0m \u001B[32m━━━━━━━━━━━━━━━━━━━━\u001B[0m\u001B[37m\u001B[0m \u001B[1m10s\u001B[0m 61ms/step - accuracy_5: 0.1549 - loss: 0.0139 - mean_absolute_error: 0.0848 - r2: 0.7292 - val_accuracy_5: 0.0000e+00 - val_loss: 0.0959 - val_mean_absolute_error: 0.2541 - val_r2: -146.2237 - learning_rate: 5.0000e-04\n",
      "Epoch 18/100\n",
      "\u001B[1m169/169\u001B[0m \u001B[32m━━━━━━━━━━━━━━━━━━━━\u001B[0m\u001B[37m\u001B[0m \u001B[1m10s\u001B[0m 62ms/step - accuracy_5: 0.1529 - loss: 0.0154 - mean_absolute_error: 0.0876 - r2: 0.6923 - val_accuracy_5: 0.0017 - val_loss: 0.1012 - val_mean_absolute_error: 0.2627 - val_r2: -151.9179 - learning_rate: 5.0000e-04\n",
      "Epoch 19/100\n",
      "\u001B[1m168/169\u001B[0m \u001B[32m━━━━━━━━━━━━━━━━━━━\u001B[0m\u001B[37m━\u001B[0m \u001B[1m0s\u001B[0m 55ms/step - accuracy_5: 0.1676 - loss: 0.0126 - mean_absolute_error: 0.0808 - r2: 0.7564\n",
      "Epoch 19: ReduceLROnPlateau reducing learning rate to 0.0002500000118743628.\n",
      "\u001B[1m169/169\u001B[0m \u001B[32m━━━━━━━━━━━━━━━━━━━━\u001B[0m\u001B[37m\u001B[0m \u001B[1m10s\u001B[0m 60ms/step - accuracy_5: 0.1676 - loss: 0.0126 - mean_absolute_error: 0.0808 - r2: 0.7563 - val_accuracy_5: 0.0000e+00 - val_loss: 0.1453 - val_mean_absolute_error: 0.3214 - val_r2: -218.9492 - learning_rate: 5.0000e-04\n",
      "Epoch 20/100\n",
      "\u001B[1m169/169\u001B[0m \u001B[32m━━━━━━━━━━━━━━━━━━━━\u001B[0m\u001B[37m\u001B[0m \u001B[1m10s\u001B[0m 59ms/step - accuracy_5: 0.1665 - loss: 0.0121 - mean_absolute_error: 0.0784 - r2: 0.7623 - val_accuracy_5: 0.0017 - val_loss: 0.1412 - val_mean_absolute_error: 0.3147 - val_r2: -209.0468 - learning_rate: 2.5000e-04\n",
      "Epoch 21/100\n",
      "\u001B[1m169/169\u001B[0m \u001B[32m━━━━━━━━━━━━━━━━━━━━\u001B[0m\u001B[37m\u001B[0m \u001B[1m10s\u001B[0m 59ms/step - accuracy_5: 0.1779 - loss: 0.0110 - mean_absolute_error: 0.0751 - r2: 0.7899 - val_accuracy_5: 0.0000e+00 - val_loss: 0.1559 - val_mean_absolute_error: 0.3349 - val_r2: -235.0802 - learning_rate: 2.5000e-04\n",
      "Epoch 22/100\n",
      "\u001B[1m169/169\u001B[0m \u001B[32m━━━━━━━━━━━━━━━━━━━━\u001B[0m\u001B[37m\u001B[0m \u001B[1m10s\u001B[0m 60ms/step - accuracy_5: 0.1760 - loss: 0.0104 - mean_absolute_error: 0.0739 - r2: 0.7829 - val_accuracy_5: 0.0017 - val_loss: 0.1417 - val_mean_absolute_error: 0.3163 - val_r2: -210.2133 - learning_rate: 2.5000e-04\n",
      "Epoch 23/100\n",
      "\u001B[1m169/169\u001B[0m \u001B[32m━━━━━━━━━━━━━━━━━━━━\u001B[0m\u001B[37m\u001B[0m \u001B[1m10s\u001B[0m 61ms/step - accuracy_5: 0.1716 - loss: 0.0106 - mean_absolute_error: 0.0743 - r2: 0.7884 - val_accuracy_5: 0.0000e+00 - val_loss: 0.1558 - val_mean_absolute_error: 0.3338 - val_r2: -234.4924 - learning_rate: 2.5000e-04\n",
      "Epoch 24/100\n",
      "\u001B[1m168/169\u001B[0m \u001B[32m━━━━━━━━━━━━━━━━━━━\u001B[0m\u001B[37m━\u001B[0m \u001B[1m0s\u001B[0m 57ms/step - accuracy_5: 0.1787 - loss: 0.0103 - mean_absolute_error: 0.0723 - r2: 0.8012\n",
      "Epoch 24: ReduceLROnPlateau reducing learning rate to 0.0001250000059371814.\n",
      "\u001B[1m169/169\u001B[0m \u001B[32m━━━━━━━━━━━━━━━━━━━━\u001B[0m\u001B[37m\u001B[0m \u001B[1m10s\u001B[0m 61ms/step - accuracy_5: 0.1788 - loss: 0.0102 - mean_absolute_error: 0.0723 - r2: 0.8012 - val_accuracy_5: 0.0000e+00 - val_loss: 0.1651 - val_mean_absolute_error: 0.3432 - val_r2: -249.0259 - learning_rate: 2.5000e-04\n",
      "Epoch 25/100\n",
      "\u001B[1m169/169\u001B[0m \u001B[32m━━━━━━━━━━━━━━━━━━━━\u001B[0m\u001B[37m\u001B[0m \u001B[1m10s\u001B[0m 62ms/step - accuracy_5: 0.1863 - loss: 0.0093 - mean_absolute_error: 0.0693 - r2: 0.8167 - val_accuracy_5: 0.0017 - val_loss: 0.1619 - val_mean_absolute_error: 0.3382 - val_r2: -241.7692 - learning_rate: 1.2500e-04\n",
      "Epoch 26/100\n",
      "\u001B[1m169/169\u001B[0m \u001B[32m━━━━━━━━━━━━━━━━━━━━\u001B[0m\u001B[37m\u001B[0m \u001B[1m10s\u001B[0m 60ms/step - accuracy_5: 0.1940 - loss: 0.0105 - mean_absolute_error: 0.0721 - r2: 0.7861 - val_accuracy_5: 0.0017 - val_loss: 0.1532 - val_mean_absolute_error: 0.3288 - val_r2: -228.4215 - learning_rate: 1.2500e-04\n",
      "Epoch 27/100\n",
      "\u001B[1m169/169\u001B[0m \u001B[32m━━━━━━━━━━━━━━━━━━━━\u001B[0m\u001B[37m\u001B[0m \u001B[1m10s\u001B[0m 61ms/step - accuracy_5: 0.1884 - loss: 0.0095 - mean_absolute_error: 0.0700 - r2: 0.8154 - val_accuracy_5: 0.0017 - val_loss: 0.1564 - val_mean_absolute_error: 0.3309 - val_r2: -231.1986 - learning_rate: 1.2500e-04\n",
      "Epoch 28/100\n",
      "\u001B[1m169/169\u001B[0m \u001B[32m━━━━━━━━━━━━━━━━━━━━\u001B[0m\u001B[37m\u001B[0m \u001B[1m10s\u001B[0m 60ms/step - accuracy_5: 0.1946 - loss: 0.0092 - mean_absolute_error: 0.0698 - r2: 0.8210 - val_accuracy_5: 8.4459e-04 - val_loss: 0.1579 - val_mean_absolute_error: 0.3347 - val_r2: -236.3917 - learning_rate: 1.2500e-04\n",
      "Epoch 29/100\n",
      "\u001B[1m168/169\u001B[0m \u001B[32m━━━━━━━━━━━━━━━━━━━\u001B[0m\u001B[37m━\u001B[0m \u001B[1m0s\u001B[0m 56ms/step - accuracy_5: 0.1963 - loss: 0.0094 - mean_absolute_error: 0.0694 - r2: 0.8210\n",
      "Epoch 29: ReduceLROnPlateau reducing learning rate to 6.25000029685907e-05.\n",
      "\u001B[1m169/169\u001B[0m \u001B[32m━━━━━━━━━━━━━━━━━━━━\u001B[0m\u001B[37m\u001B[0m \u001B[1m10s\u001B[0m 60ms/step - accuracy_5: 0.1963 - loss: 0.0094 - mean_absolute_error: 0.0694 - r2: 0.8211 - val_accuracy_5: 0.0017 - val_loss: 0.1519 - val_mean_absolute_error: 0.3257 - val_r2: -223.1069 - learning_rate: 1.2500e-04\n",
      "Epoch 30/100\n",
      "\u001B[1m169/169\u001B[0m \u001B[32m━━━━━━━━━━━━━━━━━━━━\u001B[0m\u001B[37m\u001B[0m \u001B[1m10s\u001B[0m 60ms/step - accuracy_5: 0.1961 - loss: 0.0094 - mean_absolute_error: 0.0680 - r2: 0.8262 - val_accuracy_5: 8.4459e-04 - val_loss: 0.1565 - val_mean_absolute_error: 0.3313 - val_r2: -230.9992 - learning_rate: 6.2500e-05\n",
      "Epoch 31/100\n",
      "\u001B[1m169/169\u001B[0m \u001B[32m━━━━━━━━━━━━━━━━━━━━\u001B[0m\u001B[37m\u001B[0m \u001B[1m10s\u001B[0m 60ms/step - accuracy_5: 0.1989 - loss: 0.0099 - mean_absolute_error: 0.0692 - r2: 0.7985 - val_accuracy_5: 8.4459e-04 - val_loss: 0.1501 - val_mean_absolute_error: 0.3245 - val_r2: -221.0537 - learning_rate: 6.2500e-05\n",
      "Epoch 32/100\n",
      "\u001B[1m169/169\u001B[0m \u001B[32m━━━━━━━━━━━━━━━━━━━━\u001B[0m\u001B[37m\u001B[0m \u001B[1m10s\u001B[0m 59ms/step - accuracy_5: 0.1929 - loss: 0.0095 - mean_absolute_error: 0.0701 - r2: 0.8034 - val_accuracy_5: 8.4459e-04 - val_loss: 0.1457 - val_mean_absolute_error: 0.3197 - val_r2: -215.5663 - learning_rate: 6.2500e-05\n",
      "Epoch 33/100\n",
      "\u001B[1m169/169\u001B[0m \u001B[32m━━━━━━━━━━━━━━━━━━━━\u001B[0m\u001B[37m\u001B[0m \u001B[1m10s\u001B[0m 61ms/step - accuracy_5: 0.2029 - loss: 0.0091 - mean_absolute_error: 0.0679 - r2: 0.8245 - val_accuracy_5: 0.0017 - val_loss: 0.1479 - val_mean_absolute_error: 0.3208 - val_r2: -217.5516 - learning_rate: 6.2500e-05\n",
      "Epoch 34/100\n",
      "\u001B[1m168/169\u001B[0m \u001B[32m━━━━━━━━━━━━━━━━━━━\u001B[0m\u001B[37m━\u001B[0m \u001B[1m0s\u001B[0m 57ms/step - accuracy_5: 0.2017 - loss: 0.0084 - mean_absolute_error: 0.0668 - r2: 0.8386\n",
      "Epoch 34: ReduceLROnPlateau reducing learning rate to 3.125000148429535e-05.\n",
      "\u001B[1m169/169\u001B[0m \u001B[32m━━━━━━━━━━━━━━━━━━━━\u001B[0m\u001B[37m\u001B[0m \u001B[1m10s\u001B[0m 61ms/step - accuracy_5: 0.2017 - loss: 0.0084 - mean_absolute_error: 0.0668 - r2: 0.8385 - val_accuracy_5: 8.4459e-04 - val_loss: 0.1471 - val_mean_absolute_error: 0.3205 - val_r2: -217.9364 - learning_rate: 6.2500e-05\n",
      "Epoch 35/100\n",
      "\u001B[1m169/169\u001B[0m \u001B[32m━━━━━━━━━━━━━━━━━━━━\u001B[0m\u001B[37m\u001B[0m \u001B[1m10s\u001B[0m 62ms/step - accuracy_5: 0.2105 - loss: 0.0078 - mean_absolute_error: 0.0636 - r2: 0.8439 - val_accuracy_5: 8.4459e-04 - val_loss: 0.1492 - val_mean_absolute_error: 0.3230 - val_r2: -221.3220 - learning_rate: 3.1250e-05\n",
      "Epoch 36/100\n",
      "\u001B[1m169/169\u001B[0m \u001B[32m━━━━━━━━━━━━━━━━━━━━\u001B[0m\u001B[37m\u001B[0m \u001B[1m10s\u001B[0m 60ms/step - accuracy_5: 0.2010 - loss: 0.0087 - mean_absolute_error: 0.0669 - r2: 0.8311 - val_accuracy_5: 8.4459e-04 - val_loss: 0.1491 - val_mean_absolute_error: 0.3228 - val_r2: -221.0653 - learning_rate: 3.1250e-05\n",
      "Epoch 37/100\n",
      "\u001B[1m169/169\u001B[0m \u001B[32m━━━━━━━━━━━━━━━━━━━━\u001B[0m\u001B[37m\u001B[0m \u001B[1m10s\u001B[0m 62ms/step - accuracy_5: 0.1946 - loss: 0.0090 - mean_absolute_error: 0.0674 - r2: 0.8275 - val_accuracy_5: 8.4459e-04 - val_loss: 0.1516 - val_mean_absolute_error: 0.3256 - val_r2: -224.8726 - learning_rate: 3.1250e-05\n",
      "Epoch 38/100\n",
      "\u001B[1m169/169\u001B[0m \u001B[32m━━━━━━━━━━━━━━━━━━━━\u001B[0m\u001B[37m\u001B[0m \u001B[1m10s\u001B[0m 61ms/step - accuracy_5: 0.1944 - loss: 0.0084 - mean_absolute_error: 0.0658 - r2: 0.8299 - val_accuracy_5: 8.4459e-04 - val_loss: 0.1490 - val_mean_absolute_error: 0.3226 - val_r2: -220.7875 - learning_rate: 3.1250e-05\n",
      "Epoch 39/100\n",
      "\u001B[1m169/169\u001B[0m \u001B[32m━━━━━━━━━━━━━━━━━━━━\u001B[0m\u001B[37m\u001B[0m \u001B[1m0s\u001B[0m 56ms/step - accuracy_5: 0.2013 - loss: 0.0084 - mean_absolute_error: 0.0663 - r2: 0.8383\n",
      "Epoch 39: ReduceLROnPlateau reducing learning rate to 1.5625000742147677e-05.\n",
      "\u001B[1m169/169\u001B[0m \u001B[32m━━━━━━━━━━━━━━━━━━━━\u001B[0m\u001B[37m\u001B[0m \u001B[1m10s\u001B[0m 62ms/step - accuracy_5: 0.2013 - loss: 0.0084 - mean_absolute_error: 0.0663 - r2: 0.8383 - val_accuracy_5: 8.4459e-04 - val_loss: 0.1473 - val_mean_absolute_error: 0.3203 - val_r2: -218.1371 - learning_rate: 3.1250e-05\n",
      "Epoch 40/100\n",
      "\u001B[1m169/169\u001B[0m \u001B[32m━━━━━━━━━━━━━━━━━━━━\u001B[0m\u001B[37m\u001B[0m \u001B[1m10s\u001B[0m 61ms/step - accuracy_5: 0.2044 - loss: 0.0084 - mean_absolute_error: 0.0659 - r2: 0.8338 - val_accuracy_5: 8.4459e-04 - val_loss: 0.1489 - val_mean_absolute_error: 0.3224 - val_r2: -220.7670 - learning_rate: 1.5625e-05\n",
      "Epoch 41/100\n",
      "\u001B[1m169/169\u001B[0m \u001B[32m━━━━━━━━━━━━━━━━━━━━\u001B[0m\u001B[37m\u001B[0m \u001B[1m10s\u001B[0m 62ms/step - accuracy_5: 0.1902 - loss: 0.0084 - mean_absolute_error: 0.0661 - r2: 0.8360 - val_accuracy_5: 8.4459e-04 - val_loss: 0.1488 - val_mean_absolute_error: 0.3221 - val_r2: -220.4942 - learning_rate: 1.5625e-05\n",
      "Epoch 42/100\n",
      "\u001B[1m169/169\u001B[0m \u001B[32m━━━━━━━━━━━━━━━━━━━━\u001B[0m\u001B[37m\u001B[0m \u001B[1m10s\u001B[0m 62ms/step - accuracy_5: 0.2026 - loss: 0.0087 - mean_absolute_error: 0.0661 - r2: 0.8233 - val_accuracy_5: 8.4459e-04 - val_loss: 0.1482 - val_mean_absolute_error: 0.3213 - val_r2: -219.3172 - learning_rate: 1.5625e-05\n",
      "Epoch 43/100\n",
      "\u001B[1m169/169\u001B[0m \u001B[32m━━━━━━━━━━━━━━━━━━━━\u001B[0m\u001B[37m\u001B[0m \u001B[1m11s\u001B[0m 63ms/step - accuracy_5: 0.1980 - loss: 0.0083 - mean_absolute_error: 0.0648 - r2: 0.8408 - val_accuracy_5: 8.4459e-04 - val_loss: 0.1472 - val_mean_absolute_error: 0.3203 - val_r2: -217.9643 - learning_rate: 1.5625e-05\n",
      "Epoch 44/100\n",
      "\u001B[1m169/169\u001B[0m \u001B[32m━━━━━━━━━━━━━━━━━━━━\u001B[0m\u001B[37m\u001B[0m \u001B[1m0s\u001B[0m 56ms/step - accuracy_5: 0.2065 - loss: 0.0084 - mean_absolute_error: 0.0655 - r2: 0.8326\n",
      "Epoch 44: ReduceLROnPlateau reducing learning rate to 7.812500371073838e-06.\n",
      "\u001B[1m169/169\u001B[0m \u001B[32m━━━━━━━━━━━━━━━━━━━━\u001B[0m\u001B[37m\u001B[0m \u001B[1m10s\u001B[0m 60ms/step - accuracy_5: 0.2064 - loss: 0.0084 - mean_absolute_error: 0.0655 - r2: 0.8326 - val_accuracy_5: 8.4459e-04 - val_loss: 0.1489 - val_mean_absolute_error: 0.3225 - val_r2: -220.9368 - learning_rate: 1.5625e-05\n",
      "Epoch 45/100\n",
      "\u001B[1m169/169\u001B[0m \u001B[32m━━━━━━━━━━━━━━━━━━━━\u001B[0m\u001B[37m\u001B[0m \u001B[1m10s\u001B[0m 62ms/step - accuracy_5: 0.1981 - loss: 0.0075 - mean_absolute_error: 0.0631 - r2: 0.8483 - val_accuracy_5: 8.4459e-04 - val_loss: 0.1463 - val_mean_absolute_error: 0.3194 - val_r2: -216.8333 - learning_rate: 7.8125e-06\n",
      "Epoch 46/100\n",
      "\u001B[1m169/169\u001B[0m \u001B[32m━━━━━━━━━━━━━━━━━━━━\u001B[0m\u001B[37m\u001B[0m \u001B[1m10s\u001B[0m 61ms/step - accuracy_5: 0.1859 - loss: 0.0087 - mean_absolute_error: 0.0673 - r2: 0.8343 - val_accuracy_5: 8.4459e-04 - val_loss: 0.1455 - val_mean_absolute_error: 0.3184 - val_r2: -215.6955 - learning_rate: 7.8125e-06\n",
      "Epoch 47/100\n",
      "\u001B[1m169/169\u001B[0m \u001B[32m━━━━━━━━━━━━━━━━━━━━\u001B[0m\u001B[37m\u001B[0m \u001B[1m10s\u001B[0m 61ms/step - accuracy_5: 0.2087 - loss: 0.0080 - mean_absolute_error: 0.0648 - r2: 0.8417 - val_accuracy_5: 8.4459e-04 - val_loss: 0.1456 - val_mean_absolute_error: 0.3188 - val_r2: -216.2463 - learning_rate: 7.8125e-06\n",
      "Epoch 48/100\n",
      "\u001B[1m169/169\u001B[0m \u001B[32m━━━━━━━━━━━━━━━━━━━━\u001B[0m\u001B[37m\u001B[0m \u001B[1m10s\u001B[0m 59ms/step - accuracy_5: 0.1968 - loss: 0.0083 - mean_absolute_error: 0.0659 - r2: 0.8384 - val_accuracy_5: 8.4459e-04 - val_loss: 0.1445 - val_mean_absolute_error: 0.3175 - val_r2: -214.6528 - learning_rate: 7.8125e-06\n",
      "Epoch 49/100\n",
      "\u001B[1m168/169\u001B[0m \u001B[32m━━━━━━━━━━━━━━━━━━━\u001B[0m\u001B[37m━\u001B[0m \u001B[1m0s\u001B[0m 56ms/step - accuracy_5: 0.2041 - loss: 0.0079 - mean_absolute_error: 0.0636 - r2: 0.8474\n",
      "Epoch 49: ReduceLROnPlateau reducing learning rate to 3.906250185536919e-06.\n",
      "\u001B[1m169/169\u001B[0m \u001B[32m━━━━━━━━━━━━━━━━━━━━\u001B[0m\u001B[37m\u001B[0m \u001B[1m10s\u001B[0m 61ms/step - accuracy_5: 0.2041 - loss: 0.0079 - mean_absolute_error: 0.0636 - r2: 0.8474 - val_accuracy_5: 8.4459e-04 - val_loss: 0.1449 - val_mean_absolute_error: 0.3180 - val_r2: -215.3704 - learning_rate: 7.8125e-06\n",
      "Epoch 50/100\n",
      "\u001B[1m169/169\u001B[0m \u001B[32m━━━━━━━━━━━━━━━━━━━━\u001B[0m\u001B[37m\u001B[0m \u001B[1m11s\u001B[0m 62ms/step - accuracy_5: 0.2220 - loss: 0.0079 - mean_absolute_error: 0.0631 - r2: 0.8519 - val_accuracy_5: 8.4459e-04 - val_loss: 0.1446 - val_mean_absolute_error: 0.3177 - val_r2: -215.0082 - learning_rate: 3.9063e-06\n",
      "Epoch 51/100\n",
      "\u001B[1m169/169\u001B[0m \u001B[32m━━━━━━━━━━━━━━━━━━━━\u001B[0m\u001B[37m\u001B[0m \u001B[1m10s\u001B[0m 61ms/step - accuracy_5: 0.1990 - loss: 0.0079 - mean_absolute_error: 0.0647 - r2: 0.8381 - val_accuracy_5: 8.4459e-04 - val_loss: 0.1443 - val_mean_absolute_error: 0.3173 - val_r2: -214.5915 - learning_rate: 3.9063e-06\n",
      "Epoch 52/100\n",
      "\u001B[1m169/169\u001B[0m \u001B[32m━━━━━━━━━━━━━━━━━━━━\u001B[0m\u001B[37m\u001B[0m \u001B[1m10s\u001B[0m 62ms/step - accuracy_5: 0.2043 - loss: 0.0084 - mean_absolute_error: 0.0654 - r2: 0.8409 - val_accuracy_5: 8.4459e-04 - val_loss: 0.1438 - val_mean_absolute_error: 0.3167 - val_r2: -213.8347 - learning_rate: 3.9063e-06\n",
      "Epoch 53/100\n",
      "\u001B[1m169/169\u001B[0m \u001B[32m━━━━━━━━━━━━━━━━━━━━\u001B[0m\u001B[37m\u001B[0m \u001B[1m10s\u001B[0m 61ms/step - accuracy_5: 0.2155 - loss: 0.0081 - mean_absolute_error: 0.0638 - r2: 0.8434 - val_accuracy_5: 8.4459e-04 - val_loss: 0.1453 - val_mean_absolute_error: 0.3185 - val_r2: -216.1497 - learning_rate: 3.9063e-06\n",
      "Epoch 54/100\n",
      "\u001B[1m168/169\u001B[0m \u001B[32m━━━━━━━━━━━━━━━━━━━\u001B[0m\u001B[37m━\u001B[0m \u001B[1m0s\u001B[0m 57ms/step - accuracy_5: 0.2089 - loss: 0.0081 - mean_absolute_error: 0.0653 - r2: 0.8429\n",
      "Epoch 54: ReduceLROnPlateau reducing learning rate to 1.9531250927684596e-06.\n",
      "\u001B[1m169/169\u001B[0m \u001B[32m━━━━━━━━━━━━━━━━━━━━\u001B[0m\u001B[37m\u001B[0m \u001B[1m10s\u001B[0m 62ms/step - accuracy_5: 0.2090 - loss: 0.0081 - mean_absolute_error: 0.0652 - r2: 0.8429 - val_accuracy_5: 8.4459e-04 - val_loss: 0.1443 - val_mean_absolute_error: 0.3173 - val_r2: -214.6264 - learning_rate: 3.9063e-06\n",
      "Epoch 55/100\n",
      "\u001B[1m169/169\u001B[0m \u001B[32m━━━━━━━━━━━━━━━━━━━━\u001B[0m\u001B[37m\u001B[0m \u001B[1m10s\u001B[0m 61ms/step - accuracy_5: 0.2091 - loss: 0.0079 - mean_absolute_error: 0.0640 - r2: 0.8442 - val_accuracy_5: 8.4459e-04 - val_loss: 0.1445 - val_mean_absolute_error: 0.3175 - val_r2: -214.9303 - learning_rate: 1.9531e-06\n",
      "Epoch 56/100\n",
      "\u001B[1m169/169\u001B[0m \u001B[32m━━━━━━━━━━━━━━━━━━━━\u001B[0m\u001B[37m\u001B[0m \u001B[1m10s\u001B[0m 60ms/step - accuracy_5: 0.1913 - loss: 0.0083 - mean_absolute_error: 0.0657 - r2: 0.8382 - val_accuracy_5: 8.4459e-04 - val_loss: 0.1445 - val_mean_absolute_error: 0.3176 - val_r2: -215.0340 - learning_rate: 1.9531e-06\n",
      "Epoch 57/100\n",
      "\u001B[1m169/169\u001B[0m \u001B[32m━━━━━━━━━━━━━━━━━━━━\u001B[0m\u001B[37m\u001B[0m \u001B[1m11s\u001B[0m 63ms/step - accuracy_5: 0.1985 - loss: 0.0082 - mean_absolute_error: 0.0644 - r2: 0.8402 - val_accuracy_5: 8.4459e-04 - val_loss: 0.1445 - val_mean_absolute_error: 0.3176 - val_r2: -215.0099 - learning_rate: 1.9531e-06\n",
      "Epoch 58/100\n",
      "\u001B[1m169/169\u001B[0m \u001B[32m━━━━━━━━━━━━━━━━━━━━\u001B[0m\u001B[37m\u001B[0m \u001B[1m10s\u001B[0m 61ms/step - accuracy_5: 0.2034 - loss: 0.0082 - mean_absolute_error: 0.0652 - r2: 0.8286 - val_accuracy_5: 0.0000e+00 - val_loss: 0.1451 - val_mean_absolute_error: 0.3184 - val_r2: -216.0433 - learning_rate: 1.9531e-06\n",
      "Epoch 59/100\n",
      "\u001B[1m169/169\u001B[0m \u001B[32m━━━━━━━━━━━━━━━━━━━━\u001B[0m\u001B[37m\u001B[0m \u001B[1m0s\u001B[0m 57ms/step - accuracy_5: 0.2023 - loss: 0.0081 - mean_absolute_error: 0.0642 - r2: 0.8386\n",
      "Epoch 59: ReduceLROnPlateau reducing learning rate to 9.765625463842298e-07.\n",
      "\u001B[1m169/169\u001B[0m \u001B[32m━━━━━━━━━━━━━━━━━━━━\u001B[0m\u001B[37m\u001B[0m \u001B[1m10s\u001B[0m 61ms/step - accuracy_5: 0.2024 - loss: 0.0081 - mean_absolute_error: 0.0642 - r2: 0.8387 - val_accuracy_5: 0.0000e+00 - val_loss: 0.1450 - val_mean_absolute_error: 0.3183 - val_r2: -215.9129 - learning_rate: 1.9531e-06\n",
      "Epoch 60/100\n",
      "\u001B[1m169/169\u001B[0m \u001B[32m━━━━━━━━━━━━━━━━━━━━\u001B[0m\u001B[37m\u001B[0m \u001B[1m10s\u001B[0m 60ms/step - accuracy_5: 0.2107 - loss: 0.0084 - mean_absolute_error: 0.0647 - r2: 0.8379 - val_accuracy_5: 0.0000e+00 - val_loss: 0.1452 - val_mean_absolute_error: 0.3185 - val_r2: -216.3077 - learning_rate: 9.7656e-07\n",
      "Epoch 61/100\n",
      "\u001B[1m169/169\u001B[0m \u001B[32m━━━━━━━━━━━━━━━━━━━━\u001B[0m\u001B[37m\u001B[0m \u001B[1m10s\u001B[0m 61ms/step - accuracy_5: 0.1966 - loss: 0.0088 - mean_absolute_error: 0.0662 - r2: 0.8253 - val_accuracy_5: 0.0000e+00 - val_loss: 0.1453 - val_mean_absolute_error: 0.3186 - val_r2: -216.4253 - learning_rate: 9.7656e-07\n",
      "Epoch 62/100\n",
      "\u001B[1m169/169\u001B[0m \u001B[32m━━━━━━━━━━━━━━━━━━━━\u001B[0m\u001B[37m\u001B[0m \u001B[1m10s\u001B[0m 61ms/step - accuracy_5: 0.2041 - loss: 0.0080 - mean_absolute_error: 0.0641 - r2: 0.8479 - val_accuracy_5: 0.0000e+00 - val_loss: 0.1453 - val_mean_absolute_error: 0.3186 - val_r2: -216.3975 - learning_rate: 9.7656e-07\n",
      "Epoch 63/100\n",
      "\u001B[1m169/169\u001B[0m \u001B[32m━━━━━━━━━━━━━━━━━━━━\u001B[0m\u001B[37m\u001B[0m \u001B[1m10s\u001B[0m 61ms/step - accuracy_5: 0.2065 - loss: 0.0080 - mean_absolute_error: 0.0647 - r2: 0.8428 - val_accuracy_5: 0.0000e+00 - val_loss: 0.1451 - val_mean_absolute_error: 0.3184 - val_r2: -216.1698 - learning_rate: 9.7656e-07\n",
      "Epoch 64/100\n",
      "\u001B[1m168/169\u001B[0m \u001B[32m━━━━━━━━━━━━━━━━━━━\u001B[0m\u001B[37m━\u001B[0m \u001B[1m0s\u001B[0m 57ms/step - accuracy_5: 0.1990 - loss: 0.0080 - mean_absolute_error: 0.0649 - r2: 0.8457\n",
      "Epoch 64: ReduceLROnPlateau reducing learning rate to 4.882812731921149e-07.\n",
      "\u001B[1m169/169\u001B[0m \u001B[32m━━━━━━━━━━━━━━━━━━━━\u001B[0m\u001B[37m\u001B[0m \u001B[1m10s\u001B[0m 61ms/step - accuracy_5: 0.1990 - loss: 0.0080 - mean_absolute_error: 0.0649 - r2: 0.8457 - val_accuracy_5: 0.0000e+00 - val_loss: 0.1454 - val_mean_absolute_error: 0.3186 - val_r2: -216.5064 - learning_rate: 9.7656e-07\n",
      "Epoch 65/100\n",
      "\u001B[1m169/169\u001B[0m \u001B[32m━━━━━━━━━━━━━━━━━━━━\u001B[0m\u001B[37m\u001B[0m \u001B[1m10s\u001B[0m 62ms/step - accuracy_5: 0.2044 - loss: 0.0081 - mean_absolute_error: 0.0649 - r2: 0.8479 - val_accuracy_5: 0.0000e+00 - val_loss: 0.1453 - val_mean_absolute_error: 0.3186 - val_r2: -216.4955 - learning_rate: 4.8828e-07\n",
      "Epoch 66/100\n",
      "\u001B[1m169/169\u001B[0m \u001B[32m━━━━━━━━━━━━━━━━━━━━\u001B[0m\u001B[37m\u001B[0m \u001B[1m10s\u001B[0m 61ms/step - accuracy_5: 0.2004 - loss: 0.0076 - mean_absolute_error: 0.0629 - r2: 0.8465 - val_accuracy_5: 0.0000e+00 - val_loss: 0.1453 - val_mean_absolute_error: 0.3185 - val_r2: -216.3537 - learning_rate: 4.8828e-07\n",
      "Epoch 67/100\n",
      "\u001B[1m169/169\u001B[0m \u001B[32m━━━━━━━━━━━━━━━━━━━━\u001B[0m\u001B[37m\u001B[0m \u001B[1m10s\u001B[0m 61ms/step - accuracy_5: 0.2004 - loss: 0.0086 - mean_absolute_error: 0.0650 - r2: 0.8370 - val_accuracy_5: 0.0000e+00 - val_loss: 0.1452 - val_mean_absolute_error: 0.3185 - val_r2: -216.3063 - learning_rate: 4.8828e-07\n",
      "Epoch 68/100\n",
      "\u001B[1m169/169\u001B[0m \u001B[32m━━━━━━━━━━━━━━━━━━━━\u001B[0m\u001B[37m\u001B[0m \u001B[1m10s\u001B[0m 60ms/step - accuracy_5: 0.1965 - loss: 0.0085 - mean_absolute_error: 0.0660 - r2: 0.8324 - val_accuracy_5: 0.0000e+00 - val_loss: 0.1451 - val_mean_absolute_error: 0.3184 - val_r2: -216.1329 - learning_rate: 4.8828e-07\n",
      "Epoch 69/100\n",
      "\u001B[1m168/169\u001B[0m \u001B[32m━━━━━━━━━━━━━━━━━━━\u001B[0m\u001B[37m━\u001B[0m \u001B[1m0s\u001B[0m 58ms/step - accuracy_5: 0.2074 - loss: 0.0077 - mean_absolute_error: 0.0628 - r2: 0.8429\n",
      "Epoch 69: ReduceLROnPlateau reducing learning rate to 2.4414063659605745e-07.\n",
      "\u001B[1m169/169\u001B[0m \u001B[32m━━━━━━━━━━━━━━━━━━━━\u001B[0m\u001B[37m\u001B[0m \u001B[1m11s\u001B[0m 62ms/step - accuracy_5: 0.2075 - loss: 0.0077 - mean_absolute_error: 0.0629 - r2: 0.8429 - val_accuracy_5: 0.0000e+00 - val_loss: 0.1450 - val_mean_absolute_error: 0.3182 - val_r2: -215.9691 - learning_rate: 4.8828e-07\n",
      "Epoch 70/100\n",
      "\u001B[1m169/169\u001B[0m \u001B[32m━━━━━━━━━━━━━━━━━━━━\u001B[0m\u001B[37m\u001B[0m \u001B[1m10s\u001B[0m 61ms/step - accuracy_5: 0.2133 - loss: 0.0083 - mean_absolute_error: 0.0646 - r2: 0.8381 - val_accuracy_5: 0.0000e+00 - val_loss: 0.1449 - val_mean_absolute_error: 0.3182 - val_r2: -215.9220 - learning_rate: 2.4414e-07\n",
      "Epoch 71/100\n",
      "\u001B[1m169/169\u001B[0m \u001B[32m━━━━━━━━━━━━━━━━━━━━\u001B[0m\u001B[37m\u001B[0m \u001B[1m10s\u001B[0m 60ms/step - accuracy_5: 0.2071 - loss: 0.0076 - mean_absolute_error: 0.0633 - r2: 0.8513 - val_accuracy_5: 0.0000e+00 - val_loss: 0.1449 - val_mean_absolute_error: 0.3182 - val_r2: -215.9076 - learning_rate: 2.4414e-07\n",
      "Epoch 72/100\n",
      "\u001B[1m169/169\u001B[0m \u001B[32m━━━━━━━━━━━━━━━━━━━━\u001B[0m\u001B[37m\u001B[0m \u001B[1m10s\u001B[0m 62ms/step - accuracy_5: 0.2097 - loss: 0.0076 - mean_absolute_error: 0.0629 - r2: 0.8472 - val_accuracy_5: 0.0000e+00 - val_loss: 0.1449 - val_mean_absolute_error: 0.3182 - val_r2: -215.9423 - learning_rate: 2.4414e-07\n",
      "Epoch 73/100\n",
      "\u001B[1m169/169\u001B[0m \u001B[32m━━━━━━━━━━━━━━━━━━━━\u001B[0m\u001B[37m\u001B[0m \u001B[1m10s\u001B[0m 61ms/step - accuracy_5: 0.2198 - loss: 0.0081 - mean_absolute_error: 0.0643 - r2: 0.8387 - val_accuracy_5: 0.0000e+00 - val_loss: 0.1449 - val_mean_absolute_error: 0.3181 - val_r2: -215.8186 - learning_rate: 2.4414e-07\n",
      "Epoch 74/100\n",
      "\u001B[1m169/169\u001B[0m \u001B[32m━━━━━━━━━━━━━━━━━━━━\u001B[0m\u001B[37m\u001B[0m \u001B[1m0s\u001B[0m 56ms/step - accuracy_5: 0.2265 - loss: 0.0079 - mean_absolute_error: 0.0627 - r2: 0.8451\n",
      "Epoch 74: ReduceLROnPlateau reducing learning rate to 1.2207031829802872e-07.\n",
      "\u001B[1m169/169\u001B[0m \u001B[32m━━━━━━━━━━━━━━━━━━━━\u001B[0m\u001B[37m\u001B[0m \u001B[1m10s\u001B[0m 60ms/step - accuracy_5: 0.2264 - loss: 0.0079 - mean_absolute_error: 0.0627 - r2: 0.8451 - val_accuracy_5: 0.0000e+00 - val_loss: 0.1448 - val_mean_absolute_error: 0.3181 - val_r2: -215.7412 - learning_rate: 2.4414e-07\n",
      "Epoch 75/100\n",
      "\u001B[1m169/169\u001B[0m \u001B[32m━━━━━━━━━━━━━━━━━━━━\u001B[0m\u001B[37m\u001B[0m \u001B[1m10s\u001B[0m 62ms/step - accuracy_5: 0.2210 - loss: 0.0077 - mean_absolute_error: 0.0623 - r2: 0.8516 - val_accuracy_5: 0.0000e+00 - val_loss: 0.1448 - val_mean_absolute_error: 0.3181 - val_r2: -215.7922 - learning_rate: 1.2207e-07\n",
      "Epoch 76/100\n",
      "\u001B[1m169/169\u001B[0m \u001B[32m━━━━━━━━━━━━━━━━━━━━\u001B[0m\u001B[37m\u001B[0m \u001B[1m10s\u001B[0m 60ms/step - accuracy_5: 0.2158 - loss: 0.0081 - mean_absolute_error: 0.0634 - r2: 0.8401 - val_accuracy_5: 0.0000e+00 - val_loss: 0.1449 - val_mean_absolute_error: 0.3181 - val_r2: -215.8331 - learning_rate: 1.2207e-07\n",
      "Epoch 77/100\n",
      "\u001B[1m169/169\u001B[0m \u001B[32m━━━━━━━━━━━━━━━━━━━━\u001B[0m\u001B[37m\u001B[0m \u001B[1m10s\u001B[0m 61ms/step - accuracy_5: 0.1890 - loss: 0.0077 - mean_absolute_error: 0.0639 - r2: 0.8426 - val_accuracy_5: 0.0000e+00 - val_loss: 0.1449 - val_mean_absolute_error: 0.3181 - val_r2: -215.8617 - learning_rate: 1.2207e-07\n",
      "Epoch 78/100\n",
      "\u001B[1m169/169\u001B[0m \u001B[32m━━━━━━━━━━━━━━━━━━━━\u001B[0m\u001B[37m\u001B[0m \u001B[1m10s\u001B[0m 62ms/step - accuracy_5: 0.2193 - loss: 0.0077 - mean_absolute_error: 0.0625 - r2: 0.8454 - val_accuracy_5: 0.0000e+00 - val_loss: 0.1448 - val_mean_absolute_error: 0.3181 - val_r2: -215.7900 - learning_rate: 1.2207e-07\n",
      "Epoch 79/100\n",
      "\u001B[1m168/169\u001B[0m \u001B[32m━━━━━━━━━━━━━━━━━━━\u001B[0m\u001B[37m━\u001B[0m \u001B[1m0s\u001B[0m 55ms/step - accuracy_5: 0.2084 - loss: 0.0077 - mean_absolute_error: 0.0634 - r2: 0.8463\n",
      "Epoch 79: ReduceLROnPlateau reducing learning rate to 6.103515914901436e-08.\n",
      "\u001B[1m169/169\u001B[0m \u001B[32m━━━━━━━━━━━━━━━━━━━━\u001B[0m\u001B[37m\u001B[0m \u001B[1m10s\u001B[0m 59ms/step - accuracy_5: 0.2086 - loss: 0.0077 - mean_absolute_error: 0.0634 - r2: 0.8463 - val_accuracy_5: 0.0000e+00 - val_loss: 0.1448 - val_mean_absolute_error: 0.3180 - val_r2: -215.7145 - learning_rate: 1.2207e-07\n",
      "Epoch 80/100\n",
      "\u001B[1m169/169\u001B[0m \u001B[32m━━━━━━━━━━━━━━━━━━━━\u001B[0m\u001B[37m\u001B[0m \u001B[1m10s\u001B[0m 61ms/step - accuracy_5: 0.1965 - loss: 0.0081 - mean_absolute_error: 0.0644 - r2: 0.8393 - val_accuracy_5: 0.0000e+00 - val_loss: 0.1448 - val_mean_absolute_error: 0.3180 - val_r2: -215.7049 - learning_rate: 6.1035e-08\n",
      "Epoch 81/100\n",
      "\u001B[1m169/169\u001B[0m \u001B[32m━━━━━━━━━━━━━━━━━━━━\u001B[0m\u001B[37m\u001B[0m \u001B[1m10s\u001B[0m 61ms/step - accuracy_5: 0.2020 - loss: 0.0082 - mean_absolute_error: 0.0640 - r2: 0.8466 - val_accuracy_5: 0.0000e+00 - val_loss: 0.1448 - val_mean_absolute_error: 0.3180 - val_r2: -215.7156 - learning_rate: 6.1035e-08\n",
      "Epoch 82/100\n",
      "\u001B[1m169/169\u001B[0m \u001B[32m━━━━━━━━━━━━━━━━━━━━\u001B[0m\u001B[37m\u001B[0m \u001B[1m10s\u001B[0m 59ms/step - accuracy_5: 0.2070 - loss: 0.0080 - mean_absolute_error: 0.0648 - r2: 0.8429 - val_accuracy_5: 0.0000e+00 - val_loss: 0.1448 - val_mean_absolute_error: 0.3181 - val_r2: -215.7658 - learning_rate: 6.1035e-08\n",
      "Epoch 83/100\n",
      "\u001B[1m169/169\u001B[0m \u001B[32m━━━━━━━━━━━━━━━━━━━━\u001B[0m\u001B[37m\u001B[0m \u001B[1m10s\u001B[0m 60ms/step - accuracy_5: 0.2025 - loss: 0.0081 - mean_absolute_error: 0.0637 - r2: 0.8336 - val_accuracy_5: 0.0000e+00 - val_loss: 0.1448 - val_mean_absolute_error: 0.3181 - val_r2: -215.7740 - learning_rate: 6.1035e-08\n",
      "Epoch 84/100\n",
      "\u001B[1m169/169\u001B[0m \u001B[32m━━━━━━━━━━━━━━━━━━━━\u001B[0m\u001B[37m\u001B[0m \u001B[1m0s\u001B[0m 57ms/step - accuracy_5: 0.2045 - loss: 0.0079 - mean_absolute_error: 0.0639 - r2: 0.8472\n",
      "Epoch 84: ReduceLROnPlateau reducing learning rate to 3.051757957450718e-08.\n",
      "\u001B[1m169/169\u001B[0m \u001B[32m━━━━━━━━━━━━━━━━━━━━\u001B[0m\u001B[37m\u001B[0m \u001B[1m10s\u001B[0m 61ms/step - accuracy_5: 0.2045 - loss: 0.0079 - mean_absolute_error: 0.0639 - r2: 0.8472 - val_accuracy_5: 0.0000e+00 - val_loss: 0.1448 - val_mean_absolute_error: 0.3181 - val_r2: -215.7778 - learning_rate: 6.1035e-08\n",
      "Epoch 85/100\n",
      "\u001B[1m169/169\u001B[0m \u001B[32m━━━━━━━━━━━━━━━━━━━━\u001B[0m\u001B[37m\u001B[0m \u001B[1m10s\u001B[0m 60ms/step - accuracy_5: 0.2164 - loss: 0.0076 - mean_absolute_error: 0.0626 - r2: 0.8562 - val_accuracy_5: 0.0000e+00 - val_loss: 0.1448 - val_mean_absolute_error: 0.3181 - val_r2: -215.7706 - learning_rate: 3.0518e-08\n",
      "Epoch 86/100\n",
      "\u001B[1m169/169\u001B[0m \u001B[32m━━━━━━━━━━━━━━━━━━━━\u001B[0m\u001B[37m\u001B[0m \u001B[1m10s\u001B[0m 62ms/step - accuracy_5: 0.2093 - loss: 0.0086 - mean_absolute_error: 0.0651 - r2: 0.8374 - val_accuracy_5: 0.0000e+00 - val_loss: 0.1448 - val_mean_absolute_error: 0.3181 - val_r2: -215.7735 - learning_rate: 3.0518e-08\n",
      "Epoch 87/100\n",
      "\u001B[1m169/169\u001B[0m \u001B[32m━━━━━━━━━━━━━━━━━━━━\u001B[0m\u001B[37m\u001B[0m \u001B[1m10s\u001B[0m 61ms/step - accuracy_5: 0.2070 - loss: 0.0080 - mean_absolute_error: 0.0638 - r2: 0.8430 - val_accuracy_5: 0.0000e+00 - val_loss: 0.1448 - val_mean_absolute_error: 0.3181 - val_r2: -215.8000 - learning_rate: 3.0518e-08\n",
      "Epoch 88/100\n",
      "\u001B[1m169/169\u001B[0m \u001B[32m━━━━━━━━━━━━━━━━━━━━\u001B[0m\u001B[37m\u001B[0m \u001B[1m10s\u001B[0m 60ms/step - accuracy_5: 0.2194 - loss: 0.0076 - mean_absolute_error: 0.0625 - r2: 0.8497 - val_accuracy_5: 0.0000e+00 - val_loss: 0.1448 - val_mean_absolute_error: 0.3181 - val_r2: -215.8100 - learning_rate: 3.0518e-08\n",
      "Epoch 89/100\n",
      "\u001B[1m168/169\u001B[0m \u001B[32m━━━━━━━━━━━━━━━━━━━\u001B[0m\u001B[37m━\u001B[0m \u001B[1m0s\u001B[0m 56ms/step - accuracy_5: 0.2017 - loss: 0.0083 - mean_absolute_error: 0.0648 - r2: 0.8382\n",
      "Epoch 89: ReduceLROnPlateau reducing learning rate to 1.525878978725359e-08.\n",
      "\u001B[1m169/169\u001B[0m \u001B[32m━━━━━━━━━━━━━━━━━━━━\u001B[0m\u001B[37m\u001B[0m \u001B[1m10s\u001B[0m 61ms/step - accuracy_5: 0.2017 - loss: 0.0083 - mean_absolute_error: 0.0648 - r2: 0.8383 - val_accuracy_5: 0.0000e+00 - val_loss: 0.1449 - val_mean_absolute_error: 0.3181 - val_r2: -215.8182 - learning_rate: 3.0518e-08\n",
      "Epoch 90/100\n",
      "\u001B[1m169/169\u001B[0m \u001B[32m━━━━━━━━━━━━━━━━━━━━\u001B[0m\u001B[37m\u001B[0m \u001B[1m10s\u001B[0m 60ms/step - accuracy_5: 0.2144 - loss: 0.0080 - mean_absolute_error: 0.0636 - r2: 0.8396 - val_accuracy_5: 0.0000e+00 - val_loss: 0.1449 - val_mean_absolute_error: 0.3181 - val_r2: -215.8168 - learning_rate: 1.5259e-08\n",
      "Epoch 91/100\n",
      "\u001B[1m169/169\u001B[0m \u001B[32m━━━━━━━━━━━━━━━━━━━━\u001B[0m\u001B[37m\u001B[0m \u001B[1m10s\u001B[0m 60ms/step - accuracy_5: 0.2153 - loss: 0.0075 - mean_absolute_error: 0.0615 - r2: 0.8518 - val_accuracy_5: 0.0000e+00 - val_loss: 0.1449 - val_mean_absolute_error: 0.3181 - val_r2: -215.8205 - learning_rate: 1.5259e-08\n",
      "Epoch 92/100\n",
      "\u001B[1m169/169\u001B[0m \u001B[32m━━━━━━━━━━━━━━━━━━━━\u001B[0m\u001B[37m\u001B[0m \u001B[1m10s\u001B[0m 62ms/step - accuracy_5: 0.1879 - loss: 0.0084 - mean_absolute_error: 0.0660 - r2: 0.8360 - val_accuracy_5: 0.0000e+00 - val_loss: 0.1449 - val_mean_absolute_error: 0.3181 - val_r2: -215.8164 - learning_rate: 1.5259e-08\n",
      "Epoch 93/100\n",
      "\u001B[1m169/169\u001B[0m \u001B[32m━━━━━━━━━━━━━━━━━━━━\u001B[0m\u001B[37m\u001B[0m \u001B[1m10s\u001B[0m 60ms/step - accuracy_5: 0.1908 - loss: 0.0089 - mean_absolute_error: 0.0666 - r2: 0.8304 - val_accuracy_5: 0.0000e+00 - val_loss: 0.1449 - val_mean_absolute_error: 0.3181 - val_r2: -215.8184 - learning_rate: 1.5259e-08\n",
      "Epoch 94/100\n",
      "\u001B[1m169/169\u001B[0m \u001B[32m━━━━━━━━━━━━━━━━━━━━\u001B[0m\u001B[37m\u001B[0m \u001B[1m0s\u001B[0m 53ms/step - accuracy_5: 0.2269 - loss: 0.0077 - mean_absolute_error: 0.0621 - r2: 0.8449\n",
      "Epoch 94: ReduceLROnPlateau reducing learning rate to 7.629394893626795e-09.\n",
      "\u001B[1m169/169\u001B[0m \u001B[32m━━━━━━━━━━━━━━━━━━━━\u001B[0m\u001B[37m\u001B[0m \u001B[1m10s\u001B[0m 58ms/step - accuracy_5: 0.2268 - loss: 0.0077 - mean_absolute_error: 0.0621 - r2: 0.8449 - val_accuracy_5: 0.0000e+00 - val_loss: 0.1449 - val_mean_absolute_error: 0.3181 - val_r2: -215.8241 - learning_rate: 1.5259e-08\n",
      "Epoch 95/100\n",
      "\u001B[1m169/169\u001B[0m \u001B[32m━━━━━━━━━━━━━━━━━━━━\u001B[0m\u001B[37m\u001B[0m \u001B[1m10s\u001B[0m 60ms/step - accuracy_5: 0.2146 - loss: 0.0076 - mean_absolute_error: 0.0630 - r2: 0.8477 - val_accuracy_5: 0.0000e+00 - val_loss: 0.1449 - val_mean_absolute_error: 0.3181 - val_r2: -215.8242 - learning_rate: 7.6294e-09\n",
      "Epoch 96/100\n",
      "\u001B[1m169/169\u001B[0m \u001B[32m━━━━━━━━━━━━━━━━━━━━\u001B[0m\u001B[37m\u001B[0m \u001B[1m10s\u001B[0m 59ms/step - accuracy_5: 0.1961 - loss: 0.0086 - mean_absolute_error: 0.0663 - r2: 0.8315 - val_accuracy_5: 0.0000e+00 - val_loss: 0.1449 - val_mean_absolute_error: 0.3181 - val_r2: -215.8251 - learning_rate: 7.6294e-09\n",
      "Epoch 97/100\n",
      "\u001B[1m169/169\u001B[0m \u001B[32m━━━━━━━━━━━━━━━━━━━━\u001B[0m\u001B[37m\u001B[0m \u001B[1m10s\u001B[0m 59ms/step - accuracy_5: 0.2088 - loss: 0.0081 - mean_absolute_error: 0.0646 - r2: 0.8413 - val_accuracy_5: 0.0000e+00 - val_loss: 0.1449 - val_mean_absolute_error: 0.3181 - val_r2: -215.8244 - learning_rate: 7.6294e-09\n",
      "Epoch 98/100\n",
      "\u001B[1m169/169\u001B[0m \u001B[32m━━━━━━━━━━━━━━━━━━━━\u001B[0m\u001B[37m\u001B[0m \u001B[1m10s\u001B[0m 61ms/step - accuracy_5: 0.1916 - loss: 0.0086 - mean_absolute_error: 0.0660 - r2: 0.8289 - val_accuracy_5: 0.0000e+00 - val_loss: 0.1449 - val_mean_absolute_error: 0.3181 - val_r2: -215.8238 - learning_rate: 7.6294e-09\n",
      "Epoch 99/100\n",
      "\u001B[1m168/169\u001B[0m \u001B[32m━━━━━━━━━━━━━━━━━━━\u001B[0m\u001B[37m━\u001B[0m \u001B[1m0s\u001B[0m 55ms/step - accuracy_5: 0.2192 - loss: 0.0077 - mean_absolute_error: 0.0623 - r2: 0.8489\n",
      "Epoch 99: ReduceLROnPlateau reducing learning rate to 3.814697446813398e-09.\n",
      "\u001B[1m169/169\u001B[0m \u001B[32m━━━━━━━━━━━━━━━━━━━━\u001B[0m\u001B[37m\u001B[0m \u001B[1m10s\u001B[0m 60ms/step - accuracy_5: 0.2191 - loss: 0.0077 - mean_absolute_error: 0.0623 - r2: 0.8488 - val_accuracy_5: 0.0000e+00 - val_loss: 0.1449 - val_mean_absolute_error: 0.3181 - val_r2: -215.8228 - learning_rate: 7.6294e-09\n",
      "Epoch 100/100\n",
      "\u001B[1m169/169\u001B[0m \u001B[32m━━━━━━━━━━━━━━━━━━━━\u001B[0m\u001B[37m\u001B[0m \u001B[1m10s\u001B[0m 59ms/step - accuracy_5: 0.2113 - loss: 0.0083 - mean_absolute_error: 0.0648 - r2: 0.8304 - val_accuracy_5: 0.0000e+00 - val_loss: 0.1449 - val_mean_absolute_error: 0.3181 - val_r2: -215.8228 - learning_rate: 3.8147e-09\n"
     ]
    }
   ],
   "execution_count": 161
  },
  {
   "metadata": {},
   "cell_type": "markdown",
   "source": [
    "## 8. Plotting the Training Loss\n",
    "\n",
    "We now plot the training and validation loss curves (MSE) over epochs.\n"
   ],
   "id": "1e1757a8c5e33041"
  },
  {
   "metadata": {
    "ExecuteTime": {
     "end_time": "2025-02-20T19:08:44.091199Z",
     "start_time": "2025-02-20T19:08:43.997357Z"
    }
   },
   "cell_type": "code",
   "source": [
    "plt.figure(figsize=(10, 5))\n",
    "plt.plot(history.history['loss'], label='Train Loss')\n",
    "plt.plot(history.history['val_loss'], label='Validation Loss')\n",
    "plt.xlabel('Epoch')\n",
    "plt.ylabel('MSE')\n",
    "plt.title('Loss over Epochs (TCN Model)')\n",
    "plt.legend()\n",
    "plt.show()\n"
   ],
   "id": "3dc3c92d495bbb8e",
   "outputs": [
    {
     "data": {
      "text/plain": [
       "<Figure size 1000x500 with 1 Axes>"
      ],
      "image/png": "[encoded data removed]"
     },
     "metadata": {},
     "output_type": "display_data"
    }
   ],
   "execution_count": 162
  },
  {
   "metadata": {},
   "cell_type": "markdown",
   "source": [
    "## 9. Model Evaluation and Predictions\n",
    "\n",
    "Next, we evaluate the model on the test set and predict closing prices.\n"
   ],
   "id": "4357e3cc36e56864"
  },
  {
   "metadata": {
    "ExecuteTime": {
     "end_time": "2025-02-20T19:08:45.689338Z",
     "start_time": "2025-02-20T19:08:44.096551Z"
    }
   },
   "cell_type": "code",
   "source": [
    "# Evaluate on test set\n",
    "test_loss = model.evaluate(X_test, y_test)\n",
    "print(\"Test Loss:\", test_loss)\n",
    "\n",
    "# Make predictions on the test set\n",
    "y_pred_scaled = model.predict(X_test)\n"
   ],
   "id": "6d2ec1b660d3c9d4",
   "outputs": [
    {
     "name": "stdout",
     "output_type": "stream",
     "text": [
      "\u001B[1m37/37\u001B[0m \u001B[32m━━━━━━━━━━━━━━━━━━━━\u001B[0m\u001B[37m\u001B[0m \u001B[1m1s\u001B[0m 19ms/step - accuracy_5: 0.0000e+00 - loss: 1.8047 - mean_absolute_error: 1.2325 - r2: -398.2206\n",
      "Test Loss: [2.859853982925415, 1.6021071672439575, -534.2888793945312, 0.0]\n",
      "\u001B[1m37/37\u001B[0m \u001B[32m━━━━━━━━━━━━━━━━━━━━\u001B[0m\u001B[37m\u001B[0m \u001B[1m1s\u001B[0m 20ms/step\n"
     ]
    }
   ],
   "execution_count": 163
  },
  {
   "metadata": {},
   "cell_type": "markdown",
   "source": [
    "## 10. Inverse Scaling and Metrics Calculation\n",
    "\n",
    "We inverse the scaling to get the original closing price values, then calculate performance metrics (R², MAE, etc.).\n"
   ],
   "id": "31c9973e357ed4df"
  },
  {
   "metadata": {
    "ExecuteTime": {
     "end_time": "2025-02-20T19:08:45.707579Z",
     "start_time": "2025-02-20T19:08:45.701142Z"
    }
   },
   "cell_type": "code",
   "source": [
    "# Inverse transform the predictions and true values\n",
    "y_test_unscaled = scaler.inverse_transform(y_test)\n",
    "y_pred_unscaled = scaler.inverse_transform(y_pred_scaled)\n",
    "\n",
    "# Calculate metrics using functions from scikit-learn\n",
    "from sklearn.metrics import r2_score, mean_absolute_error, mean_absolute_percentage_error\n",
    "\n",
    "rmse = np.sqrt(np.mean((y_test_unscaled - y_pred_unscaled) ** 2))\n",
    "mae = mean_absolute_error(y_test_unscaled, y_pred_unscaled)\n",
    "r2 = r2_score(y_test_unscaled, y_pred_unscaled)\n",
    "mape = mean_absolute_percentage_error(y_test_unscaled, y_pred_unscaled) * 100\n",
    "accuracy = ACCURACY_5(y_test_unscaled, y_pred_unscaled)\n",
    "\n",
    "print(\"----- Test Set Performance -----\")\n",
    "print(f\"RMSE: {rmse:.4f}\")\n",
    "print(f\"MAE: {mae:.4f}\")\n",
    "print(f\"R²: {r2:.4f}\")\n",
    "print(f\"Accuracy (5% tolerance): {accuracy:.2f}%\")\n",
    "print(f\"MAPE: {mape:.2f}%\")\n"
   ],
   "id": "9f4c89e76d5d295d",
   "outputs": [
    {
     "name": "stdout",
     "output_type": "stream",
     "text": [
      "----- Test Set Performance -----\n",
      "RMSE: 6857.1765\n",
      "MAE: 6496.2838\n",
      "R²: -5.6074\n",
      "Accuracy (5% tolerance): 0.00%\n",
      "MAPE: 49.52%\n"
     ]
    }
   ],
   "execution_count": 164
  },
  {
   "metadata": {},
   "cell_type": "markdown",
   "source": [
    "## 11. Plotting Predictions vs. Real Values\n",
    "\n",
    "Finally, we plot the predictions against the real closing prices for the first 100 test samples.\n"
   ],
   "id": "e8311f0a1cca29a5"
  },
  {
   "metadata": {
    "ExecuteTime": {
     "end_time": "2025-02-20T19:08:45.797790Z",
     "start_time": "2025-02-20T19:08:45.721188Z"
    }
   },
   "cell_type": "code",
   "source": [
    "n_plot = 100\n",
    "plt.figure(figsize=(10, 5))\n",
    "plt.plot(y_test_unscaled[:n_plot], label='Real Price')\n",
    "plt.plot(y_pred_unscaled[:n_plot], label='Predicted Price')\n",
    "plt.xlabel(\"Test Sample Index\")\n",
    "plt.ylabel(\"Closing Price\")\n",
    "plt.title(\"TCN Model Predictions vs. Real Values\")\n",
    "plt.legend()\n",
    "plt.show()\n"
   ],
   "id": "202cd8c8615f8cae",
   "outputs": [
    {
     "data": {
      "text/plain": [
       "<Figure size 1000x500 with 1 Axes>"
      ],
      "image/png": "[encoded data removed]"
     },
     "metadata": {},
     "output_type": "display_data"
    }
   ],
   "execution_count": 165
  }
 ],
 "metadata": {
  "kernelspec": {
   "display_name": "Python 3",
   "language": "python",
   "name": "python3"
  },
  "language_info": {
   "codemirror_mode": {
    "name": "ipython",
    "version": 2
   },
   "file_extension": ".py",
   "mimetype": "text/x-python",
   "name": "python",
   "nbconvert_exporter": "python",
   "pygments_lexer": "ipython2",
   "version": "2.7.6"
  }
 },
 "nbformat": 4,
 "nbformat_minor": 5
}
