{
 "cells": [
  {
   "metadata": {},
   "cell_type": "markdown",
   "source": [
    "# Notebook: TCN Model Training and Evaluation\n",
    "\n",
    "\n",
    "## 1. Importing Libraries and Module\n",
    "\n"
   ],
   "id": "21d666887653535f"
  },
  {
   "metadata": {
    "ExecuteTime": {
     "end_time": "2025-02-22T23:08:36.762099Z",
     "start_time": "2025-02-22T23:08:36.754222Z"
    }
   },
   "cell_type": "code",
   "source": [
    "import numpy as np\n",
    "import pandas as pd\n",
    "import matplotlib.pyplot as plt\n",
    "import tensorflow as tf\n",
    "import ta\n",
    "\n",
    "from keras.src.layers import BatchNormalization\n",
    "from sklearn.preprocessing import StandardScaler, MinMaxScaler\n",
    "from tensorflow.keras import layers, models, Input, Model, regularizers\n",
    "from tensorflow.keras.callbacks import EarlyStopping, ReduceLROnPlateau\n",
    "from tensorflow.keras.layers import Dropout, Conv1D, BatchNormalization\n",
    "from tcn import TCN\n",
    "from sklearn.metrics import r2_score, mean_absolute_error"
   ],
   "id": "de50817e1d22854d",
   "outputs": [],
   "execution_count": 129
  },
  {
   "metadata": {
    "ExecuteTime": {
     "end_time": "2025-02-22T23:08:36.773877Z",
     "start_time": "2025-02-22T23:08:36.767501Z"
    }
   },
   "cell_type": "code",
   "source": [
    "def R2(y_true, y_pred):\n",
    "    ss_res = tf.reduce_sum(\n",
    "        tf.square(y_true - y_pred)\n",
    "    )\n",
    "    ss_tot = tf.reduce_sum(\n",
    "        tf.square(y_true - tf.reduce_mean(y_true))\n",
    "    )\n",
    "    \n",
    "    return 1 - ss_res / (ss_tot + tf.keras.backend.epsilon()) # sss_tot\n",
    "\n",
    "\n",
    "def ACCURACY_5(y_true, y_pred):\n",
    "    # Erreur relative : |y_true - y_pred| / (|y_true| + epsilon) on evite les divisions par 0\n",
    "    error = tf.abs(\n",
    "        (y_true - y_pred) / (tf.abs(y_true) + tf.keras.backend.epsilon())\n",
    "    )\n",
    "    correct = tf.cast(\n",
    "        error <= 0.05,\n",
    "        tf.float32\n",
    "    )\n",
    "\n",
    "    return tf.reduce_mean(correct)\n",
    "\n",
    "def CREATE_SEQUENCES(data, sequence_length, target_column='close'):\n",
    "    X, y, = [], []\n",
    "    for i in range(sequence_length, len(data)):\n",
    "        features = data.iloc[i - sequence_length:i].values\n",
    "        X.append(features)\n",
    "\n",
    "        targets = data.iloc[i][target_column]\n",
    "        y.append(targets)\n",
    "\n",
    "    return np.array(X), np.array(y)\n",
    "\n",
    "def NN_MODEL(input_shape, learning_rate=5e-4):\n",
    "    model = models.Sequential([\n",
    "        layers.Input(shape=input_shape),\n",
    "        TCN(\n",
    "            nb_filters=8,\n",
    "            kernel_size=4,\n",
    "            nb_stacks=1,\n",
    "            dilations=[1, 2, 4, 8],\n",
    "            padding='causal',\n",
    "            dropout_rate=0.2,\n",
    "            return_sequences=False\n",
    "        ),\n",
    "        BatchNormalization(),\n",
    "\n",
    "        layers.Dense(1)\n",
    "    ])\n",
    "\n",
    "    optimizer = tf.keras.optimizers.Adam(learning_rate=learning_rate)\n",
    "    \n",
    "    model.compile(\n",
    "        optimizer=optimizer,\n",
    "        loss='mean_squared_error',\n",
    "        metrics=[\n",
    "            'mean_absolute_error', \n",
    "            R2, \n",
    "            ACCURACY_5\n",
    "        ]\n",
    "    )\n",
    "    \n",
    "    return model"
   ],
   "id": "5bebe178ba90dcca",
   "outputs": [],
   "execution_count": 130
  },
  {
   "metadata": {},
   "cell_type": "markdown",
   "source": [
    "## 2. Data Loading\n",
    "\n"
   ],
   "id": "7dfcee9438defb82"
  },
  {
   "metadata": {
    "ExecuteTime": {
     "end_time": "2025-02-22T23:08:36.821648Z",
     "start_time": "2025-02-22T23:08:36.792883Z"
    }
   },
   "cell_type": "code",
   "source": [
    "df = pd.read_csv(\"Datasets/NASDAQ_100.csv\")\n",
    "df['sma_20'] = df['close'].rolling(window=20).mean()\n",
    "df['ema_20'] = df['close'].ewm(span=20, adjust=False).mean()\n",
    "df['rsi'] = ta.momentum.RSIIndicator(df['close'], window=14).rsi()\n",
    "df['bollinger_upper'] = df['sma_20'] + 2 * df['close'].rolling(window=20).std()\n",
    "df['bollinger_uower'] = df['sma_20'] - 2 * df['close'].rolling(window=20).std()\n",
    "\n",
    "df.ffill(inplace=True)\n",
    "df = df.drop(columns=['date'])"
   ],
   "id": "f7ce07644e7f5fe2",
   "outputs": [],
   "execution_count": 131
  },
  {
   "metadata": {},
   "cell_type": "markdown",
   "source": [
    "## 3. Data Preprocessing\n",
    "\n"
   ],
   "id": "cbb313bed44a1a73"
  },
  {
   "metadata": {
    "ExecuteTime": {
     "end_time": "2025-02-22T23:08:36.844069Z",
     "start_time": "2025-02-22T23:08:36.834574Z"
    }
   },
   "cell_type": "code",
   "source": [
    "scaler_features = MinMaxScaler()\n",
    "target_scaler = StandardScaler()\n",
    "\n",
    "target = pd.DataFrame(\n",
    "    target_scaler.fit_transform(df['close'].values.reshape(-1, 1))\n",
    ")\n",
    "\n",
    "df = pd.concat(\n",
    "    [\n",
    "        pd.DataFrame(\n",
    "            scaler_features.fit_transform(\n",
    "                df.filter(\n",
    "                    items=[col for col in df.columns if col != 'close']\n",
    "                )\n",
    "            ),\n",
    "            columns=df.filter(\n",
    "                items=[col for col in df.columns if col != 'close']\n",
    "            ).columns\n",
    "        ),\n",
    "        target,\n",
    "    ], axis=1\n",
    ").dropna()\n",
    "df.rename(\n",
    "    columns={0: 'close'},\n",
    "    inplace=True\n",
    ")"
   ],
   "id": "22aa2f53cb080759",
   "outputs": [],
   "execution_count": 132
  },
  {
   "metadata": {},
   "cell_type": "markdown",
   "source": [
    "## 4. Creating Sequences\n",
    "\n"
   ],
   "id": "5e8505531d040e1a"
  },
  {
   "metadata": {
    "ExecuteTime": {
     "end_time": "2025-02-22T23:08:39.159838Z",
     "start_time": "2025-02-22T23:08:36.889846Z"
    }
   },
   "cell_type": "code",
   "source": [
    "sequence_length = 2000 # nombre de features pour l'entrainement (nombre de jours d'entrée)\n",
    "\n",
    "X, y = CREATE_SEQUENCES(df, sequence_length=sequence_length)\n",
    "print(\"X shape :\", X.shape, \"y shape :\", y.shape)"
   ],
   "id": "8ff1cccbbd1c6943",
   "outputs": [
    {
     "name": "stdout",
     "output_type": "stream",
     "text": [
      "X shape : (7697, 2000, 12) y shape : (7697,)\n"
     ]
    }
   ],
   "execution_count": 133
  },
  {
   "metadata": {},
   "cell_type": "markdown",
   "source": [
    "## 5. Splitting the Dataset\n",
    "\n",
    "We split the data into training (70%), validation (15%), and test (15%) sets.\n"
   ],
   "id": "e6abf6f97cc5455e"
  },
  {
   "metadata": {
    "ExecuteTime": {
     "end_time": "2025-02-22T23:08:39.277876Z",
     "start_time": "2025-02-22T23:08:39.183039Z"
    }
   },
   "cell_type": "code",
   "source": [
    "train_size = int(len(X) * 0.7)\n",
    "val_size = int(len(X) * 0.15)\n",
    "\n",
    "X_train = X[:train_size]\n",
    "X_val = X[train_size:train_size + val_size]\n",
    "X_test = X[train_size + val_size:]\n",
    "\n",
    "y_train = y[:train_size]\n",
    "y_val = y[train_size:train_size + val_size]\n",
    "y_test = y[train_size + val_size:]\n",
    "\n",
    "print(\"Train shapes :\", X_train.shape, y_train.shape)\n",
    "print(\"Val shapes  :\", X_val.shape, y_val.shape)\n",
    "print(\"Test shapes :\", X_test.shape, y_test.shape)"
   ],
   "id": "af39ece9cee9b1c4",
   "outputs": [
    {
     "name": "stdout",
     "output_type": "stream",
     "text": [
      "Train shapes : (5387, 2000, 12) (5387,)\n",
      "Val shapes  : (1154, 2000, 12) (1154,)\n",
      "Test shapes : (1156, 2000, 12) (1156,)\n"
     ]
    }
   ],
   "execution_count": 134
  },
  {
   "metadata": {},
   "cell_type": "markdown",
   "source": [
    "## 6. Building the Model\n",
    "\n"
   ],
   "id": "9ac2e20705d730ee"
  },
  {
   "metadata": {
    "ExecuteTime": {
     "end_time": "2025-02-22T23:08:39.375983Z",
     "start_time": "2025-02-22T23:08:39.291024Z"
    }
   },
   "cell_type": "code",
   "source": [
    "input_shape = (sequence_length, X.shape[-1])\n",
    "model = NN_MODEL(input_shape=input_shape)\n",
    "model.summary()"
   ],
   "id": "768904dd56d6edc0",
   "outputs": [
    {
     "data": {
      "text/plain": [
       "\u001B[1mModel: \"sequential_11\"\u001B[0m\n"
      ],
      "text/html": [
       "<pre style=\"white-space:pre;overflow-x:auto;line-height:normal;font-family:Menlo,'DejaVu Sans Mono',consolas,'Courier New',monospace\"><span style=\"font-weight: bold\">Model: \"sequential_11\"</span>\n",
       "</pre>\n"
      ]
     },
     "metadata": {},
     "output_type": "display_data"
    },
    {
     "data": {
      "text/plain": [
       "┏━━━━━━━━━━━━━━━━━━━━━━━━━━━━━━━━━┳━━━━━━━━━━━━━━━━━━━━━━━━┳━━━━━━━━━━━━━━━┓\n",
       "┃\u001B[1m \u001B[0m\u001B[1mLayer (type)                   \u001B[0m\u001B[1m \u001B[0m┃\u001B[1m \u001B[0m\u001B[1mOutput Shape          \u001B[0m\u001B[1m \u001B[0m┃\u001B[1m \u001B[0m\u001B[1m      Param #\u001B[0m\u001B[1m \u001B[0m┃\n",
       "┡━━━━━━━━━━━━━━━━━━━━━━━━━━━━━━━━━╇━━━━━━━━━━━━━━━━━━━━━━━━╇━━━━━━━━━━━━━━━┩\n",
       "│ tcn_11 (\u001B[38;5;33mTCN\u001B[0m)                    │ (\u001B[38;5;45mNone\u001B[0m, \u001B[38;5;34m8\u001B[0m)              │         \u001B[38;5;34m2,344\u001B[0m │\n",
       "├─────────────────────────────────┼────────────────────────┼───────────────┤\n",
       "│ batch_normalization_11          │ (\u001B[38;5;45mNone\u001B[0m, \u001B[38;5;34m8\u001B[0m)              │            \u001B[38;5;34m32\u001B[0m │\n",
       "│ (\u001B[38;5;33mBatchNormalization\u001B[0m)            │                        │               │\n",
       "├─────────────────────────────────┼────────────────────────┼───────────────┤\n",
       "│ dense_11 (\u001B[38;5;33mDense\u001B[0m)                │ (\u001B[38;5;45mNone\u001B[0m, \u001B[38;5;34m1\u001B[0m)              │             \u001B[38;5;34m9\u001B[0m │\n",
       "└─────────────────────────────────┴────────────────────────┴───────────────┘\n"
      ],
      "text/html": [
       "<pre style=\"white-space:pre;overflow-x:auto;line-height:normal;font-family:Menlo,'DejaVu Sans Mono',consolas,'Courier New',monospace\">┏━━━━━━━━━━━━━━━━━━━━━━━━━━━━━━━━━┳━━━━━━━━━━━━━━━━━━━━━━━━┳━━━━━━━━━━━━━━━┓\n",
       "┃<span style=\"font-weight: bold\"> Layer (type)                    </span>┃<span style=\"font-weight: bold\"> Output Shape           </span>┃<span style=\"font-weight: bold\">       Param # </span>┃\n",
       "┡━━━━━━━━━━━━━━━━━━━━━━━━━━━━━━━━━╇━━━━━━━━━━━━━━━━━━━━━━━━╇━━━━━━━━━━━━━━━┩\n",
       "│ tcn_11 (<span style=\"color: #0087ff; text-decoration-color: #0087ff\">TCN</span>)                    │ (<span style=\"color: #00d7ff; text-decoration-color: #00d7ff\">None</span>, <span style=\"color: #00af00; text-decoration-color: #00af00\">8</span>)              │         <span style=\"color: #00af00; text-decoration-color: #00af00\">2,344</span> │\n",
       "├─────────────────────────────────┼────────────────────────┼───────────────┤\n",
       "│ batch_normalization_11          │ (<span style=\"color: #00d7ff; text-decoration-color: #00d7ff\">None</span>, <span style=\"color: #00af00; text-decoration-color: #00af00\">8</span>)              │            <span style=\"color: #00af00; text-decoration-color: #00af00\">32</span> │\n",
       "│ (<span style=\"color: #0087ff; text-decoration-color: #0087ff\">BatchNormalization</span>)            │                        │               │\n",
       "├─────────────────────────────────┼────────────────────────┼───────────────┤\n",
       "│ dense_11 (<span style=\"color: #0087ff; text-decoration-color: #0087ff\">Dense</span>)                │ (<span style=\"color: #00d7ff; text-decoration-color: #00d7ff\">None</span>, <span style=\"color: #00af00; text-decoration-color: #00af00\">1</span>)              │             <span style=\"color: #00af00; text-decoration-color: #00af00\">9</span> │\n",
       "└─────────────────────────────────┴────────────────────────┴───────────────┘\n",
       "</pre>\n"
      ]
     },
     "metadata": {},
     "output_type": "display_data"
    },
    {
     "data": {
      "text/plain": [
       "\u001B[1m Total params: \u001B[0m\u001B[38;5;34m2,385\u001B[0m (9.32 KB)\n"
      ],
      "text/html": [
       "<pre style=\"white-space:pre;overflow-x:auto;line-height:normal;font-family:Menlo,'DejaVu Sans Mono',consolas,'Courier New',monospace\"><span style=\"font-weight: bold\"> Total params: </span><span style=\"color: #00af00; text-decoration-color: #00af00\">2,385</span> (9.32 KB)\n",
       "</pre>\n"
      ]
     },
     "metadata": {},
     "output_type": "display_data"
    },
    {
     "data": {
      "text/plain": [
       "\u001B[1m Trainable params: \u001B[0m\u001B[38;5;34m2,369\u001B[0m (9.25 KB)\n"
      ],
      "text/html": [
       "<pre style=\"white-space:pre;overflow-x:auto;line-height:normal;font-family:Menlo,'DejaVu Sans Mono',consolas,'Courier New',monospace\"><span style=\"font-weight: bold\"> Trainable params: </span><span style=\"color: #00af00; text-decoration-color: #00af00\">2,369</span> (9.25 KB)\n",
       "</pre>\n"
      ]
     },
     "metadata": {},
     "output_type": "display_data"
    },
    {
     "data": {
      "text/plain": [
       "\u001B[1m Non-trainable params: \u001B[0m\u001B[38;5;34m16\u001B[0m (64.00 B)\n"
      ],
      "text/html": [
       "<pre style=\"white-space:pre;overflow-x:auto;line-height:normal;font-family:Menlo,'DejaVu Sans Mono',consolas,'Courier New',monospace\"><span style=\"font-weight: bold\"> Non-trainable params: </span><span style=\"color: #00af00; text-decoration-color: #00af00\">16</span> (64.00 B)\n",
       "</pre>\n"
      ]
     },
     "metadata": {},
     "output_type": "display_data"
    }
   ],
   "execution_count": 135
  },
  {
   "metadata": {},
   "cell_type": "markdown",
   "source": [
    "## 7. Training the Model\n",
    "\n",
    "We train the model using EarlyStopping and ReduceLROnPlateau to avoid overfitting.\n"
   ],
   "id": "b224b4b148ea6366"
  },
  {
   "metadata": {
    "ExecuteTime": {
     "end_time": "2025-02-22T23:21:00.309605Z",
     "start_time": "2025-02-22T23:08:39.389797Z"
    }
   },
   "cell_type": "code",
   "source": [
    "early_stopping = EarlyStopping(\n",
    "    monitor='val_loss',\n",
    "    patience=15,\n",
    "    restore_best_weights=True\n",
    ") # on arrete l'entrainement si la loss ne diminue plus sur plusieurs epochs\n",
    "\n",
    "reduce_lr = ReduceLROnPlateau(\n",
    "    monitor='val_loss',\n",
    "    factor=0.5,\n",
    "    patience=10,\n",
    "    verbose=1\n",
    ") # quand la loss ne diminue plus, on baisse le learning rate\n",
    "\n",
    "history = model.fit(\n",
    "    X_train, y_train,\n",
    "    epochs=80,\n",
    "    batch_size=16,\n",
    "    validation_data=(X_val, y_val),\n",
    "    callbacks=[\n",
    "        early_stopping,\n",
    "        reduce_lr\n",
    "    ]\n",
    ")"
   ],
   "id": "f088f438fe5fc028",
   "outputs": [
    {
     "name": "stdout",
     "output_type": "stream",
     "text": [
      "Epoch 1/80\n",
      "\u001B[1m337/337\u001B[0m \u001B[32m━━━━━━━━━━━━━━━━━━━━\u001B[0m\u001B[37m\u001B[0m \u001B[1m11s\u001B[0m 28ms/step - accuracy_5: 0.0205 - loss: 1.1132 - mean_absolute_error: 0.7754 - r2: -380.0437 - val_accuracy_5: 0.0000e+00 - val_loss: 0.6459 - val_mean_absolute_error: 0.7753 - val_r2: -53910.1055 - learning_rate: 5.0000e-04\n",
      "Epoch 2/80\n",
      "\u001B[1m337/337\u001B[0m \u001B[32m━━━━━━━━━━━━━━━━━━━━\u001B[0m\u001B[37m\u001B[0m \u001B[1m9s\u001B[0m 27ms/step - accuracy_5: 0.0309 - loss: 0.3229 - mean_absolute_error: 0.4204 - r2: -136.8548 - val_accuracy_5: 0.0000e+00 - val_loss: 0.7488 - val_mean_absolute_error: 0.8371 - val_r2: -61838.6367 - learning_rate: 5.0000e-04\n",
      "Epoch 3/80\n",
      "\u001B[1m337/337\u001B[0m \u001B[32m━━━━━━━━━━━━━━━━━━━━\u001B[0m\u001B[37m\u001B[0m \u001B[1m9s\u001B[0m 26ms/step - accuracy_5: 0.0407 - loss: 0.1805 - mean_absolute_error: 0.3086 - r2: -82.1510 - val_accuracy_5: 0.0000e+00 - val_loss: 0.6760 - val_mean_absolute_error: 0.7917 - val_r2: -55147.6055 - learning_rate: 5.0000e-04\n",
      "Epoch 4/80\n",
      "\u001B[1m337/337\u001B[0m \u001B[32m━━━━━━━━━━━━━━━━━━━━\u001B[0m\u001B[37m\u001B[0m \u001B[1m9s\u001B[0m 27ms/step - accuracy_5: 0.0460 - loss: 0.1280 - mean_absolute_error: 0.2573 - r2: -65.3022 - val_accuracy_5: 0.0000e+00 - val_loss: 0.6980 - val_mean_absolute_error: 0.8069 - val_r2: -57055.7422 - learning_rate: 5.0000e-04\n",
      "Epoch 5/80\n",
      "\u001B[1m337/337\u001B[0m \u001B[32m━━━━━━━━━━━━━━━━━━━━\u001B[0m\u001B[37m\u001B[0m \u001B[1m9s\u001B[0m 27ms/step - accuracy_5: 0.0500 - loss: 0.0932 - mean_absolute_error: 0.2202 - r2: -54.1491 - val_accuracy_5: 0.0000e+00 - val_loss: 0.5435 - val_mean_absolute_error: 0.7110 - val_r2: -44235.9414 - learning_rate: 5.0000e-04\n",
      "Epoch 6/80\n",
      "\u001B[1m337/337\u001B[0m \u001B[32m━━━━━━━━━━━━━━━━━━━━\u001B[0m\u001B[37m\u001B[0m \u001B[1m9s\u001B[0m 28ms/step - accuracy_5: 0.0530 - loss: 0.0691 - mean_absolute_error: 0.1887 - r2: -48.1882 - val_accuracy_5: 0.0000e+00 - val_loss: 0.4510 - val_mean_absolute_error: 0.6467 - val_r2: -36628.7031 - learning_rate: 5.0000e-04\n",
      "Epoch 7/80\n",
      "\u001B[1m337/337\u001B[0m \u001B[32m━━━━━━━━━━━━━━━━━━━━\u001B[0m\u001B[37m\u001B[0m \u001B[1m9s\u001B[0m 28ms/step - accuracy_5: 0.0590 - loss: 0.0473 - mean_absolute_error: 0.1563 - r2: -43.1859 - val_accuracy_5: 0.0000e+00 - val_loss: 0.4040 - val_mean_absolute_error: 0.6094 - val_r2: -32338.8555 - learning_rate: 5.0000e-04\n",
      "Epoch 8/80\n",
      "\u001B[1m337/337\u001B[0m \u001B[32m━━━━━━━━━━━━━━━━━━━━\u001B[0m\u001B[37m\u001B[0m \u001B[1m9s\u001B[0m 27ms/step - accuracy_5: 0.0583 - loss: 0.0418 - mean_absolute_error: 0.1448 - r2: -39.5591 - val_accuracy_5: 0.0000e+00 - val_loss: 0.3928 - val_mean_absolute_error: 0.6030 - val_r2: -31608.2734 - learning_rate: 5.0000e-04\n",
      "Epoch 9/80\n",
      "\u001B[1m337/337\u001B[0m \u001B[32m━━━━━━━━━━━━━━━━━━━━\u001B[0m\u001B[37m\u001B[0m \u001B[1m9s\u001B[0m 28ms/step - accuracy_5: 0.0628 - loss: 0.0349 - mean_absolute_error: 0.1332 - r2: -36.1857 - val_accuracy_5: 0.0000e+00 - val_loss: 0.2845 - val_mean_absolute_error: 0.5120 - val_r2: -22978.7734 - learning_rate: 5.0000e-04\n",
      "Epoch 10/80\n",
      "\u001B[1m337/337\u001B[0m \u001B[32m━━━━━━━━━━━━━━━━━━━━\u001B[0m\u001B[37m\u001B[0m \u001B[1m10s\u001B[0m 29ms/step - accuracy_5: 0.0615 - loss: 0.0258 - mean_absolute_error: 0.1141 - r2: -35.4632 - val_accuracy_5: 0.0000e+00 - val_loss: 0.2761 - val_mean_absolute_error: 0.5044 - val_r2: -22182.9219 - learning_rate: 5.0000e-04\n",
      "Epoch 11/80\n",
      "\u001B[1m337/337\u001B[0m \u001B[32m━━━━━━━━━━━━━━━━━━━━\u001B[0m\u001B[37m\u001B[0m \u001B[1m10s\u001B[0m 28ms/step - accuracy_5: 0.0612 - loss: 0.0216 - mean_absolute_error: 0.1049 - r2: -36.4868 - val_accuracy_5: 0.0000e+00 - val_loss: 0.2120 - val_mean_absolute_error: 0.4425 - val_r2: -17140.4199 - learning_rate: 5.0000e-04\n",
      "Epoch 12/80\n",
      "\u001B[1m337/337\u001B[0m \u001B[32m━━━━━━━━━━━━━━━━━━━━\u001B[0m\u001B[37m\u001B[0m \u001B[1m9s\u001B[0m 28ms/step - accuracy_5: 0.0620 - loss: 0.0171 - mean_absolute_error: 0.0946 - r2: -35.9471 - val_accuracy_5: 0.0000e+00 - val_loss: 0.1228 - val_mean_absolute_error: 0.3365 - val_r2: -9968.9443 - learning_rate: 5.0000e-04\n",
      "Epoch 13/80\n",
      "\u001B[1m337/337\u001B[0m \u001B[32m━━━━━━━━━━━━━━━━━━━━\u001B[0m\u001B[37m\u001B[0m \u001B[1m10s\u001B[0m 28ms/step - accuracy_5: 0.0629 - loss: 0.0140 - mean_absolute_error: 0.0862 - r2: -34.2723 - val_accuracy_5: 0.0000e+00 - val_loss: 0.0869 - val_mean_absolute_error: 0.2836 - val_r2: -7114.9639 - learning_rate: 5.0000e-04\n",
      "Epoch 14/80\n",
      "\u001B[1m337/337\u001B[0m \u001B[32m━━━━━━━━━━━━━━━━━━━━\u001B[0m\u001B[37m\u001B[0m \u001B[1m9s\u001B[0m 27ms/step - accuracy_5: 0.0647 - loss: 0.0123 - mean_absolute_error: 0.0802 - r2: -35.0329 - val_accuracy_5: 3.2106e-04 - val_loss: 0.0561 - val_mean_absolute_error: 0.2279 - val_r2: -4587.8799 - learning_rate: 5.0000e-04\n",
      "Epoch 15/80\n",
      "\u001B[1m337/337\u001B[0m \u001B[32m━━━━━━━━━━━━━━━━━━━━\u001B[0m\u001B[37m\u001B[0m \u001B[1m9s\u001B[0m 28ms/step - accuracy_5: 0.0620 - loss: 0.0107 - mean_absolute_error: 0.0755 - r2: -35.4267 - val_accuracy_5: 6.4212e-04 - val_loss: 0.0476 - val_mean_absolute_error: 0.2104 - val_r2: -3967.0676 - learning_rate: 5.0000e-04\n",
      "Epoch 16/80\n",
      "\u001B[1m337/337\u001B[0m \u001B[32m━━━━━━━━━━━━━━━━━━━━\u001B[0m\u001B[37m\u001B[0m \u001B[1m9s\u001B[0m 28ms/step - accuracy_5: 0.0601 - loss: 0.0092 - mean_absolute_error: 0.0716 - r2: -33.6333 - val_accuracy_5: 0.0018 - val_loss: 0.0344 - val_mean_absolute_error: 0.1788 - val_r2: -2883.5178 - learning_rate: 5.0000e-04\n",
      "Epoch 17/80\n",
      "\u001B[1m337/337\u001B[0m \u001B[32m━━━━━━━━━━━━━━━━━━━━\u001B[0m\u001B[37m\u001B[0m \u001B[1m10s\u001B[0m 28ms/step - accuracy_5: 0.0614 - loss: 0.0090 - mean_absolute_error: 0.0707 - r2: -33.8742 - val_accuracy_5: 0.0026 - val_loss: 0.0290 - val_mean_absolute_error: 0.1637 - val_r2: -2374.8552 - learning_rate: 5.0000e-04\n",
      "Epoch 18/80\n",
      "\u001B[1m337/337\u001B[0m \u001B[32m━━━━━━━━━━━━━━━━━━━━\u001B[0m\u001B[37m\u001B[0m \u001B[1m9s\u001B[0m 28ms/step - accuracy_5: 0.0612 - loss: 0.0083 - mean_absolute_error: 0.0683 - r2: -32.8291 - val_accuracy_5: 0.0224 - val_loss: 0.0131 - val_mean_absolute_error: 0.1110 - val_r2: -1180.0673 - learning_rate: 5.0000e-04\n",
      "Epoch 19/80\n",
      "\u001B[1m337/337\u001B[0m \u001B[32m━━━━━━━━━━━━━━━━━━━━\u001B[0m\u001B[37m\u001B[0m \u001B[1m9s\u001B[0m 27ms/step - accuracy_5: 0.0633 - loss: 0.0076 - mean_absolute_error: 0.0660 - r2: -33.8583 - val_accuracy_5: 0.0084 - val_loss: 0.0188 - val_mean_absolute_error: 0.1330 - val_r2: -1615.5695 - learning_rate: 5.0000e-04\n",
      "Epoch 20/80\n",
      "\u001B[1m337/337\u001B[0m \u001B[32m━━━━━━━━━━━━━━━━━━━━\u001B[0m\u001B[37m\u001B[0m \u001B[1m9s\u001B[0m 28ms/step - accuracy_5: 0.0618 - loss: 0.0075 - mean_absolute_error: 0.0647 - r2: -33.2748 - val_accuracy_5: 0.0243 - val_loss: 0.0129 - val_mean_absolute_error: 0.1104 - val_r2: -1180.2609 - learning_rate: 5.0000e-04\n",
      "Epoch 21/80\n",
      "\u001B[1m337/337\u001B[0m \u001B[32m━━━━━━━━━━━━━━━━━━━━\u001B[0m\u001B[37m\u001B[0m \u001B[1m9s\u001B[0m 28ms/step - accuracy_5: 0.0638 - loss: 0.0073 - mean_absolute_error: 0.0645 - r2: -33.8586 - val_accuracy_5: 0.0086 - val_loss: 0.0188 - val_mean_absolute_error: 0.1327 - val_r2: -1592.6873 - learning_rate: 5.0000e-04\n",
      "Epoch 22/80\n",
      "\u001B[1m337/337\u001B[0m \u001B[32m━━━━━━━━━━━━━━━━━━━━\u001B[0m\u001B[37m\u001B[0m \u001B[1m10s\u001B[0m 29ms/step - accuracy_5: 0.0632 - loss: 0.0069 - mean_absolute_error: 0.0624 - r2: -33.1271 - val_accuracy_5: 0.0135 - val_loss: 0.0157 - val_mean_absolute_error: 0.1209 - val_r2: -1340.8352 - learning_rate: 5.0000e-04\n",
      "Epoch 23/80\n",
      "\u001B[1m337/337\u001B[0m \u001B[32m━━━━━━━━━━━━━━━━━━━━\u001B[0m\u001B[37m\u001B[0m \u001B[1m9s\u001B[0m 28ms/step - accuracy_5: 0.0644 - loss: 0.0070 - mean_absolute_error: 0.0633 - r2: -33.1700 - val_accuracy_5: 0.0510 - val_loss: 0.0076 - val_mean_absolute_error: 0.0828 - val_r2: -668.9069 - learning_rate: 5.0000e-04\n",
      "Epoch 24/80\n",
      "\u001B[1m337/337\u001B[0m \u001B[32m━━━━━━━━━━━━━━━━━━━━\u001B[0m\u001B[37m\u001B[0m \u001B[1m9s\u001B[0m 28ms/step - accuracy_5: 0.0640 - loss: 0.0067 - mean_absolute_error: 0.0606 - r2: -33.4000 - val_accuracy_5: 0.0958 - val_loss: 0.0056 - val_mean_absolute_error: 0.0705 - val_r2: -509.9120 - learning_rate: 5.0000e-04\n",
      "Epoch 25/80\n",
      "\u001B[1m337/337\u001B[0m \u001B[32m━━━━━━━━━━━━━━━━━━━━\u001B[0m\u001B[37m\u001B[0m \u001B[1m10s\u001B[0m 28ms/step - accuracy_5: 0.0662 - loss: 0.0068 - mean_absolute_error: 0.0607 - r2: -33.4279 - val_accuracy_5: 0.2071 - val_loss: 0.0033 - val_mean_absolute_error: 0.0526 - val_r2: -307.4196 - learning_rate: 5.0000e-04\n",
      "Epoch 26/80\n",
      "\u001B[1m337/337\u001B[0m \u001B[32m━━━━━━━━━━━━━━━━━━━━\u001B[0m\u001B[37m\u001B[0m \u001B[1m10s\u001B[0m 29ms/step - accuracy_5: 0.0660 - loss: 0.0064 - mean_absolute_error: 0.0600 - r2: -33.3307 - val_accuracy_5: 0.3332 - val_loss: 0.0022 - val_mean_absolute_error: 0.0424 - val_r2: -225.2023 - learning_rate: 5.0000e-04\n",
      "Epoch 27/80\n",
      "\u001B[1m337/337\u001B[0m \u001B[32m━━━━━━━━━━━━━━━━━━━━\u001B[0m\u001B[37m\u001B[0m \u001B[1m10s\u001B[0m 29ms/step - accuracy_5: 0.0648 - loss: 0.0063 - mean_absolute_error: 0.0601 - r2: -33.9118 - val_accuracy_5: 0.0426 - val_loss: 0.0084 - val_mean_absolute_error: 0.0877 - val_r2: -766.0949 - learning_rate: 5.0000e-04\n",
      "Epoch 28/80\n",
      "\u001B[1m337/337\u001B[0m \u001B[32m━━━━━━━━━━━━━━━━━━━━\u001B[0m\u001B[37m\u001B[0m \u001B[1m10s\u001B[0m 28ms/step - accuracy_5: 0.0658 - loss: 0.0058 - mean_absolute_error: 0.0579 - r2: -33.3540 - val_accuracy_5: 0.2740 - val_loss: 0.0025 - val_mean_absolute_error: 0.0458 - val_r2: -245.6778 - learning_rate: 5.0000e-04\n",
      "Epoch 29/80\n",
      "\u001B[1m337/337\u001B[0m \u001B[32m━━━━━━━━━━━━━━━━━━━━\u001B[0m\u001B[37m\u001B[0m \u001B[1m10s\u001B[0m 29ms/step - accuracy_5: 0.0635 - loss: 0.0060 - mean_absolute_error: 0.0589 - r2: -33.8352 - val_accuracy_5: 0.0471 - val_loss: 0.0080 - val_mean_absolute_error: 0.0853 - val_r2: -718.9238 - learning_rate: 5.0000e-04\n",
      "Epoch 30/80\n",
      "\u001B[1m337/337\u001B[0m \u001B[32m━━━━━━━━━━━━━━━━━━━━\u001B[0m\u001B[37m\u001B[0m \u001B[1m10s\u001B[0m 29ms/step - accuracy_5: 0.0653 - loss: 0.0059 - mean_absolute_error: 0.0585 - r2: -32.9671 - val_accuracy_5: 0.2532 - val_loss: 0.0028 - val_mean_absolute_error: 0.0482 - val_r2: -274.2684 - learning_rate: 5.0000e-04\n",
      "Epoch 31/80\n",
      "\u001B[1m337/337\u001B[0m \u001B[32m━━━━━━━━━━━━━━━━━━━━\u001B[0m\u001B[37m\u001B[0m \u001B[1m10s\u001B[0m 28ms/step - accuracy_5: 0.0652 - loss: 0.0057 - mean_absolute_error: 0.0572 - r2: -33.4425 - val_accuracy_5: 0.0801 - val_loss: 0.0060 - val_mean_absolute_error: 0.0732 - val_r2: -569.6785 - learning_rate: 5.0000e-04\n",
      "Epoch 32/80\n",
      "\u001B[1m337/337\u001B[0m \u001B[32m━━━━━━━━━━━━━━━━━━━━\u001B[0m\u001B[37m\u001B[0m \u001B[1m9s\u001B[0m 27ms/step - accuracy_5: 0.0661 - loss: 0.0059 - mean_absolute_error: 0.0573 - r2: -32.7969 - val_accuracy_5: 0.3300 - val_loss: 0.0022 - val_mean_absolute_error: 0.0412 - val_r2: -226.7045 - learning_rate: 5.0000e-04\n",
      "Epoch 33/80\n",
      "\u001B[1m337/337\u001B[0m \u001B[32m━━━━━━━━━━━━━━━━━━━━\u001B[0m\u001B[37m\u001B[0m \u001B[1m9s\u001B[0m 27ms/step - accuracy_5: 0.0645 - loss: 0.0060 - mean_absolute_error: 0.0586 - r2: -33.3608 - val_accuracy_5: 0.3920 - val_loss: 0.0020 - val_mean_absolute_error: 0.0380 - val_r2: -204.2794 - learning_rate: 5.0000e-04\n",
      "Epoch 34/80\n",
      "\u001B[1m337/337\u001B[0m \u001B[32m━━━━━━━━━━━━━━━━━━━━\u001B[0m\u001B[37m\u001B[0m \u001B[1m9s\u001B[0m 28ms/step - accuracy_5: 0.0690 - loss: 0.0055 - mean_absolute_error: 0.0558 - r2: -33.3911 - val_accuracy_5: 0.4510 - val_loss: 0.0016 - val_mean_absolute_error: 0.0334 - val_r2: -155.8792 - learning_rate: 5.0000e-04\n",
      "Epoch 35/80\n",
      "\u001B[1m337/337\u001B[0m \u001B[32m━━━━━━━━━━━━━━━━━━━━\u001B[0m\u001B[37m\u001B[0m \u001B[1m10s\u001B[0m 29ms/step - accuracy_5: 0.0681 - loss: 0.0051 - mean_absolute_error: 0.0544 - r2: -33.0697 - val_accuracy_5: 0.5673 - val_loss: 0.0010 - val_mean_absolute_error: 0.0254 - val_r2: -90.9677 - learning_rate: 5.0000e-04\n",
      "Epoch 36/80\n",
      "\u001B[1m337/337\u001B[0m \u001B[32m━━━━━━━━━━━━━━━━━━━━\u001B[0m\u001B[37m\u001B[0m \u001B[1m10s\u001B[0m 28ms/step - accuracy_5: 0.0660 - loss: 0.0060 - mean_absolute_error: 0.0576 - r2: -33.9236 - val_accuracy_5: 0.1844 - val_loss: 0.0041 - val_mean_absolute_error: 0.0594 - val_r2: -433.4884 - learning_rate: 5.0000e-04\n",
      "Epoch 37/80\n",
      "\u001B[1m337/337\u001B[0m \u001B[32m━━━━━━━━━━━━━━━━━━━━\u001B[0m\u001B[37m\u001B[0m \u001B[1m9s\u001B[0m 27ms/step - accuracy_5: 0.0664 - loss: 0.0062 - mean_absolute_error: 0.0594 - r2: -33.4263 - val_accuracy_5: 0.5476 - val_loss: 0.0016 - val_mean_absolute_error: 0.0292 - val_r2: -73.0150 - learning_rate: 5.0000e-04\n",
      "Epoch 38/80\n",
      "\u001B[1m337/337\u001B[0m \u001B[32m━━━━━━━━━━━━━━━━━━━━\u001B[0m\u001B[37m\u001B[0m \u001B[1m9s\u001B[0m 27ms/step - accuracy_5: 0.0689 - loss: 0.0053 - mean_absolute_error: 0.0552 - r2: -33.5032 - val_accuracy_5: 0.6086 - val_loss: 8.3989e-04 - val_mean_absolute_error: 0.0217 - val_r2: -76.2724 - learning_rate: 5.0000e-04\n",
      "Epoch 39/80\n",
      "\u001B[1m337/337\u001B[0m \u001B[32m━━━━━━━━━━━━━━━━━━━━\u001B[0m\u001B[37m\u001B[0m \u001B[1m9s\u001B[0m 27ms/step - accuracy_5: 0.0650 - loss: 0.0051 - mean_absolute_error: 0.0557 - r2: -32.7953 - val_accuracy_5: 0.1515 - val_loss: 0.0041 - val_mean_absolute_error: 0.0605 - val_r2: -407.3669 - learning_rate: 5.0000e-04\n",
      "Epoch 40/80\n",
      "\u001B[1m337/337\u001B[0m \u001B[32m━━━━━━━━━━━━━━━━━━━━\u001B[0m\u001B[37m\u001B[0m \u001B[1m9s\u001B[0m 27ms/step - accuracy_5: 0.0661 - loss: 0.0050 - mean_absolute_error: 0.0540 - r2: -33.0570 - val_accuracy_5: 0.3831 - val_loss: 0.0025 - val_mean_absolute_error: 0.0392 - val_r2: -134.5573 - learning_rate: 5.0000e-04\n",
      "Epoch 41/80\n",
      "\u001B[1m337/337\u001B[0m \u001B[32m━━━━━━━━━━━━━━━━━━━━\u001B[0m\u001B[37m\u001B[0m \u001B[1m9s\u001B[0m 27ms/step - accuracy_5: 0.0643 - loss: 0.0061 - mean_absolute_error: 0.0592 - r2: -33.3349 - val_accuracy_5: 0.4309 - val_loss: 0.0015 - val_mean_absolute_error: 0.0327 - val_r2: -156.6799 - learning_rate: 5.0000e-04\n",
      "Epoch 42/80\n",
      "\u001B[1m337/337\u001B[0m \u001B[32m━━━━━━━━━━━━━━━━━━━━\u001B[0m\u001B[37m\u001B[0m \u001B[1m9s\u001B[0m 27ms/step - accuracy_5: 0.0659 - loss: 0.0049 - mean_absolute_error: 0.0539 - r2: -33.2601 - val_accuracy_5: 0.6187 - val_loss: 9.4550e-04 - val_mean_absolute_error: 0.0224 - val_r2: -57.5554 - learning_rate: 5.0000e-04\n",
      "Epoch 43/80\n",
      "\u001B[1m337/337\u001B[0m \u001B[32m━━━━━━━━━━━━━━━━━━━━\u001B[0m\u001B[37m\u001B[0m \u001B[1m9s\u001B[0m 28ms/step - accuracy_5: 0.0645 - loss: 0.0050 - mean_absolute_error: 0.0541 - r2: -32.9784 - val_accuracy_5: 0.3345 - val_loss: 0.0021 - val_mean_absolute_error: 0.0402 - val_r2: -215.2937 - learning_rate: 5.0000e-04\n",
      "Epoch 44/80\n",
      "\u001B[1m337/337\u001B[0m \u001B[32m━━━━━━━━━━━━━━━━━━━━\u001B[0m\u001B[37m\u001B[0m \u001B[1m9s\u001B[0m 27ms/step - accuracy_5: 0.0674 - loss: 0.0048 - mean_absolute_error: 0.0534 - r2: -33.3830 - val_accuracy_5: 0.5438 - val_loss: 0.0014 - val_mean_absolute_error: 0.0279 - val_r2: -80.0235 - learning_rate: 5.0000e-04\n",
      "Epoch 45/80\n",
      "\u001B[1m337/337\u001B[0m \u001B[32m━━━━━━━━━━━━━━━━━━━━\u001B[0m\u001B[37m\u001B[0m \u001B[1m9s\u001B[0m 27ms/step - accuracy_5: 0.0648 - loss: 0.0062 - mean_absolute_error: 0.0619 - r2: -33.6209 - val_accuracy_5: 0.4640 - val_loss: 0.0013 - val_mean_absolute_error: 0.0307 - val_r2: -125.5492 - learning_rate: 5.0000e-04\n",
      "Epoch 46/80\n",
      "\u001B[1m337/337\u001B[0m \u001B[32m━━━━━━━━━━━━━━━━━━━━\u001B[0m\u001B[37m\u001B[0m \u001B[1m9s\u001B[0m 28ms/step - accuracy_5: 0.0638 - loss: 0.0052 - mean_absolute_error: 0.0551 - r2: -33.4038 - val_accuracy_5: 0.4866 - val_loss: 0.0012 - val_mean_absolute_error: 0.0287 - val_r2: -119.1123 - learning_rate: 5.0000e-04\n",
      "Epoch 47/80\n",
      "\u001B[1m337/337\u001B[0m \u001B[32m━━━━━━━━━━━━━━━━━━━━\u001B[0m\u001B[37m\u001B[0m \u001B[1m9s\u001B[0m 27ms/step - accuracy_5: 0.0624 - loss: 0.0060 - mean_absolute_error: 0.0597 - r2: -33.2393 - val_accuracy_5: 0.2862 - val_loss: 0.0024 - val_mean_absolute_error: 0.0450 - val_r2: -252.5304 - learning_rate: 5.0000e-04\n",
      "Epoch 48/80\n",
      "\u001B[1m336/337\u001B[0m \u001B[32m━━━━━━━━━━━━━━━━━━━\u001B[0m\u001B[37m━\u001B[0m \u001B[1m0s\u001B[0m 26ms/step - accuracy_5: 0.0656 - loss: 0.0051 - mean_absolute_error: 0.0543 - r2: -33.3073\n",
      "Epoch 48: ReduceLROnPlateau reducing learning rate to 0.0002500000118743628.\n",
      "\u001B[1m337/337\u001B[0m \u001B[32m━━━━━━━━━━━━━━━━━━━━\u001B[0m\u001B[37m\u001B[0m \u001B[1m9s\u001B[0m 28ms/step - accuracy_5: 0.0656 - loss: 0.0051 - mean_absolute_error: 0.0543 - r2: -33.3068 - val_accuracy_5: 0.5736 - val_loss: 8.2627e-04 - val_mean_absolute_error: 0.0230 - val_r2: -81.2066 - learning_rate: 5.0000e-04\n",
      "Epoch 49/80\n",
      "\u001B[1m337/337\u001B[0m \u001B[32m━━━━━━━━━━━━━━━━━━━━\u001B[0m\u001B[37m\u001B[0m \u001B[1m9s\u001B[0m 28ms/step - accuracy_5: 0.0646 - loss: 0.0049 - mean_absolute_error: 0.0544 - r2: -32.9386 - val_accuracy_5: 0.6078 - val_loss: 7.5537e-04 - val_mean_absolute_error: 0.0210 - val_r2: -73.3089 - learning_rate: 2.5000e-04\n",
      "Epoch 50/80\n",
      "\u001B[1m337/337\u001B[0m \u001B[32m━━━━━━━━━━━━━━━━━━━━\u001B[0m\u001B[37m\u001B[0m \u001B[1m9s\u001B[0m 28ms/step - accuracy_5: 0.0662 - loss: 0.0049 - mean_absolute_error: 0.0523 - r2: -33.0339 - val_accuracy_5: 0.5963 - val_loss: 8.9033e-04 - val_mean_absolute_error: 0.0226 - val_r2: -65.9701 - learning_rate: 2.5000e-04\n",
      "Epoch 51/80\n",
      "\u001B[1m337/337\u001B[0m \u001B[32m━━━━━━━━━━━━━━━━━━━━\u001B[0m\u001B[37m\u001B[0m \u001B[1m9s\u001B[0m 28ms/step - accuracy_5: 0.0654 - loss: 0.0051 - mean_absolute_error: 0.0544 - r2: -33.4740 - val_accuracy_5: 0.5774 - val_loss: 9.8164e-04 - val_mean_absolute_error: 0.0239 - val_r2: -70.9127 - learning_rate: 2.5000e-04\n",
      "Epoch 52/80\n",
      "\u001B[1m337/337\u001B[0m \u001B[32m━━━━━━━━━━━━━━━━━━━━\u001B[0m\u001B[37m\u001B[0m \u001B[1m9s\u001B[0m 28ms/step - accuracy_5: 0.0663 - loss: 0.0051 - mean_absolute_error: 0.0548 - r2: -33.0525 - val_accuracy_5: 0.5968 - val_loss: 7.9330e-04 - val_mean_absolute_error: 0.0218 - val_r2: -73.8105 - learning_rate: 2.5000e-04\n",
      "Epoch 53/80\n",
      "\u001B[1m337/337\u001B[0m \u001B[32m━━━━━━━━━━━━━━━━━━━━\u001B[0m\u001B[37m\u001B[0m \u001B[1m9s\u001B[0m 27ms/step - accuracy_5: 0.0659 - loss: 0.0055 - mean_absolute_error: 0.0575 - r2: -33.1838 - val_accuracy_5: 0.6045 - val_loss: 8.1737e-04 - val_mean_absolute_error: 0.0217 - val_r2: -64.6835 - learning_rate: 2.5000e-04\n",
      "Epoch 54/80\n",
      "\u001B[1m337/337\u001B[0m \u001B[32m━━━━━━━━━━━━━━━━━━━━\u001B[0m\u001B[37m\u001B[0m \u001B[1m9s\u001B[0m 27ms/step - accuracy_5: 0.0679 - loss: 0.0051 - mean_absolute_error: 0.0554 - r2: -33.1894 - val_accuracy_5: 0.6193 - val_loss: 7.0575e-04 - val_mean_absolute_error: 0.0202 - val_r2: -63.2016 - learning_rate: 2.5000e-04\n",
      "Epoch 55/80\n",
      "\u001B[1m337/337\u001B[0m \u001B[32m━━━━━━━━━━━━━━━━━━━━\u001B[0m\u001B[37m\u001B[0m \u001B[1m9s\u001B[0m 27ms/step - accuracy_5: 0.0647 - loss: 0.0048 - mean_absolute_error: 0.0533 - r2: -32.9812 - val_accuracy_5: 0.5943 - val_loss: 7.7722e-04 - val_mean_absolute_error: 0.0216 - val_r2: -73.2819 - learning_rate: 2.5000e-04\n",
      "Epoch 56/80\n",
      "\u001B[1m337/337\u001B[0m \u001B[32m━━━━━━━━━━━━━━━━━━━━\u001B[0m\u001B[37m\u001B[0m \u001B[1m9s\u001B[0m 27ms/step - accuracy_5: 0.0663 - loss: 0.0056 - mean_absolute_error: 0.0575 - r2: -33.7904 - val_accuracy_5: 0.6232 - val_loss: 6.5633e-04 - val_mean_absolute_error: 0.0196 - val_r2: -59.8090 - learning_rate: 2.5000e-04\n",
      "Epoch 57/80\n",
      "\u001B[1m337/337\u001B[0m \u001B[32m━━━━━━━━━━━━━━━━━━━━\u001B[0m\u001B[37m\u001B[0m \u001B[1m9s\u001B[0m 27ms/step - accuracy_5: 0.0670 - loss: 0.0043 - mean_absolute_error: 0.0515 - r2: -33.2250 - val_accuracy_5: 0.5908 - val_loss: 9.7892e-04 - val_mean_absolute_error: 0.0233 - val_r2: -64.6411 - learning_rate: 2.5000e-04\n",
      "Epoch 58/80\n",
      "\u001B[1m337/337\u001B[0m \u001B[32m━━━━━━━━━━━━━━━━━━━━\u001B[0m\u001B[37m\u001B[0m \u001B[1m9s\u001B[0m 27ms/step - accuracy_5: 0.0675 - loss: 0.0047 - mean_absolute_error: 0.0523 - r2: -33.6844 - val_accuracy_5: 0.5797 - val_loss: 9.2738e-04 - val_mean_absolute_error: 0.0234 - val_r2: -72.1565 - learning_rate: 2.5000e-04\n",
      "Epoch 59/80\n",
      "\u001B[1m337/337\u001B[0m \u001B[32m━━━━━━━━━━━━━━━━━━━━\u001B[0m\u001B[37m\u001B[0m \u001B[1m9s\u001B[0m 27ms/step - accuracy_5: 0.0656 - loss: 0.0049 - mean_absolute_error: 0.0547 - r2: -33.0280 - val_accuracy_5: 0.5294 - val_loss: 0.0014 - val_mean_absolute_error: 0.0280 - val_r2: -87.6763 - learning_rate: 2.5000e-04\n",
      "Epoch 60/80\n",
      "\u001B[1m337/337\u001B[0m \u001B[32m━━━━━━━━━━━━━━━━━━━━\u001B[0m\u001B[37m\u001B[0m \u001B[1m9s\u001B[0m 28ms/step - accuracy_5: 0.0645 - loss: 0.0054 - mean_absolute_error: 0.0566 - r2: -33.4287 - val_accuracy_5: 0.5609 - val_loss: 0.0012 - val_mean_absolute_error: 0.0257 - val_r2: -77.0061 - learning_rate: 2.5000e-04\n",
      "Epoch 61/80\n",
      "\u001B[1m337/337\u001B[0m \u001B[32m━━━━━━━━━━━━━━━━━━━━\u001B[0m\u001B[37m\u001B[0m \u001B[1m9s\u001B[0m 28ms/step - accuracy_5: 0.0627 - loss: 0.0053 - mean_absolute_error: 0.0568 - r2: -33.0695 - val_accuracy_5: 0.3390 - val_loss: 0.0036 - val_mean_absolute_error: 0.0457 - val_r2: -224.0307 - learning_rate: 2.5000e-04\n",
      "Epoch 62/80\n",
      "\u001B[1m337/337\u001B[0m \u001B[32m━━━━━━━━━━━━━━━━━━━━\u001B[0m\u001B[37m\u001B[0m \u001B[1m9s\u001B[0m 27ms/step - accuracy_5: 0.0666 - loss: 0.0046 - mean_absolute_error: 0.0520 - r2: -33.1791 - val_accuracy_5: 0.5809 - val_loss: 0.0010 - val_mean_absolute_error: 0.0237 - val_r2: -68.8151 - learning_rate: 2.5000e-04\n",
      "Epoch 63/80\n",
      "\u001B[1m337/337\u001B[0m \u001B[32m━━━━━━━━━━━━━━━━━━━━\u001B[0m\u001B[37m\u001B[0m \u001B[1m9s\u001B[0m 27ms/step - accuracy_5: 0.0699 - loss: 0.0045 - mean_absolute_error: 0.0520 - r2: -33.1098 - val_accuracy_5: 0.6281 - val_loss: 6.9800e-04 - val_mean_absolute_error: 0.0197 - val_r2: -55.7543 - learning_rate: 2.5000e-04\n",
      "Epoch 64/80\n",
      "\u001B[1m337/337\u001B[0m \u001B[32m━━━━━━━━━━━━━━━━━━━━\u001B[0m\u001B[37m\u001B[0m \u001B[1m9s\u001B[0m 27ms/step - accuracy_5: 0.0633 - loss: 0.0053 - mean_absolute_error: 0.0566 - r2: -33.1421 - val_accuracy_5: 0.6255 - val_loss: 5.7478e-04 - val_mean_absolute_error: 0.0184 - val_r2: -59.0297 - learning_rate: 2.5000e-04\n",
      "Epoch 65/80\n",
      "\u001B[1m337/337\u001B[0m \u001B[32m━━━━━━━━━━━━━━━━━━━━\u001B[0m\u001B[37m\u001B[0m \u001B[1m9s\u001B[0m 28ms/step - accuracy_5: 0.0659 - loss: 0.0052 - mean_absolute_error: 0.0548 - r2: -32.9966 - val_accuracy_5: 0.4100 - val_loss: 0.0022 - val_mean_absolute_error: 0.0363 - val_r2: -151.7466 - learning_rate: 2.5000e-04\n",
      "Epoch 66/80\n",
      "\u001B[1m337/337\u001B[0m \u001B[32m━━━━━━━━━━━━━━━━━━━━\u001B[0m\u001B[37m\u001B[0m \u001B[1m9s\u001B[0m 27ms/step - accuracy_5: 0.0664 - loss: 0.0054 - mean_absolute_error: 0.0571 - r2: -33.8596 - val_accuracy_5: 0.4603 - val_loss: 0.0018 - val_mean_absolute_error: 0.0329 - val_r2: -115.0452 - learning_rate: 2.5000e-04\n",
      "Epoch 67/80\n",
      "\u001B[1m337/337\u001B[0m \u001B[32m━━━━━━━━━━━━━━━━━━━━\u001B[0m\u001B[37m\u001B[0m \u001B[1m9s\u001B[0m 27ms/step - accuracy_5: 0.0637 - loss: 0.0049 - mean_absolute_error: 0.0546 - r2: -32.9002 - val_accuracy_5: 0.4672 - val_loss: 0.0020 - val_mean_absolute_error: 0.0335 - val_r2: -136.2296 - learning_rate: 2.5000e-04\n",
      "Epoch 68/80\n",
      "\u001B[1m337/337\u001B[0m \u001B[32m━━━━━━━━━━━━━━━━━━━━\u001B[0m\u001B[37m\u001B[0m \u001B[1m10s\u001B[0m 28ms/step - accuracy_5: 0.0670 - loss: 0.0050 - mean_absolute_error: 0.0543 - r2: -33.2042 - val_accuracy_5: 0.5220 - val_loss: 0.0016 - val_mean_absolute_error: 0.0289 - val_r2: -111.0911 - learning_rate: 2.5000e-04\n",
      "Epoch 69/80\n",
      "\u001B[1m337/337\u001B[0m \u001B[32m━━━━━━━━━━━━━━━━━━━━\u001B[0m\u001B[37m\u001B[0m \u001B[1m9s\u001B[0m 28ms/step - accuracy_5: 0.0641 - loss: 0.0049 - mean_absolute_error: 0.0541 - r2: -33.2862 - val_accuracy_5: 0.3143 - val_loss: 0.0036 - val_mean_absolute_error: 0.0466 - val_r2: -231.3041 - learning_rate: 2.5000e-04\n",
      "Epoch 70/80\n",
      "\u001B[1m337/337\u001B[0m \u001B[32m━━━━━━━━━━━━━━━━━━━━\u001B[0m\u001B[37m\u001B[0m \u001B[1m9s\u001B[0m 28ms/step - accuracy_5: 0.0658 - loss: 0.0048 - mean_absolute_error: 0.0534 - r2: -33.0575 - val_accuracy_5: 0.5900 - val_loss: 7.9231e-04 - val_mean_absolute_error: 0.0221 - val_r2: -69.3468 - learning_rate: 2.5000e-04\n",
      "Epoch 71/80\n",
      "\u001B[1m337/337\u001B[0m \u001B[32m━━━━━━━━━━━━━━━━━━━━\u001B[0m\u001B[37m\u001B[0m \u001B[1m9s\u001B[0m 28ms/step - accuracy_5: 0.0649 - loss: 0.0047 - mean_absolute_error: 0.0545 - r2: -32.7367 - val_accuracy_5: 0.4167 - val_loss: 0.0033 - val_mean_absolute_error: 0.0411 - val_r2: -200.8555 - learning_rate: 2.5000e-04\n",
      "Epoch 72/80\n",
      "\u001B[1m337/337\u001B[0m \u001B[32m━━━━━━━━━━━━━━━━━━━━\u001B[0m\u001B[37m\u001B[0m \u001B[1m9s\u001B[0m 27ms/step - accuracy_5: 0.0640 - loss: 0.0060 - mean_absolute_error: 0.0578 - r2: -33.5147 - val_accuracy_5: 0.4318 - val_loss: 0.0031 - val_mean_absolute_error: 0.0396 - val_r2: -191.0689 - learning_rate: 2.5000e-04\n",
      "Epoch 73/80\n",
      "\u001B[1m337/337\u001B[0m \u001B[32m━━━━━━━━━━━━━━━━━━━━\u001B[0m\u001B[37m\u001B[0m \u001B[1m9s\u001B[0m 27ms/step - accuracy_5: 0.0679 - loss: 0.0043 - mean_absolute_error: 0.0511 - r2: -32.8300 - val_accuracy_5: 0.5943 - val_loss: 0.0010 - val_mean_absolute_error: 0.0232 - val_r2: -69.4367 - learning_rate: 2.5000e-04\n",
      "Epoch 74/80\n",
      "\u001B[1m337/337\u001B[0m \u001B[32m━━━━━━━━━━━━━━━━━━━━\u001B[0m\u001B[37m\u001B[0m \u001B[1m0s\u001B[0m 26ms/step - accuracy_5: 0.0659 - loss: 0.0045 - mean_absolute_error: 0.0527 - r2: -32.8852\n",
      "Epoch 74: ReduceLROnPlateau reducing learning rate to 0.0001250000059371814.\n",
      "\u001B[1m337/337\u001B[0m \u001B[32m━━━━━━━━━━━━━━━━━━━━\u001B[0m\u001B[37m\u001B[0m \u001B[1m10s\u001B[0m 28ms/step - accuracy_5: 0.0659 - loss: 0.0045 - mean_absolute_error: 0.0527 - r2: -32.8856 - val_accuracy_5: 0.4551 - val_loss: 0.0026 - val_mean_absolute_error: 0.0363 - val_r2: -172.0334 - learning_rate: 2.5000e-04\n",
      "Epoch 75/80\n",
      "\u001B[1m337/337\u001B[0m \u001B[32m━━━━━━━━━━━━━━━━━━━━\u001B[0m\u001B[37m\u001B[0m \u001B[1m9s\u001B[0m 28ms/step - accuracy_5: 0.0667 - loss: 0.0058 - mean_absolute_error: 0.0586 - r2: -33.2718 - val_accuracy_5: 0.5100 - val_loss: 0.0016 - val_mean_absolute_error: 0.0293 - val_r2: -107.7570 - learning_rate: 1.2500e-04\n",
      "Epoch 76/80\n",
      "\u001B[1m337/337\u001B[0m \u001B[32m━━━━━━━━━━━━━━━━━━━━\u001B[0m\u001B[37m\u001B[0m \u001B[1m9s\u001B[0m 28ms/step - accuracy_5: 0.0663 - loss: 0.0047 - mean_absolute_error: 0.0538 - r2: -32.8135 - val_accuracy_5: 0.5468 - val_loss: 0.0013 - val_mean_absolute_error: 0.0264 - val_r2: -94.3634 - learning_rate: 1.2500e-04\n",
      "Epoch 77/80\n",
      "\u001B[1m337/337\u001B[0m \u001B[32m━━━━━━━━━━━━━━━━━━━━\u001B[0m\u001B[37m\u001B[0m \u001B[1m9s\u001B[0m 28ms/step - accuracy_5: 0.0663 - loss: 0.0044 - mean_absolute_error: 0.0525 - r2: -33.1395 - val_accuracy_5: 0.5525 - val_loss: 0.0012 - val_mean_absolute_error: 0.0257 - val_r2: -93.6189 - learning_rate: 1.2500e-04\n",
      "Epoch 78/80\n",
      "\u001B[1m337/337\u001B[0m \u001B[32m━━━━━━━━━━━━━━━━━━━━\u001B[0m\u001B[37m\u001B[0m \u001B[1m9s\u001B[0m 27ms/step - accuracy_5: 0.0700 - loss: 0.0042 - mean_absolute_error: 0.0511 - r2: -33.0959 - val_accuracy_5: 0.3146 - val_loss: 0.0039 - val_mean_absolute_error: 0.0479 - val_r2: -252.2708 - learning_rate: 1.2500e-04\n",
      "Epoch 79/80\n",
      "\u001B[1m337/337\u001B[0m \u001B[32m━━━━━━━━━━━━━━━━━━━━\u001B[0m\u001B[37m\u001B[0m \u001B[1m9s\u001B[0m 28ms/step - accuracy_5: 0.0649 - loss: 0.0048 - mean_absolute_error: 0.0536 - r2: -33.4438 - val_accuracy_5: 0.5621 - val_loss: 0.0011 - val_mean_absolute_error: 0.0247 - val_r2: -82.1235 - learning_rate: 1.2500e-04\n"
     ]
    }
   ],
   "execution_count": 136
  },
  {
   "metadata": {},
   "cell_type": "markdown",
   "source": [
    "## 8. Plotting the Training Loss\n",
    "\n",
    "We now plot the training and validation loss curves (MSE) over epochs.\n"
   ],
   "id": "1e1757a8c5e33041"
  },
  {
   "metadata": {
    "ExecuteTime": {
     "end_time": "2025-02-22T23:21:00.426370Z",
     "start_time": "2025-02-22T23:21:00.341243Z"
    }
   },
   "cell_type": "code",
   "source": [
    "plt.figure(figsize=(10, 5))\n",
    "\n",
    "plt.plot(history.history['loss'], label='train loss')\n",
    "plt.plot(history.history['val_loss'], label='Validation loss')\n",
    "\n",
    "plt.xlabel('Epoch')\n",
    "plt.ylabel('MSE')\n",
    "\n",
    "plt.title(\"Loss over epochs (TCN)\")\n",
    "\n",
    "plt.legend()\n",
    "plt.show()"
   ],
   "id": "3dc3c92d495bbb8e",
   "outputs": [
    {
     "data": {
      "text/plain": [
       "<Figure size 1000x500 with 1 Axes>"
      ],
      "image/png": "[encoded data removed]"
     },
     "metadata": {},
     "output_type": "display_data"
    }
   ],
   "execution_count": 137
  },
  {
   "metadata": {},
   "cell_type": "markdown",
   "source": [
    "## 9. Model Evaluation and Predictions\n",
    "\n",
    "Next, we evaluate the model on the test set and predict closing prices.\n"
   ],
   "id": "4357e3cc36e56864"
  },
  {
   "metadata": {
    "ExecuteTime": {
     "end_time": "2025-02-22T23:21:01.095693Z",
     "start_time": "2025-02-22T23:21:00.438516Z"
    }
   },
   "cell_type": "code",
   "source": [
    "test_loss = model.evaluate(X_test, y_test)\n",
    "print(\"Test Loss :\", test_loss)"
   ],
   "id": "6d2ec1b660d3c9d4",
   "outputs": [
    {
     "name": "stdout",
     "output_type": "stream",
     "text": [
      "\u001B[1m37/37\u001B[0m \u001B[32m━━━━━━━━━━━━━━━━━━━━\u001B[0m\u001B[37m\u001B[0m \u001B[1m1s\u001B[0m 15ms/step - accuracy_5: 0.5507 - loss: 0.0073 - mean_absolute_error: 0.0638 - r2: -90.3390\n",
      "Test Loss : [0.01026838831603527, 0.08118148148059845, -97.69404602050781, 0.5558751821517944]\n"
     ]
    }
   ],
   "execution_count": 138
  },
  {
   "metadata": {},
   "cell_type": "markdown",
   "source": [
    "## 10. Inverse Scaling and Metrics Calculation\n",
    "\n",
    "We inverse the scaling to get the original closing price values, then calculate performance metrics (R², MAE, etc.).\n"
   ],
   "id": "31c9973e357ed4df"
  },
  {
   "metadata": {
    "ExecuteTime": {
     "end_time": "2025-02-22T23:21:01.877446Z",
     "start_time": "2025-02-22T23:21:01.108200Z"
    }
   },
   "cell_type": "code",
   "source": [
    "# Inverse transform the predictions and true values\n",
    "y_pred_scaled = model.predict(X_test)\n",
    "y_test_unscaled = target_scaler.inverse_transform(y_test.reshape(-1,1))\n",
    "y_pred_unscaled = target_scaler.inverse_transform(y_pred_scaled.reshape(-1,1))\n",
    "\n",
    "# Calculate metrics using functions from scikit-learn\n",
    "from sklearn.metrics import r2_score, mean_absolute_error, mean_absolute_percentage_error\n",
    "\n",
    "rmse = np.sqrt(np.mean((y_test_unscaled - y_pred_unscaled) ** 2))\n",
    "mae = mean_absolute_error(y_test_unscaled, y_pred_unscaled)\n",
    "r2 = r2_score(y_test_unscaled, y_pred_unscaled)\n",
    "mape = mean_absolute_percentage_error(y_test_unscaled, y_pred_unscaled) * 100\n",
    "accuracy = ACCURACY_5(y_test_unscaled, y_pred_unscaled)\n",
    "\n",
    "print(\"----- Test Set Performance -----\")\n",
    "print(f\"RMSE: {rmse:.4f}\")\n",
    "print(f\"MAE: {mae:.4f}\")\n",
    "print(f\"R²: {r2:.4f}\")\n",
    "print(f\"Accuracy (5% tolerance): {accuracy:.2f}%\")\n",
    "print(f\"MAPE: {mape:.2f}%\")\n"
   ],
   "id": "9f4c89e76d5d295d",
   "outputs": [
    {
     "name": "stdout",
     "output_type": "stream",
     "text": [
      "\u001B[1m37/37\u001B[0m \u001B[32m━━━━━━━━━━━━━━━━━━━━\u001B[0m\u001B[37m\u001B[0m \u001B[1m1s\u001B[0m 17ms/step\n",
      "----- Test Set Performance -----\n",
      "RMSE: 410.8890\n",
      "MAE: 329.1777\n",
      "R²: 0.9762\n",
      "Accuracy (5% tolerance): 0.89%\n",
      "MAPE: 2.55%\n"
     ]
    }
   ],
   "execution_count": 139
  },
  {
   "metadata": {},
   "cell_type": "markdown",
   "source": [
    "## 11. Plotting Predictions vs. Real Values\n",
    "\n",
    "Finally, we plot the predictions against the real closing prices for the first 100 test samples.\n"
   ],
   "id": "e8311f0a1cca29a5"
  },
  {
   "metadata": {
    "ExecuteTime": {
     "end_time": "2025-02-22T23:21:02.572863Z",
     "start_time": "2025-02-22T23:21:01.889698Z"
    }
   },
   "cell_type": "code",
   "source": [
    "y_pred_scaled = model.predict(X_test)\n",
    "y_test_unscaled = target_scaler.inverse_transform(y_test.reshape(-1,1))\n",
    "y_pred_unscaled = target_scaler.inverse_transform(y_pred_scaled.reshape(-1,1))\n",
    "\n",
    "n_plot = 100\n",
    "plt.figure(figsize=(10, 5))\n",
    "plt.plot(y_test_unscaled[:n_plot], label='y real')\n",
    "plt.plot(y_pred_unscaled[:n_plot], label='y predicted')\n",
    "plt.xlabel(\"Index\")\n",
    "plt.ylabel(\"Close price\")\n",
    "plt.title(\"TCN Predictions vs Real values\")\n",
    "plt.legend()\n",
    "plt.show()"
   ],
   "id": "202cd8c8615f8cae",
   "outputs": [
    {
     "name": "stdout",
     "output_type": "stream",
     "text": [
      "\u001B[1m37/37\u001B[0m \u001B[32m━━━━━━━━━━━━━━━━━━━━\u001B[0m\u001B[37m\u001B[0m \u001B[1m1s\u001B[0m 15ms/step\n"
     ]
    },
    {
     "data": {
      "text/plain": [
       "<Figure size 1000x500 with 1 Axes>"
      ],
      "image/png": "[encoded data removed]"
     },
     "metadata": {},
     "output_type": "display_data"
    }
   ],
   "execution_count": 140
  }
 ],
 "metadata": {
  "kernelspec": {
   "display_name": "Python 3",
   "language": "python",
   "name": "python3"
  },
  "language_info": {
   "codemirror_mode": {
    "name": "ipython",
    "version": 2
   },
   "file_extension": ".py",
   "mimetype": "text/x-python",
   "name": "python",
   "nbconvert_exporter": "python",
   "pygments_lexer": "ipython2",
   "version": "2.7.6"
  }
 },
 "nbformat": 4,
 "nbformat_minor": 5
}
