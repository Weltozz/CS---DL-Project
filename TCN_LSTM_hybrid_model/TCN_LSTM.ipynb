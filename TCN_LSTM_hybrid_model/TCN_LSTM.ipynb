{
 "cells": [
  {
   "metadata": {},
   "cell_type": "markdown",
   "source": [
    "# Notebook: TCN Model Training and Evaluation\n",
    "\n",
    "## 1. Importing Libraries and Module\n",
    "\n",
    "First, we import the required libraries and the module containing our functions.\n"
   ],
   "id": "21d666887653535f"
  },
  {
   "metadata": {
    "ExecuteTime": {
     "end_time": "2025-02-23T01:28:12.134284Z",
     "start_time": "2025-02-23T01:28:12.121868Z"
    }
   },
   "cell_type": "code",
   "source": [
    "import numpy as np\n",
    "import pandas as pd\n",
    "import matplotlib.pyplot as plt\n",
    "import tensorflow as tf\n",
    "import ta\n",
    "\n",
    "from keras.src.layers import BatchNormalization\n",
    "from sklearn.preprocessing import StandardScaler, MinMaxScaler\n",
    "from tensorflow.keras import layers, models, Input, Model, regularizers\n",
    "from tensorflow.keras.callbacks import EarlyStopping, ReduceLROnPlateau\n",
    "from tensorflow.keras.layers import Dropout, Conv1D, BatchNormalization, LSTM\n",
    "from tcn import TCN\n",
    "from sklearn.metrics import r2_score, mean_absolute_error"
   ],
   "id": "de50817e1d22854d",
   "outputs": [],
   "execution_count": 330
  },
  {
   "metadata": {
    "ExecuteTime": {
     "end_time": "2025-02-23T01:28:12.173858Z",
     "start_time": "2025-02-23T01:28:12.166293Z"
    }
   },
   "cell_type": "code",
   "source": [
    "def R2(y_true, y_pred):\n",
    "    ss_res = tf.reduce_sum(\n",
    "        tf.square(y_true - y_pred)\n",
    "    )\n",
    "    ss_tot = tf.reduce_sum(\n",
    "        tf.square(y_true - tf.reduce_mean(y_true))\n",
    "    )\n",
    "\n",
    "    return 1 - ss_res / (ss_tot + tf.keras.backend.epsilon())  # sss_tot\n",
    "\n",
    "\n",
    "def ACCURACY_5(y_true, y_pred):\n",
    "    # Erreur relative : |y_true - y_pred| / (|y_true| + epsilon) on evite les divisions par 0\n",
    "    error = tf.abs(\n",
    "        (y_true - y_pred) / (tf.abs(y_true) + tf.keras.backend.epsilon())\n",
    "    )\n",
    "    correct = tf.cast(\n",
    "        error <= 0.05,\n",
    "        tf.float32\n",
    "    )\n",
    "\n",
    "    return tf.reduce_mean(correct)\n",
    "\n",
    "\n",
    "def CREATE_SEQUENCES(data, sequence_length, target_column='close'):\n",
    "    X, y, = [], []\n",
    "    for i in range(sequence_length, len(data)):\n",
    "        features = data.iloc[i - sequence_length:i].values\n",
    "        X.append(features)\n",
    "\n",
    "        targets = data.iloc[i][target_column]\n",
    "        y.append(targets)\n",
    "\n",
    "    return np.array(X), np.array(y)\n",
    "\n",
    "def NN_MODEL(input_shape, learning_rate=5e-4):\n",
    "    model = models.Sequential([\n",
    "        layers.Input(shape=input_shape),\n",
    "\n",
    "        TCN(\n",
    "            nb_filters=8,\n",
    "            kernel_size=6,\n",
    "            nb_stacks=10,\n",
    "            dilations=[1, 2, 4, 8],\n",
    "            padding='causal',\n",
    "            dropout_rate=0.2,\n",
    "            return_sequences=True\n",
    "        ),\n",
    "        BatchNormalization(),\n",
    "        \n",
    "        layers.LSTM(50, return_sequences=True),\n",
    "        BatchNormalization(),\n",
    "\n",
    "        layers.LSTM(1, return_sequences=False),\n",
    "        BatchNormalization(),\n",
    "\n",
    "        layers.Dense(1)\n",
    "    ])\n",
    "\n",
    "    optimizer = tf.keras.optimizers.Adam(learning_rate=learning_rate)\n",
    "\n",
    "    model.compile(\n",
    "        optimizer=optimizer,\n",
    "        loss='mean_squared_error',\n",
    "        metrics=[\n",
    "            'mean_absolute_error',\n",
    "            R2,\n",
    "            ACCURACY_5\n",
    "        ]\n",
    "    )\n",
    "\n",
    "    return model"
   ],
   "id": "5bebe178ba90dcca",
   "outputs": [],
   "execution_count": 331
  },
  {
   "metadata": {},
   "cell_type": "markdown",
   "source": [
    "## 2. Data Loading\n",
    "\n",
    "We load our stock market data from a CSV file and extract the \"close\" price column.\n"
   ],
   "id": "7dfcee9438defb82"
  },
  {
   "metadata": {
    "ExecuteTime": {
     "end_time": "2025-02-23T01:28:12.286980Z",
     "start_time": "2025-02-23T01:28:12.237609Z"
    }
   },
   "cell_type": "code",
   "source": [
    "df = pd.read_csv(\"/Users/welto/PycharmProjects/company_brandname/technical-and-fundamental-analysis-on-stock-markets/Datasets/NASDAQ_100.csv\")\n",
    "df['sma_20'] = df['close'].rolling(window=20).mean()\n",
    "df['ema_20'] = df['close'].ewm(span=20, adjust=False).mean()\n",
    "df['rsi'] = ta.momentum.RSIIndicator(df['close'], window=14).rsi()\n",
    "df['bollinger_upper'] = df['sma_20'] + 2 * df['close'].rolling(window=20).std()\n",
    "df['bollinger_uower'] = df['sma_20'] - 2 * df['close'].rolling(window=20).std()\n",
    "\n",
    "df.ffill(inplace=True)\n",
    "df = df.drop(columns=['date'])"
   ],
   "id": "f7ce07644e7f5fe2",
   "outputs": [],
   "execution_count": 332
  },
  {
   "metadata": {},
   "cell_type": "markdown",
   "source": [
    "## 3. Data Preprocessing\n",
    "\n",
    "Next, we normalize the close prices using a MinMaxScaler.\n"
   ],
   "id": "cbb313bed44a1a73"
  },
  {
   "metadata": {
    "ExecuteTime": {
     "end_time": "2025-02-23T01:28:12.309917Z",
     "start_time": "2025-02-23T01:28:12.300646Z"
    }
   },
   "cell_type": "code",
   "source": [
    "scaler_features = MinMaxScaler()\n",
    "target_scaler = StandardScaler()\n",
    "\n",
    "target = pd.DataFrame(\n",
    "    target_scaler.fit_transform(df['close'].values.reshape(-1, 1))\n",
    ")\n",
    "\n",
    "df = pd.concat(\n",
    "    [\n",
    "        pd.DataFrame(\n",
    "            scaler_features.fit_transform(\n",
    "                df.filter(\n",
    "                    items=[col for col in df.columns if col != 'close']\n",
    "                )\n",
    "            ),\n",
    "            columns=df.filter(\n",
    "                items=[col for col in df.columns if col != 'close']\n",
    "            ).columns\n",
    "        ),\n",
    "        target,\n",
    "    ], axis=1\n",
    ").dropna()\n",
    "df.rename(\n",
    "    columns={0: 'close'},\n",
    "    inplace=True\n",
    ")"
   ],
   "id": "22aa2f53cb080759",
   "outputs": [],
   "execution_count": 333
  },
  {
   "metadata": {},
   "cell_type": "markdown",
   "source": "## 4. Creating Sequences\n",
   "id": "5e8505531d040e1a"
  },
  {
   "metadata": {
    "ExecuteTime": {
     "end_time": "2025-02-23T01:28:12.597671Z",
     "start_time": "2025-02-23T01:28:12.322964Z"
    }
   },
   "cell_type": "code",
   "source": [
    "sequence_length = 60 # nombre de features pour l'entrainement (nombre de jours d'entrée)\n",
    "\n",
    "X, y = CREATE_SEQUENCES(df, sequence_length=sequence_length)\n",
    "print(\"X shape :\", X.shape, \"y shape :\", y.shape)"
   ],
   "id": "8ff1cccbbd1c6943",
   "outputs": [
    {
     "name": "stdout",
     "output_type": "stream",
     "text": [
      "X shape : (9637, 60, 12) y shape : (9637,)\n"
     ]
    }
   ],
   "execution_count": 334
  },
  {
   "metadata": {},
   "cell_type": "markdown",
   "source": [
    "## 5. Splitting the Dataset\n",
    "\n",
    "We split the data into training (70%), validation (15%), and test (15%) sets.\n"
   ],
   "id": "e6abf6f97cc5455e"
  },
  {
   "metadata": {
    "ExecuteTime": {
     "end_time": "2025-02-23T01:28:12.617240Z",
     "start_time": "2025-02-23T01:28:12.610243Z"
    }
   },
   "cell_type": "code",
   "source": [
    "train_size = int(len(X) * 0.7)\n",
    "val_size = int(len(X) * 0.15)\n",
    "\n",
    "X_train = X[:train_size]\n",
    "X_val = X[train_size:train_size + val_size]\n",
    "X_test = X[train_size + val_size:]\n",
    "\n",
    "y_train = y[:train_size]\n",
    "y_val = y[train_size:train_size + val_size]\n",
    "y_test = y[train_size + val_size:]\n",
    "\n",
    "print(\"Train shapes :\", X_train.shape, y_train.shape)\n",
    "print(\"Val shapes  :\", X_val.shape, y_val.shape)\n",
    "print(\"Test shapes :\", X_test.shape, y_test.shape)"
   ],
   "id": "af39ece9cee9b1c4",
   "outputs": [
    {
     "name": "stdout",
     "output_type": "stream",
     "text": [
      "Train shapes : (6745, 60, 12) (6745,)\n",
      "Val shapes  : (1445, 60, 12) (1445,)\n",
      "Test shapes : (1447, 60, 12) (1447,)\n"
     ]
    }
   ],
   "execution_count": 335
  },
  {
   "metadata": {},
   "cell_type": "markdown",
   "source": [
    "## 6. Building the Model\n",
    "\n",
    "We build our hybrid TCN+LSTM model using the function from the module.  \n",
    "Our model takes sequences of shape (sequence_length, nb_features) and predicts a single value (close price).\n"
   ],
   "id": "9ac2e20705d730ee"
  },
  {
   "metadata": {
    "ExecuteTime": {
     "end_time": "2025-02-23T01:28:12.953524Z",
     "start_time": "2025-02-23T01:28:12.632386Z"
    }
   },
   "cell_type": "code",
   "source": [
    "input_shape = (sequence_length, X.shape[-1])\n",
    "model = NN_MODEL(input_shape=input_shape)\n",
    "model.summary()"
   ],
   "id": "768904dd56d6edc0",
   "outputs": [
    {
     "data": {
      "text/plain": [
       "\u001B[1mModel: \"sequential_29\"\u001B[0m\n"
      ],
      "text/html": [
       "<pre style=\"white-space:pre;overflow-x:auto;line-height:normal;font-family:Menlo,'DejaVu Sans Mono',consolas,'Courier New',monospace\"><span style=\"font-weight: bold\">Model: \"sequential_29\"</span>\n",
       "</pre>\n"
      ]
     },
     "metadata": {},
     "output_type": "display_data"
    },
    {
     "data": {
      "text/plain": [
       "┏━━━━━━━━━━━━━━━━━━━━━━━━━━━━━━━━━┳━━━━━━━━━━━━━━━━━━━━━━━━┳━━━━━━━━━━━━━━━┓\n",
       "┃\u001B[1m \u001B[0m\u001B[1mLayer (type)                   \u001B[0m\u001B[1m \u001B[0m┃\u001B[1m \u001B[0m\u001B[1mOutput Shape          \u001B[0m\u001B[1m \u001B[0m┃\u001B[1m \u001B[0m\u001B[1m      Param #\u001B[0m\u001B[1m \u001B[0m┃\n",
       "┡━━━━━━━━━━━━━━━━━━━━━━━━━━━━━━━━━╇━━━━━━━━━━━━━━━━━━━━━━━━╇━━━━━━━━━━━━━━━┩\n",
       "│ tcn_30 (\u001B[38;5;33mTCN\u001B[0m)                    │ (\u001B[38;5;45mNone\u001B[0m, \u001B[38;5;34m60\u001B[0m, \u001B[38;5;34m8\u001B[0m)          │        \u001B[38;5;34m31,656\u001B[0m │\n",
       "├─────────────────────────────────┼────────────────────────┼───────────────┤\n",
       "│ batch_normalization_65          │ (\u001B[38;5;45mNone\u001B[0m, \u001B[38;5;34m60\u001B[0m, \u001B[38;5;34m8\u001B[0m)          │            \u001B[38;5;34m32\u001B[0m │\n",
       "│ (\u001B[38;5;33mBatchNormalization\u001B[0m)            │                        │               │\n",
       "├─────────────────────────────────┼────────────────────────┼───────────────┤\n",
       "│ lstm_35 (\u001B[38;5;33mLSTM\u001B[0m)                  │ (\u001B[38;5;45mNone\u001B[0m, \u001B[38;5;34m60\u001B[0m, \u001B[38;5;34m50\u001B[0m)         │        \u001B[38;5;34m11,800\u001B[0m │\n",
       "├─────────────────────────────────┼────────────────────────┼───────────────┤\n",
       "│ batch_normalization_66          │ (\u001B[38;5;45mNone\u001B[0m, \u001B[38;5;34m60\u001B[0m, \u001B[38;5;34m50\u001B[0m)         │           \u001B[38;5;34m200\u001B[0m │\n",
       "│ (\u001B[38;5;33mBatchNormalization\u001B[0m)            │                        │               │\n",
       "├─────────────────────────────────┼────────────────────────┼───────────────┤\n",
       "│ lstm_36 (\u001B[38;5;33mLSTM\u001B[0m)                  │ (\u001B[38;5;45mNone\u001B[0m, \u001B[38;5;34m1\u001B[0m)              │           \u001B[38;5;34m208\u001B[0m │\n",
       "├─────────────────────────────────┼────────────────────────┼───────────────┤\n",
       "│ batch_normalization_67          │ (\u001B[38;5;45mNone\u001B[0m, \u001B[38;5;34m1\u001B[0m)              │             \u001B[38;5;34m4\u001B[0m │\n",
       "│ (\u001B[38;5;33mBatchNormalization\u001B[0m)            │                        │               │\n",
       "├─────────────────────────────────┼────────────────────────┼───────────────┤\n",
       "│ dense_29 (\u001B[38;5;33mDense\u001B[0m)                │ (\u001B[38;5;45mNone\u001B[0m, \u001B[38;5;34m1\u001B[0m)              │             \u001B[38;5;34m2\u001B[0m │\n",
       "└─────────────────────────────────┴────────────────────────┴───────────────┘\n"
      ],
      "text/html": [
       "<pre style=\"white-space:pre;overflow-x:auto;line-height:normal;font-family:Menlo,'DejaVu Sans Mono',consolas,'Courier New',monospace\">┏━━━━━━━━━━━━━━━━━━━━━━━━━━━━━━━━━┳━━━━━━━━━━━━━━━━━━━━━━━━┳━━━━━━━━━━━━━━━┓\n",
       "┃<span style=\"font-weight: bold\"> Layer (type)                    </span>┃<span style=\"font-weight: bold\"> Output Shape           </span>┃<span style=\"font-weight: bold\">       Param # </span>┃\n",
       "┡━━━━━━━━━━━━━━━━━━━━━━━━━━━━━━━━━╇━━━━━━━━━━━━━━━━━━━━━━━━╇━━━━━━━━━━━━━━━┩\n",
       "│ tcn_30 (<span style=\"color: #0087ff; text-decoration-color: #0087ff\">TCN</span>)                    │ (<span style=\"color: #00d7ff; text-decoration-color: #00d7ff\">None</span>, <span style=\"color: #00af00; text-decoration-color: #00af00\">60</span>, <span style=\"color: #00af00; text-decoration-color: #00af00\">8</span>)          │        <span style=\"color: #00af00; text-decoration-color: #00af00\">31,656</span> │\n",
       "├─────────────────────────────────┼────────────────────────┼───────────────┤\n",
       "│ batch_normalization_65          │ (<span style=\"color: #00d7ff; text-decoration-color: #00d7ff\">None</span>, <span style=\"color: #00af00; text-decoration-color: #00af00\">60</span>, <span style=\"color: #00af00; text-decoration-color: #00af00\">8</span>)          │            <span style=\"color: #00af00; text-decoration-color: #00af00\">32</span> │\n",
       "│ (<span style=\"color: #0087ff; text-decoration-color: #0087ff\">BatchNormalization</span>)            │                        │               │\n",
       "├─────────────────────────────────┼────────────────────────┼───────────────┤\n",
       "│ lstm_35 (<span style=\"color: #0087ff; text-decoration-color: #0087ff\">LSTM</span>)                  │ (<span style=\"color: #00d7ff; text-decoration-color: #00d7ff\">None</span>, <span style=\"color: #00af00; text-decoration-color: #00af00\">60</span>, <span style=\"color: #00af00; text-decoration-color: #00af00\">50</span>)         │        <span style=\"color: #00af00; text-decoration-color: #00af00\">11,800</span> │\n",
       "├─────────────────────────────────┼────────────────────────┼───────────────┤\n",
       "│ batch_normalization_66          │ (<span style=\"color: #00d7ff; text-decoration-color: #00d7ff\">None</span>, <span style=\"color: #00af00; text-decoration-color: #00af00\">60</span>, <span style=\"color: #00af00; text-decoration-color: #00af00\">50</span>)         │           <span style=\"color: #00af00; text-decoration-color: #00af00\">200</span> │\n",
       "│ (<span style=\"color: #0087ff; text-decoration-color: #0087ff\">BatchNormalization</span>)            │                        │               │\n",
       "├─────────────────────────────────┼────────────────────────┼───────────────┤\n",
       "│ lstm_36 (<span style=\"color: #0087ff; text-decoration-color: #0087ff\">LSTM</span>)                  │ (<span style=\"color: #00d7ff; text-decoration-color: #00d7ff\">None</span>, <span style=\"color: #00af00; text-decoration-color: #00af00\">1</span>)              │           <span style=\"color: #00af00; text-decoration-color: #00af00\">208</span> │\n",
       "├─────────────────────────────────┼────────────────────────┼───────────────┤\n",
       "│ batch_normalization_67          │ (<span style=\"color: #00d7ff; text-decoration-color: #00d7ff\">None</span>, <span style=\"color: #00af00; text-decoration-color: #00af00\">1</span>)              │             <span style=\"color: #00af00; text-decoration-color: #00af00\">4</span> │\n",
       "│ (<span style=\"color: #0087ff; text-decoration-color: #0087ff\">BatchNormalization</span>)            │                        │               │\n",
       "├─────────────────────────────────┼────────────────────────┼───────────────┤\n",
       "│ dense_29 (<span style=\"color: #0087ff; text-decoration-color: #0087ff\">Dense</span>)                │ (<span style=\"color: #00d7ff; text-decoration-color: #00d7ff\">None</span>, <span style=\"color: #00af00; text-decoration-color: #00af00\">1</span>)              │             <span style=\"color: #00af00; text-decoration-color: #00af00\">2</span> │\n",
       "└─────────────────────────────────┴────────────────────────┴───────────────┘\n",
       "</pre>\n"
      ]
     },
     "metadata": {},
     "output_type": "display_data"
    },
    {
     "data": {
      "text/plain": [
       "\u001B[1m Total params: \u001B[0m\u001B[38;5;34m43,902\u001B[0m (171.49 KB)\n"
      ],
      "text/html": [
       "<pre style=\"white-space:pre;overflow-x:auto;line-height:normal;font-family:Menlo,'DejaVu Sans Mono',consolas,'Courier New',monospace\"><span style=\"font-weight: bold\"> Total params: </span><span style=\"color: #00af00; text-decoration-color: #00af00\">43,902</span> (171.49 KB)\n",
       "</pre>\n"
      ]
     },
     "metadata": {},
     "output_type": "display_data"
    },
    {
     "data": {
      "text/plain": [
       "\u001B[1m Trainable params: \u001B[0m\u001B[38;5;34m43,784\u001B[0m (171.03 KB)\n"
      ],
      "text/html": [
       "<pre style=\"white-space:pre;overflow-x:auto;line-height:normal;font-family:Menlo,'DejaVu Sans Mono',consolas,'Courier New',monospace\"><span style=\"font-weight: bold\"> Trainable params: </span><span style=\"color: #00af00; text-decoration-color: #00af00\">43,784</span> (171.03 KB)\n",
       "</pre>\n"
      ]
     },
     "metadata": {},
     "output_type": "display_data"
    },
    {
     "data": {
      "text/plain": [
       "\u001B[1m Non-trainable params: \u001B[0m\u001B[38;5;34m118\u001B[0m (472.00 B)\n"
      ],
      "text/html": [
       "<pre style=\"white-space:pre;overflow-x:auto;line-height:normal;font-family:Menlo,'DejaVu Sans Mono',consolas,'Courier New',monospace\"><span style=\"font-weight: bold\"> Non-trainable params: </span><span style=\"color: #00af00; text-decoration-color: #00af00\">118</span> (472.00 B)\n",
       "</pre>\n"
      ]
     },
     "metadata": {},
     "output_type": "display_data"
    }
   ],
   "execution_count": 336
  },
  {
   "metadata": {},
   "cell_type": "markdown",
   "source": [
    "## 7. Training the Model\n",
    "\n",
    "We train the model using EarlyStopping and ReduceLROnPlateau to avoid overfitting.\n"
   ],
   "id": "b224b4b148ea6366"
  },
  {
   "metadata": {
    "ExecuteTime": {
     "end_time": "2025-02-23T01:53:48.727436Z",
     "start_time": "2025-02-23T01:28:12.970074Z"
    }
   },
   "cell_type": "code",
   "source": [
    "early_stopping = EarlyStopping(\n",
    "    monitor='val_loss',\n",
    "    patience=30,\n",
    "    restore_best_weights=True\n",
    ") # on arrete l'entrainement si la loss ne diminue plus sur plusieurs epochs\n",
    "\n",
    "reduce_lr = ReduceLROnPlateau(\n",
    "    monitor='val_loss',\n",
    "    factor=0.5,\n",
    "    patience=10,\n",
    "    verbose=1\n",
    ") # quand la loss ne diminue plus, on baisse le learning rate\n",
    "\n",
    "history = model.fit(\n",
    "    X_train, y_train,\n",
    "    epochs=80,\n",
    "    batch_size=16,\n",
    "    validation_data=(X_val, y_val),\n",
    "    callbacks=[\n",
    "        early_stopping,\n",
    "        reduce_lr\n",
    "    ]\n",
    ")"
   ],
   "id": "f088f438fe5fc028",
   "outputs": [
    {
     "name": "stdout",
     "output_type": "stream",
     "text": [
      "Epoch 1/80\n",
      "\u001B[1m422/422\u001B[0m \u001B[32m━━━━━━━━━━━━━━━━━━━━\u001B[0m\u001B[37m\u001B[0m \u001B[1m30s\u001B[0m 42ms/step - accuracy_5: 0.0093 - loss: 0.4254 - mean_absolute_error: 0.5055 - r2: -161.5269 - val_accuracy_5: 0.0000e+00 - val_loss: 0.4653 - val_mean_absolute_error: 0.6150 - val_r2: -51780.0938 - learning_rate: 5.0000e-04\n",
      "Epoch 2/80\n",
      "\u001B[1m422/422\u001B[0m \u001B[32m━━━━━━━━━━━━━━━━━━━━\u001B[0m\u001B[37m\u001B[0m \u001B[1m17s\u001B[0m 40ms/step - accuracy_5: 0.0587 - loss: 0.0719 - mean_absolute_error: 0.2229 - r2: -26.6856 - val_accuracy_5: 0.0000e+00 - val_loss: 0.6783 - val_mean_absolute_error: 0.7692 - val_r2: -83356.1875 - learning_rate: 5.0000e-04\n",
      "Epoch 3/80\n",
      "\u001B[1m422/422\u001B[0m \u001B[32m━━━━━━━━━━━━━━━━━━━━\u001B[0m\u001B[37m\u001B[0m \u001B[1m17s\u001B[0m 40ms/step - accuracy_5: 0.0656 - loss: 0.0538 - mean_absolute_error: 0.1891 - r2: -18.3844 - val_accuracy_5: 0.0000e+00 - val_loss: 0.7358 - val_mean_absolute_error: 0.8056 - val_r2: -92062.5312 - learning_rate: 5.0000e-04\n",
      "Epoch 4/80\n",
      "\u001B[1m422/422\u001B[0m \u001B[32m━━━━━━━━━━━━━━━━━━━━\u001B[0m\u001B[37m\u001B[0m \u001B[1m17s\u001B[0m 40ms/step - accuracy_5: 0.0613 - loss: 0.0483 - mean_absolute_error: 0.1823 - r2: -16.5743 - val_accuracy_5: 0.0000e+00 - val_loss: 0.6389 - val_mean_absolute_error: 0.7457 - val_r2: -78830.4219 - learning_rate: 5.0000e-04\n",
      "Epoch 5/80\n",
      "\u001B[1m422/422\u001B[0m \u001B[32m━━━━━━━━━━━━━━━━━━━━\u001B[0m\u001B[37m\u001B[0m \u001B[1m17s\u001B[0m 40ms/step - accuracy_5: 0.0630 - loss: 0.0449 - mean_absolute_error: 0.1739 - r2: -18.5036 - val_accuracy_5: 0.0000e+00 - val_loss: 1.0804 - val_mean_absolute_error: 0.9889 - val_r2: -155672.0625 - learning_rate: 5.0000e-04\n",
      "Epoch 6/80\n",
      "\u001B[1m422/422\u001B[0m \u001B[32m━━━━━━━━━━━━━━━━━━━━\u001B[0m\u001B[37m\u001B[0m \u001B[1m17s\u001B[0m 40ms/step - accuracy_5: 0.0779 - loss: 0.0195 - mean_absolute_error: 0.1062 - r2: -28.4429 - val_accuracy_5: 0.0441 - val_loss: 0.2142 - val_mean_absolute_error: 0.3039 - val_r2: -16552.8398 - learning_rate: 5.0000e-04\n",
      "Epoch 7/80\n",
      "\u001B[1m422/422\u001B[0m \u001B[32m━━━━━━━━━━━━━━━━━━━━\u001B[0m\u001B[37m\u001B[0m \u001B[1m17s\u001B[0m 41ms/step - accuracy_5: 0.0944 - loss: 0.0098 - mean_absolute_error: 0.0760 - r2: -30.9906 - val_accuracy_5: 9.8729e-04 - val_loss: 0.2896 - val_mean_absolute_error: 0.3890 - val_r2: -20701.3633 - learning_rate: 5.0000e-04\n",
      "Epoch 8/80\n",
      "\u001B[1m422/422\u001B[0m \u001B[32m━━━━━━━━━━━━━━━━━━━━\u001B[0m\u001B[37m\u001B[0m \u001B[1m18s\u001B[0m 42ms/step - accuracy_5: 0.0974 - loss: 0.0085 - mean_absolute_error: 0.0710 - r2: -31.6429 - val_accuracy_5: 0.0221 - val_loss: 0.3502 - val_mean_absolute_error: 0.4575 - val_r2: -28210.2148 - learning_rate: 5.0000e-04\n",
      "Epoch 9/80\n",
      "\u001B[1m422/422\u001B[0m \u001B[32m━━━━━━━━━━━━━━━━━━━━\u001B[0m\u001B[37m\u001B[0m \u001B[1m18s\u001B[0m 42ms/step - accuracy_5: 0.1053 - loss: 0.0073 - mean_absolute_error: 0.0650 - r2: -31.7523 - val_accuracy_5: 0.0160 - val_loss: 0.3212 - val_mean_absolute_error: 0.4255 - val_r2: -24615.1289 - learning_rate: 5.0000e-04\n",
      "Epoch 10/80\n",
      "\u001B[1m422/422\u001B[0m \u001B[32m━━━━━━━━━━━━━━━━━━━━\u001B[0m\u001B[37m\u001B[0m \u001B[1m18s\u001B[0m 43ms/step - accuracy_5: 0.0950 - loss: 0.0072 - mean_absolute_error: 0.0656 - r2: -31.6393 - val_accuracy_5: 0.0176 - val_loss: 0.3284 - val_mean_absolute_error: 0.4308 - val_r2: -25174.9668 - learning_rate: 5.0000e-04\n",
      "Epoch 11/80\n",
      "\u001B[1m422/422\u001B[0m \u001B[32m━━━━━━━━━━━━━━━━━━━━\u001B[0m\u001B[37m\u001B[0m \u001B[1m18s\u001B[0m 43ms/step - accuracy_5: 0.1086 - loss: 0.0063 - mean_absolute_error: 0.0605 - r2: -32.0655 - val_accuracy_5: 0.0127 - val_loss: 0.3067 - val_mean_absolute_error: 0.4057 - val_r2: -22548.7266 - learning_rate: 5.0000e-04\n",
      "Epoch 12/80\n",
      "\u001B[1m422/422\u001B[0m \u001B[32m━━━━━━━━━━━━━━━━━━━━\u001B[0m\u001B[37m\u001B[0m \u001B[1m18s\u001B[0m 43ms/step - accuracy_5: 0.0972 - loss: 0.0063 - mean_absolute_error: 0.0619 - r2: -31.8787 - val_accuracy_5: 0.0164 - val_loss: 0.2877 - val_mean_absolute_error: 0.3979 - val_r2: -21244.4844 - learning_rate: 5.0000e-04\n",
      "Epoch 13/80\n",
      "\u001B[1m422/422\u001B[0m \u001B[32m━━━━━━━━━━━━━━━━━━━━\u001B[0m\u001B[37m\u001B[0m \u001B[1m18s\u001B[0m 43ms/step - accuracy_5: 0.1004 - loss: 0.0064 - mean_absolute_error: 0.0624 - r2: -31.8736 - val_accuracy_5: 0.0067 - val_loss: 0.2085 - val_mean_absolute_error: 0.3190 - val_r2: -13610.8555 - learning_rate: 5.0000e-04\n",
      "Epoch 14/80\n",
      "\u001B[1m422/422\u001B[0m \u001B[32m━━━━━━━━━━━━━━━━━━━━\u001B[0m\u001B[37m\u001B[0m \u001B[1m18s\u001B[0m 44ms/step - accuracy_5: 0.1015 - loss: 0.0061 - mean_absolute_error: 0.0603 - r2: -31.8146 - val_accuracy_5: 0.0163 - val_loss: 0.2886 - val_mean_absolute_error: 0.3959 - val_r2: -21220.1074 - learning_rate: 5.0000e-04\n",
      "Epoch 15/80\n",
      "\u001B[1m422/422\u001B[0m \u001B[32m━━━━━━━━━━━━━━━━━━━━\u001B[0m\u001B[37m\u001B[0m \u001B[1m19s\u001B[0m 44ms/step - accuracy_5: 0.1016 - loss: 0.0059 - mean_absolute_error: 0.0593 - r2: -32.0223 - val_accuracy_5: 0.0016 - val_loss: 0.2143 - val_mean_absolute_error: 0.3325 - val_r2: -14722.9160 - learning_rate: 5.0000e-04\n",
      "Epoch 16/80\n",
      "\u001B[1m422/422\u001B[0m \u001B[32m━━━━━━━━━━━━━━━━━━━━\u001B[0m\u001B[37m\u001B[0m \u001B[1m18s\u001B[0m 44ms/step - accuracy_5: 0.1002 - loss: 0.0060 - mean_absolute_error: 0.0598 - r2: -32.2848 - val_accuracy_5: 0.0124 - val_loss: 0.1599 - val_mean_absolute_error: 0.2852 - val_r2: -11277.5732 - learning_rate: 5.0000e-04\n",
      "Epoch 17/80\n",
      "\u001B[1m422/422\u001B[0m \u001B[32m━━━━━━━━━━━━━━━━━━━━\u001B[0m\u001B[37m\u001B[0m \u001B[1m18s\u001B[0m 44ms/step - accuracy_5: 0.1062 - loss: 0.0059 - mean_absolute_error: 0.0587 - r2: -32.3251 - val_accuracy_5: 5.1511e-04 - val_loss: 0.1862 - val_mean_absolute_error: 0.3242 - val_r2: -14371.1914 - learning_rate: 5.0000e-04\n",
      "Epoch 18/80\n",
      "\u001B[1m422/422\u001B[0m \u001B[32m━━━━━━━━━━━━━━━━━━━━\u001B[0m\u001B[37m\u001B[0m \u001B[1m18s\u001B[0m 44ms/step - accuracy_5: 0.1048 - loss: 0.0054 - mean_absolute_error: 0.0574 - r2: -32.1233 - val_accuracy_5: 0.0015 - val_loss: 0.1853 - val_mean_absolute_error: 0.3284 - val_r2: -14972.2676 - learning_rate: 5.0000e-04\n",
      "Epoch 19/80\n",
      "\u001B[1m422/422\u001B[0m \u001B[32m━━━━━━━━━━━━━━━━━━━━\u001B[0m\u001B[37m\u001B[0m \u001B[1m18s\u001B[0m 44ms/step - accuracy_5: 0.1039 - loss: 0.0049 - mean_absolute_error: 0.0547 - r2: -31.8228 - val_accuracy_5: 0.0137 - val_loss: 0.1270 - val_mean_absolute_error: 0.2672 - val_r2: -10406.3682 - learning_rate: 5.0000e-04\n",
      "Epoch 20/80\n",
      "\u001B[1m422/422\u001B[0m \u001B[32m━━━━━━━━━━━━━━━━━━━━\u001B[0m\u001B[37m\u001B[0m \u001B[1m19s\u001B[0m 44ms/step - accuracy_5: 0.1056 - loss: 0.0048 - mean_absolute_error: 0.0535 - r2: -31.9623 - val_accuracy_5: 0.0212 - val_loss: 0.0965 - val_mean_absolute_error: 0.2330 - val_r2: -9368.1309 - learning_rate: 5.0000e-04\n",
      "Epoch 21/80\n",
      "\u001B[1m422/422\u001B[0m \u001B[32m━━━━━━━━━━━━━━━━━━━━\u001B[0m\u001B[37m\u001B[0m \u001B[1m18s\u001B[0m 44ms/step - accuracy_5: 0.1070 - loss: 0.0046 - mean_absolute_error: 0.0529 - r2: -32.0494 - val_accuracy_5: 0.0130 - val_loss: 0.1000 - val_mean_absolute_error: 0.2366 - val_r2: -8940.3652 - learning_rate: 5.0000e-04\n",
      "Epoch 22/80\n",
      "\u001B[1m422/422\u001B[0m \u001B[32m━━━━━━━━━━━━━━━━━━━━\u001B[0m\u001B[37m\u001B[0m \u001B[1m18s\u001B[0m 43ms/step - accuracy_5: 0.0984 - loss: 0.0057 - mean_absolute_error: 0.0590 - r2: -32.5441 - val_accuracy_5: 0.0086 - val_loss: 0.1057 - val_mean_absolute_error: 0.2411 - val_r2: -8684.9170 - learning_rate: 5.0000e-04\n",
      "Epoch 23/80\n",
      "\u001B[1m422/422\u001B[0m \u001B[32m━━━━━━━━━━━━━━━━━━━━\u001B[0m\u001B[37m\u001B[0m \u001B[1m18s\u001B[0m 44ms/step - accuracy_5: 0.1007 - loss: 0.0048 - mean_absolute_error: 0.0538 - r2: -32.1251 - val_accuracy_5: 0.0053 - val_loss: 0.1368 - val_mean_absolute_error: 0.2798 - val_r2: -11253.6260 - learning_rate: 5.0000e-04\n",
      "Epoch 24/80\n",
      "\u001B[1m422/422\u001B[0m \u001B[32m━━━━━━━━━━━━━━━━━━━━\u001B[0m\u001B[37m\u001B[0m \u001B[1m18s\u001B[0m 43ms/step - accuracy_5: 0.1099 - loss: 0.0043 - mean_absolute_error: 0.0504 - r2: -32.0905 - val_accuracy_5: 0.0258 - val_loss: 0.0882 - val_mean_absolute_error: 0.2147 - val_r2: -7100.4600 - learning_rate: 5.0000e-04\n",
      "Epoch 25/80\n",
      "\u001B[1m422/422\u001B[0m \u001B[32m━━━━━━━━━━━━━━━━━━━━\u001B[0m\u001B[37m\u001B[0m \u001B[1m18s\u001B[0m 44ms/step - accuracy_5: 0.1039 - loss: 0.0048 - mean_absolute_error: 0.0535 - r2: -32.3775 - val_accuracy_5: 0.0078 - val_loss: 0.1296 - val_mean_absolute_error: 0.2721 - val_r2: -10692.7969 - learning_rate: 5.0000e-04\n",
      "Epoch 26/80\n",
      "\u001B[1m422/422\u001B[0m \u001B[32m━━━━━━━━━━━━━━━━━━━━\u001B[0m\u001B[37m\u001B[0m \u001B[1m19s\u001B[0m 44ms/step - accuracy_5: 0.1017 - loss: 0.0046 - mean_absolute_error: 0.0534 - r2: -32.2397 - val_accuracy_5: 0.0097 - val_loss: 0.1318 - val_mean_absolute_error: 0.2717 - val_r2: -10690.5596 - learning_rate: 5.0000e-04\n",
      "Epoch 27/80\n",
      "\u001B[1m422/422\u001B[0m \u001B[32m━━━━━━━━━━━━━━━━━━━━\u001B[0m\u001B[37m\u001B[0m \u001B[1m19s\u001B[0m 45ms/step - accuracy_5: 0.1038 - loss: 0.0048 - mean_absolute_error: 0.0542 - r2: -32.4295 - val_accuracy_5: 0.0241 - val_loss: 0.0876 - val_mean_absolute_error: 0.2119 - val_r2: -6805.5254 - learning_rate: 5.0000e-04\n",
      "Epoch 28/80\n",
      "\u001B[1m422/422\u001B[0m \u001B[32m━━━━━━━━━━━━━━━━━━━━\u001B[0m\u001B[37m\u001B[0m \u001B[1m18s\u001B[0m 43ms/step - accuracy_5: 0.1065 - loss: 0.0043 - mean_absolute_error: 0.0513 - r2: -32.3998 - val_accuracy_5: 0.0075 - val_loss: 0.1149 - val_mean_absolute_error: 0.2489 - val_r2: -8937.5957 - learning_rate: 5.0000e-04\n",
      "Epoch 29/80\n",
      "\u001B[1m422/422\u001B[0m \u001B[32m━━━━━━━━━━━━━━━━━━━━\u001B[0m\u001B[37m\u001B[0m \u001B[1m19s\u001B[0m 44ms/step - accuracy_5: 0.1047 - loss: 0.0041 - mean_absolute_error: 0.0505 - r2: -32.5041 - val_accuracy_5: 0.0169 - val_loss: 0.0793 - val_mean_absolute_error: 0.2002 - val_r2: -6018.5776 - learning_rate: 5.0000e-04\n",
      "Epoch 30/80\n",
      "\u001B[1m422/422\u001B[0m \u001B[32m━━━━━━━━━━━━━━━━━━━━\u001B[0m\u001B[37m\u001B[0m \u001B[1m19s\u001B[0m 45ms/step - accuracy_5: 0.1093 - loss: 0.0033 - mean_absolute_error: 0.0454 - r2: -31.9390 - val_accuracy_5: 0.0365 - val_loss: 0.0655 - val_mean_absolute_error: 0.1799 - val_r2: -5170.6670 - learning_rate: 5.0000e-04\n",
      "Epoch 31/80\n",
      "\u001B[1m422/422\u001B[0m \u001B[32m━━━━━━━━━━━━━━━━━━━━\u001B[0m\u001B[37m\u001B[0m \u001B[1m19s\u001B[0m 45ms/step - accuracy_5: 0.1029 - loss: 0.0041 - mean_absolute_error: 0.0504 - r2: -32.2298 - val_accuracy_5: 0.0476 - val_loss: 0.0631 - val_mean_absolute_error: 0.1755 - val_r2: -5137.0273 - learning_rate: 5.0000e-04\n",
      "Epoch 32/80\n",
      "\u001B[1m422/422\u001B[0m \u001B[32m━━━━━━━━━━━━━━━━━━━━\u001B[0m\u001B[37m\u001B[0m \u001B[1m19s\u001B[0m 44ms/step - accuracy_5: 0.1039 - loss: 0.0043 - mean_absolute_error: 0.0519 - r2: -32.4585 - val_accuracy_5: 0.0183 - val_loss: 0.0803 - val_mean_absolute_error: 0.2012 - val_r2: -6011.1719 - learning_rate: 5.0000e-04\n",
      "Epoch 33/80\n",
      "\u001B[1m422/422\u001B[0m \u001B[32m━━━━━━━━━━━━━━━━━━━━\u001B[0m\u001B[37m\u001B[0m \u001B[1m19s\u001B[0m 45ms/step - accuracy_5: 0.1033 - loss: 0.0038 - mean_absolute_error: 0.0487 - r2: -32.2139 - val_accuracy_5: 0.0330 - val_loss: 0.0644 - val_mean_absolute_error: 0.1755 - val_r2: -4881.7275 - learning_rate: 5.0000e-04\n",
      "Epoch 34/80\n",
      "\u001B[1m422/422\u001B[0m \u001B[32m━━━━━━━━━━━━━━━━━━━━\u001B[0m\u001B[37m\u001B[0m \u001B[1m19s\u001B[0m 45ms/step - accuracy_5: 0.1057 - loss: 0.0037 - mean_absolute_error: 0.0486 - r2: -32.2544 - val_accuracy_5: 0.0807 - val_loss: 0.0489 - val_mean_absolute_error: 0.1634 - val_r2: -5395.4546 - learning_rate: 5.0000e-04\n",
      "Epoch 35/80\n",
      "\u001B[1m422/422\u001B[0m \u001B[32m━━━━━━━━━━━━━━━━━━━━\u001B[0m\u001B[37m\u001B[0m \u001B[1m19s\u001B[0m 44ms/step - accuracy_5: 0.1009 - loss: 0.0039 - mean_absolute_error: 0.0495 - r2: -32.2554 - val_accuracy_5: 0.0454 - val_loss: 0.0623 - val_mean_absolute_error: 0.1677 - val_r2: -4423.2632 - learning_rate: 5.0000e-04\n",
      "Epoch 36/80\n",
      "\u001B[1m422/422\u001B[0m \u001B[32m━━━━━━━━━━━━━━━━━━━━\u001B[0m\u001B[37m\u001B[0m \u001B[1m19s\u001B[0m 45ms/step - accuracy_5: 0.1044 - loss: 0.0035 - mean_absolute_error: 0.0466 - r2: -32.2382 - val_accuracy_5: 0.0196 - val_loss: 0.0707 - val_mean_absolute_error: 0.1862 - val_r2: -4935.0088 - learning_rate: 5.0000e-04\n",
      "Epoch 37/80\n",
      "\u001B[1m422/422\u001B[0m \u001B[32m━━━━━━━━━━━━━━━━━━━━\u001B[0m\u001B[37m\u001B[0m \u001B[1m19s\u001B[0m 44ms/step - accuracy_5: 0.1031 - loss: 0.0041 - mean_absolute_error: 0.0514 - r2: -32.4112 - val_accuracy_5: 0.0387 - val_loss: 0.1128 - val_mean_absolute_error: 0.2465 - val_r2: -8576.2988 - learning_rate: 5.0000e-04\n",
      "Epoch 38/80\n",
      "\u001B[1m422/422\u001B[0m \u001B[32m━━━━━━━━━━━━━━━━━━━━\u001B[0m\u001B[37m\u001B[0m \u001B[1m19s\u001B[0m 44ms/step - accuracy_5: 0.1010 - loss: 0.0038 - mean_absolute_error: 0.0490 - r2: -32.1962 - val_accuracy_5: 0.0227 - val_loss: 0.0749 - val_mean_absolute_error: 0.1899 - val_r2: -5328.6343 - learning_rate: 5.0000e-04\n",
      "Epoch 39/80\n",
      "\u001B[1m422/422\u001B[0m \u001B[32m━━━━━━━━━━━━━━━━━━━━\u001B[0m\u001B[37m\u001B[0m \u001B[1m19s\u001B[0m 45ms/step - accuracy_5: 0.1077 - loss: 0.0031 - mean_absolute_error: 0.0441 - r2: -32.0605 - val_accuracy_5: 0.0331 - val_loss: 0.0663 - val_mean_absolute_error: 0.1806 - val_r2: -5282.4517 - learning_rate: 5.0000e-04\n",
      "Epoch 40/80\n",
      "\u001B[1m422/422\u001B[0m \u001B[32m━━━━━━━━━━━━━━━━━━━━\u001B[0m\u001B[37m\u001B[0m \u001B[1m19s\u001B[0m 45ms/step - accuracy_5: 0.1066 - loss: 0.0036 - mean_absolute_error: 0.0475 - r2: -32.2846 - val_accuracy_5: 0.0356 - val_loss: 0.1115 - val_mean_absolute_error: 0.2434 - val_r2: -8330.9375 - learning_rate: 5.0000e-04\n",
      "Epoch 41/80\n",
      "\u001B[1m422/422\u001B[0m \u001B[32m━━━━━━━━━━━━━━━━━━━━\u001B[0m\u001B[37m\u001B[0m \u001B[1m19s\u001B[0m 45ms/step - accuracy_5: 0.1063 - loss: 0.0037 - mean_absolute_error: 0.0475 - r2: -32.1685 - val_accuracy_5: 0.0340 - val_loss: 0.1018 - val_mean_absolute_error: 0.2319 - val_r2: -7438.3687 - learning_rate: 5.0000e-04\n",
      "Epoch 42/80\n",
      "\u001B[1m422/422\u001B[0m \u001B[32m━━━━━━━━━━━━━━━━━━━━\u001B[0m\u001B[37m\u001B[0m \u001B[1m19s\u001B[0m 45ms/step - accuracy_5: 0.1038 - loss: 0.0037 - mean_absolute_error: 0.0485 - r2: -32.3741 - val_accuracy_5: 0.0213 - val_loss: 0.0762 - val_mean_absolute_error: 0.1929 - val_r2: -5414.7168 - learning_rate: 5.0000e-04\n",
      "Epoch 43/80\n",
      "\u001B[1m422/422\u001B[0m \u001B[32m━━━━━━━━━━━━━━━━━━━━\u001B[0m\u001B[37m\u001B[0m \u001B[1m18s\u001B[0m 44ms/step - accuracy_5: 0.0966 - loss: 0.0040 - mean_absolute_error: 0.0505 - r2: -32.6771 - val_accuracy_5: 0.0896 - val_loss: 0.0532 - val_mean_absolute_error: 0.1563 - val_r2: -4252.6904 - learning_rate: 5.0000e-04\n",
      "Epoch 44/80\n",
      "\u001B[1m421/422\u001B[0m \u001B[32m━━━━━━━━━━━━━━━━━━━\u001B[0m\u001B[37m━\u001B[0m \u001B[1m0s\u001B[0m 42ms/step - accuracy_5: 0.1082 - loss: 0.0033 - mean_absolute_error: 0.0455 - r2: -32.4850\n",
      "Epoch 44: ReduceLROnPlateau reducing learning rate to 0.0002500000118743628.\n",
      "\u001B[1m422/422\u001B[0m \u001B[32m━━━━━━━━━━━━━━━━━━━━\u001B[0m\u001B[37m\u001B[0m \u001B[1m19s\u001B[0m 44ms/step - accuracy_5: 0.1082 - loss: 0.0033 - mean_absolute_error: 0.0455 - r2: -32.4843 - val_accuracy_5: 0.0211 - val_loss: 0.0714 - val_mean_absolute_error: 0.1818 - val_r2: -5092.7271 - learning_rate: 5.0000e-04\n",
      "Epoch 45/80\n",
      "\u001B[1m422/422\u001B[0m \u001B[32m━━━━━━━━━━━━━━━━━━━━\u001B[0m\u001B[37m\u001B[0m \u001B[1m19s\u001B[0m 44ms/step - accuracy_5: 0.1033 - loss: 0.0040 - mean_absolute_error: 0.0500 - r2: -32.6560 - val_accuracy_5: 0.0363 - val_loss: 0.0670 - val_mean_absolute_error: 0.1768 - val_r2: -5012.2603 - learning_rate: 2.5000e-04\n",
      "Epoch 46/80\n",
      "\u001B[1m422/422\u001B[0m \u001B[32m━━━━━━━━━━━━━━━━━━━━\u001B[0m\u001B[37m\u001B[0m \u001B[1m19s\u001B[0m 45ms/step - accuracy_5: 0.1068 - loss: 0.0032 - mean_absolute_error: 0.0452 - r2: -32.3579 - val_accuracy_5: 0.0394 - val_loss: 0.0902 - val_mean_absolute_error: 0.2095 - val_r2: -6443.8462 - learning_rate: 2.5000e-04\n",
      "Epoch 47/80\n",
      "\u001B[1m422/422\u001B[0m \u001B[32m━━━━━━━━━━━━━━━━━━━━\u001B[0m\u001B[37m\u001B[0m \u001B[1m19s\u001B[0m 44ms/step - accuracy_5: 0.1069 - loss: 0.0033 - mean_absolute_error: 0.0458 - r2: -32.3828 - val_accuracy_5: 0.0883 - val_loss: 0.0527 - val_mean_absolute_error: 0.1527 - val_r2: -3966.5903 - learning_rate: 2.5000e-04\n",
      "Epoch 48/80\n",
      "\u001B[1m422/422\u001B[0m \u001B[32m━━━━━━━━━━━━━━━━━━━━\u001B[0m\u001B[37m\u001B[0m \u001B[1m19s\u001B[0m 44ms/step - accuracy_5: 0.1043 - loss: 0.0032 - mean_absolute_error: 0.0457 - r2: -32.2078 - val_accuracy_5: 0.0386 - val_loss: 0.0924 - val_mean_absolute_error: 0.2141 - val_r2: -6660.7871 - learning_rate: 2.5000e-04\n",
      "Epoch 49/80\n",
      "\u001B[1m422/422\u001B[0m \u001B[32m━━━━━━━━━━━━━━━━━━━━\u001B[0m\u001B[37m\u001B[0m \u001B[1m19s\u001B[0m 45ms/step - accuracy_5: 0.1045 - loss: 0.0033 - mean_absolute_error: 0.0455 - r2: -32.1566 - val_accuracy_5: 0.0604 - val_loss: 0.0630 - val_mean_absolute_error: 0.1716 - val_r2: -4865.7539 - learning_rate: 2.5000e-04\n",
      "Epoch 50/80\n",
      "\u001B[1m422/422\u001B[0m \u001B[32m━━━━━━━━━━━━━━━━━━━━\u001B[0m\u001B[37m\u001B[0m \u001B[1m19s\u001B[0m 45ms/step - accuracy_5: 0.1049 - loss: 0.0037 - mean_absolute_error: 0.0477 - r2: -32.6356 - val_accuracy_5: 0.0205 - val_loss: 0.0785 - val_mean_absolute_error: 0.1939 - val_r2: -5575.3965 - learning_rate: 2.5000e-04\n",
      "Epoch 51/80\n",
      "\u001B[1m422/422\u001B[0m \u001B[32m━━━━━━━━━━━━━━━━━━━━\u001B[0m\u001B[37m\u001B[0m \u001B[1m19s\u001B[0m 45ms/step - accuracy_5: 0.1002 - loss: 0.0031 - mean_absolute_error: 0.0453 - r2: -32.1508 - val_accuracy_5: 0.0433 - val_loss: 0.0633 - val_mean_absolute_error: 0.1674 - val_r2: -4424.4321 - learning_rate: 2.5000e-04\n",
      "Epoch 52/80\n",
      "\u001B[1m422/422\u001B[0m \u001B[32m━━━━━━━━━━━━━━━━━━━━\u001B[0m\u001B[37m\u001B[0m \u001B[1m19s\u001B[0m 44ms/step - accuracy_5: 0.1077 - loss: 0.0032 - mean_absolute_error: 0.0445 - r2: -32.3626 - val_accuracy_5: 0.0331 - val_loss: 0.0758 - val_mean_absolute_error: 0.1868 - val_r2: -5271.0054 - learning_rate: 2.5000e-04\n",
      "Epoch 53/80\n",
      "\u001B[1m422/422\u001B[0m \u001B[32m━━━━━━━━━━━━━━━━━━━━\u001B[0m\u001B[37m\u001B[0m \u001B[1m19s\u001B[0m 44ms/step - accuracy_5: 0.1032 - loss: 0.0034 - mean_absolute_error: 0.0468 - r2: -32.4201 - val_accuracy_5: 0.0225 - val_loss: 0.0695 - val_mean_absolute_error: 0.1812 - val_r2: -5036.4966 - learning_rate: 2.5000e-04\n",
      "Epoch 54/80\n",
      "\u001B[1m421/422\u001B[0m \u001B[32m━━━━━━━━━━━━━━━━━━━\u001B[0m\u001B[37m━\u001B[0m \u001B[1m0s\u001B[0m 42ms/step - accuracy_5: 0.1038 - loss: 0.0035 - mean_absolute_error: 0.0463 - r2: -32.2980\n",
      "Epoch 54: ReduceLROnPlateau reducing learning rate to 0.0001250000059371814.\n",
      "\u001B[1m422/422\u001B[0m \u001B[32m━━━━━━━━━━━━━━━━━━━━\u001B[0m\u001B[37m\u001B[0m \u001B[1m19s\u001B[0m 44ms/step - accuracy_5: 0.1038 - loss: 0.0035 - mean_absolute_error: 0.0463 - r2: -32.2974 - val_accuracy_5: 0.0257 - val_loss: 0.0889 - val_mean_absolute_error: 0.2100 - val_r2: -6550.4741 - learning_rate: 2.5000e-04\n",
      "Epoch 55/80\n",
      "\u001B[1m422/422\u001B[0m \u001B[32m━━━━━━━━━━━━━━━━━━━━\u001B[0m\u001B[37m\u001B[0m \u001B[1m19s\u001B[0m 44ms/step - accuracy_5: 0.1027 - loss: 0.0035 - mean_absolute_error: 0.0472 - r2: -32.3332 - val_accuracy_5: 0.0290 - val_loss: 0.0867 - val_mean_absolute_error: 0.2056 - val_r2: -6285.3174 - learning_rate: 1.2500e-04\n",
      "Epoch 56/80\n",
      "\u001B[1m422/422\u001B[0m \u001B[32m━━━━━━━━━━━━━━━━━━━━\u001B[0m\u001B[37m\u001B[0m \u001B[1m20s\u001B[0m 47ms/step - accuracy_5: 0.1021 - loss: 0.0030 - mean_absolute_error: 0.0445 - r2: -32.1463 - val_accuracy_5: 0.0269 - val_loss: 0.0727 - val_mean_absolute_error: 0.1836 - val_r2: -5155.1997 - learning_rate: 1.2500e-04\n",
      "Epoch 57/80\n",
      "\u001B[1m422/422\u001B[0m \u001B[32m━━━━━━━━━━━━━━━━━━━━\u001B[0m\u001B[37m\u001B[0m \u001B[1m19s\u001B[0m 46ms/step - accuracy_5: 0.1058 - loss: 0.0031 - mean_absolute_error: 0.0452 - r2: -32.2079 - val_accuracy_5: 0.0212 - val_loss: 0.0737 - val_mean_absolute_error: 0.1863 - val_r2: -5277.4966 - learning_rate: 1.2500e-04\n",
      "Epoch 58/80\n",
      "\u001B[1m422/422\u001B[0m \u001B[32m━━━━━━━━━━━━━━━━━━━━\u001B[0m\u001B[37m\u001B[0m \u001B[1m19s\u001B[0m 44ms/step - accuracy_5: 0.1095 - loss: 0.0030 - mean_absolute_error: 0.0427 - r2: -32.0802 - val_accuracy_5: 0.0256 - val_loss: 0.0774 - val_mean_absolute_error: 0.1907 - val_r2: -5496.0278 - learning_rate: 1.2500e-04\n",
      "Epoch 59/80\n",
      "\u001B[1m422/422\u001B[0m \u001B[32m━━━━━━━━━━━━━━━━━━━━\u001B[0m\u001B[37m\u001B[0m \u001B[1m36s\u001B[0m 86ms/step - accuracy_5: 0.1053 - loss: 0.0036 - mean_absolute_error: 0.0471 - r2: -32.2868 - val_accuracy_5: 0.0456 - val_loss: 0.0667 - val_mean_absolute_error: 0.1735 - val_r2: -4838.8711 - learning_rate: 1.2500e-04\n",
      "Epoch 60/80\n",
      "\u001B[1m422/422\u001B[0m \u001B[32m━━━━━━━━━━━━━━━━━━━━\u001B[0m\u001B[37m\u001B[0m \u001B[1m93s\u001B[0m 220ms/step - accuracy_5: 0.0961 - loss: 0.0036 - mean_absolute_error: 0.0494 - r2: -32.3649 - val_accuracy_5: 0.0438 - val_loss: 0.0670 - val_mean_absolute_error: 0.1764 - val_r2: -4980.2646 - learning_rate: 1.2500e-04\n",
      "Epoch 61/80\n",
      "\u001B[1m422/422\u001B[0m \u001B[32m━━━━━━━━━━━━━━━━━━━━\u001B[0m\u001B[37m\u001B[0m \u001B[1m79s\u001B[0m 188ms/step - accuracy_5: 0.1061 - loss: 0.0034 - mean_absolute_error: 0.0464 - r2: -32.2802 - val_accuracy_5: 0.0229 - val_loss: 0.0780 - val_mean_absolute_error: 0.1916 - val_r2: -5611.1855 - learning_rate: 1.2500e-04\n",
      "Epoch 62/80\n",
      "\u001B[1m422/422\u001B[0m \u001B[32m━━━━━━━━━━━━━━━━━━━━\u001B[0m\u001B[37m\u001B[0m \u001B[1m80s\u001B[0m 189ms/step - accuracy_5: 0.0989 - loss: 0.0040 - mean_absolute_error: 0.0509 - r2: -32.5311 - val_accuracy_5: 0.0175 - val_loss: 0.0789 - val_mean_absolute_error: 0.1947 - val_r2: -5793.7583 - learning_rate: 1.2500e-04\n",
      "Epoch 63/80\n",
      "\u001B[1m422/422\u001B[0m \u001B[32m━━━━━━━━━━━━━━━━━━━━\u001B[0m\u001B[37m\u001B[0m \u001B[1m86s\u001B[0m 203ms/step - accuracy_5: 0.1056 - loss: 0.0030 - mean_absolute_error: 0.0443 - r2: -32.0809 - val_accuracy_5: 0.0353 - val_loss: 0.0691 - val_mean_absolute_error: 0.1799 - val_r2: -5055.9189 - learning_rate: 1.2500e-04\n",
      "Epoch 64/80\n",
      "\u001B[1m422/422\u001B[0m \u001B[32m━━━━━━━━━━━━━━━━━━━━\u001B[0m\u001B[37m\u001B[0m \u001B[1m0s\u001B[0m 184ms/step - accuracy_5: 0.1027 - loss: 0.0032 - mean_absolute_error: 0.0452 - r2: -32.3188\n",
      "Epoch 64: ReduceLROnPlateau reducing learning rate to 6.25000029685907e-05.\n",
      "\u001B[1m422/422\u001B[0m \u001B[32m━━━━━━━━━━━━━━━━━━━━\u001B[0m\u001B[37m\u001B[0m \u001B[1m80s\u001B[0m 190ms/step - accuracy_5: 0.1027 - loss: 0.0032 - mean_absolute_error: 0.0452 - r2: -32.3188 - val_accuracy_5: 0.0182 - val_loss: 0.0778 - val_mean_absolute_error: 0.1937 - val_r2: -5750.5127 - learning_rate: 1.2500e-04\n"
     ]
    }
   ],
   "execution_count": 337
  },
  {
   "metadata": {},
   "cell_type": "markdown",
   "source": [
    "## 8. Plotting the Training Loss\n",
    "\n",
    "We now plot the training and validation loss curves (MSE) over epochs.\n"
   ],
   "id": "1e1757a8c5e33041"
  },
  {
   "metadata": {
    "ExecuteTime": {
     "end_time": "2025-02-23T01:53:49.046386Z",
     "start_time": "2025-02-23T01:53:48.798274Z"
    }
   },
   "cell_type": "code",
   "source": [
    "plt.figure(figsize=(10, 5))\n",
    "\n",
    "plt.plot(history.history['loss'], label='train loss')\n",
    "plt.plot(history.history['val_loss'], label='Validation loss')\n",
    "\n",
    "plt.xlabel('Epoch')\n",
    "plt.ylabel('MSE')\n",
    "\n",
    "plt.title(\"Loss over epochs (TCN)\")\n",
    "\n",
    "plt.legend()\n",
    "plt.show()"
   ],
   "id": "3dc3c92d495bbb8e",
   "outputs": [
    {
     "data": {
      "text/plain": [
       "<Figure size 1000x500 with 1 Axes>"
      ],
      "image/png": "[encoded data removed]"
     },
     "metadata": {},
     "output_type": "display_data"
    }
   ],
   "execution_count": 338
  },
  {
   "metadata": {},
   "cell_type": "markdown",
   "source": [
    "## 9. Model Evaluation and Predictions\n",
    "\n",
    "Next, we evaluate the model on the test set and predict closing prices.\n"
   ],
   "id": "4357e3cc36e56864"
  },
  {
   "metadata": {
    "ExecuteTime": {
     "end_time": "2025-02-23T01:53:50.548091Z",
     "start_time": "2025-02-23T01:53:49.091310Z"
    }
   },
   "cell_type": "code",
   "source": [
    "test_loss = model.evaluate(X_test, y_test)\n",
    "print(\"Test Loss :\", test_loss)"
   ],
   "id": "6d2ec1b660d3c9d4",
   "outputs": [
    {
     "name": "stdout",
     "output_type": "stream",
     "text": [
      "\u001B[1m46/46\u001B[0m \u001B[32m━━━━━━━━━━━━━━━━━━━━\u001B[0m\u001B[37m\u001B[0m \u001B[1m1s\u001B[0m 29ms/step - accuracy_5: 0.0000e+00 - loss: 2.7872 - mean_absolute_error: 1.3280 - r2: -20219.4746\n",
      "Test Loss : [6.160794734954834, 2.1728436946868896, -36210.60546875, 0.0]\n"
     ]
    }
   ],
   "execution_count": 339
  },
  {
   "metadata": {},
   "cell_type": "markdown",
   "source": [
    "## 10. Inverse Scaling and Metrics Calculation\n",
    "\n",
    "We inverse the scaling to get the original closing price values, then calculate performance metrics (R², MAE, etc.).\n"
   ],
   "id": "31c9973e357ed4df"
  },
  {
   "metadata": {
    "ExecuteTime": {
     "end_time": "2025-02-23T01:53:54.129664Z",
     "start_time": "2025-02-23T01:53:50.572111Z"
    }
   },
   "cell_type": "code",
   "source": [
    "# Inverse transform the predictions and true values\n",
    "y_pred_scaled = model.predict(X_test)\n",
    "y_test_unscaled = target_scaler.inverse_transform(y_test.reshape(-1,1))\n",
    "y_pred_unscaled = target_scaler.inverse_transform(y_pred_scaled.reshape(-1,1))\n",
    "\n",
    "# Calculate metrics using functions from scikit-learn\n",
    "from sklearn.metrics import r2_score, mean_absolute_error, mean_absolute_percentage_error\n",
    "\n",
    "rmse = np.sqrt(np.mean((y_test_unscaled - y_pred_unscaled) ** 2))\n",
    "mae = mean_absolute_error(y_test_unscaled, y_pred_unscaled)\n",
    "r2 = r2_score(y_test_unscaled, y_pred_unscaled)\n",
    "mape = mean_absolute_percentage_error(y_test_unscaled, y_pred_unscaled) * 100\n",
    "accuracy = ACCURACY_5(y_test_unscaled, y_pred_unscaled)\n",
    "\n",
    "print(\"----- Test Set Performance -----\")\n",
    "print(f\"RMSE: {rmse:.4f}\")\n",
    "print(f\"MAE: {mae:.4f}\")\n",
    "print(f\"R²: {r2:.4f}\")\n",
    "print(f\"Accuracy (5% tolerance): {accuracy:.2f}%\")\n",
    "print(f\"MAPE: {mape:.2f}%\")\n"
   ],
   "id": "9f4c89e76d5d295d",
   "outputs": [
    {
     "name": "stdout",
     "output_type": "stream",
     "text": [
      "\u001B[1m46/46\u001B[0m \u001B[32m━━━━━━━━━━━━━━━━━━━━\u001B[0m\u001B[37m\u001B[0m \u001B[1m4s\u001B[0m 43ms/step\n",
      "----- Test Set Performance -----\n",
      "RMSE: 10064.4895\n",
      "MAE: 8810.5259\n",
      "R²: -8.4362\n",
      "Accuracy (5% tolerance): 0.00%\n",
      "MAPE: 68.48%\n"
     ]
    }
   ],
   "execution_count": 340
  },
  {
   "metadata": {},
   "cell_type": "markdown",
   "source": [
    "## 11. Plotting Predictions vs. Real Values\n",
    "\n",
    "Finally, we plot the predictions against the real closing prices for the first 100 test samples.\n"
   ],
   "id": "e8311f0a1cca29a5"
  },
  {
   "metadata": {
    "ExecuteTime": {
     "end_time": "2025-02-23T01:53:55.048031Z",
     "start_time": "2025-02-23T01:53:54.148850Z"
    }
   },
   "cell_type": "code",
   "source": [
    "y_pred_scaled = model.predict(X_test)\n",
    "y_test_unscaled = target_scaler.inverse_transform(y_test.reshape(-1,1))\n",
    "y_pred_unscaled = target_scaler.inverse_transform(y_pred_scaled.reshape(-1,1))\n",
    "\n",
    "n_plot = 100\n",
    "plt.figure(figsize=(10, 5))\n",
    "plt.plot(y_test_unscaled[:n_plot], label='y real')\n",
    "plt.plot(y_pred_unscaled[:n_plot], label='y predicted')\n",
    "plt.xlabel(\"Index\")\n",
    "plt.ylabel(\"Close price\")\n",
    "plt.title(\"TCN Predictions vs Real values\")\n",
    "plt.legend()\n",
    "plt.show()"
   ],
   "id": "202cd8c8615f8cae",
   "outputs": [
    {
     "name": "stdout",
     "output_type": "stream",
     "text": [
      "\u001B[1m46/46\u001B[0m \u001B[32m━━━━━━━━━━━━━━━━━━━━\u001B[0m\u001B[37m\u001B[0m \u001B[1m1s\u001B[0m 16ms/step\n"
     ]
    },
    {
     "data": {
      "text/plain": [
       "<Figure size 1000x500 with 1 Axes>"
      ],
      "image/png": "[encoded data removed]"
     },
     "metadata": {},
     "output_type": "display_data"
    }
   ],
   "execution_count": 341
  }
 ],
 "metadata": {
  "kernelspec": {
   "display_name": "Python 3",
   "language": "python",
   "name": "python3"
  },
  "language_info": {
   "codemirror_mode": {
    "name": "ipython",
    "version": 2
   },
   "file_extension": ".py",
   "mimetype": "text/x-python",
   "name": "python",
   "nbconvert_exporter": "python",
   "pygments_lexer": "ipython2",
   "version": "2.7.6"
  }
 },
 "nbformat": 4,
 "nbformat_minor": 5
}
